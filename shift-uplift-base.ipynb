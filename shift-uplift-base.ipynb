{
  "metadata": {
    "kernelspec": {
      "language": "python",
      "display_name": "Python 3",
      "name": "python3"
    },
    "language_info": {
      "name": "python",
      "version": "3.7.12",
      "mimetype": "text/x-python",
      "codemirror_mode": {
        "name": "ipython",
        "version": 3
      },
      "pygments_lexer": "ipython3",
      "nbconvert_exporter": "python",
      "file_extension": ".py"
    },
    "colab": {
      "provenance": []
    }
  },
  "nbformat_minor": 0,
  "nbformat": 4,
  "cells": [
    {
      "cell_type": "code",
      "source": [
        "import numpy as np\n",
        "import pandas as pd\n",
        "import matplotlib.pyplot as plt\n",
        "import plotly.express as px\n",
        "import seaborn as sb\n",
        "\n",
        "import warnings\n",
        "import os\n",
        "import pickle\n",
        "\n",
        "from datetime import date, datetime\n",
        "\n",
        "from sklearn.preprocessing import MinMaxScaler, StandardScaler, PowerTransformer\n",
        "from sklearn.metrics import precision_score, recall_score, auc, accuracy_score,\\\n",
        "    roc_auc_score, f1_score, roc_curve, log_loss\n",
        "\n",
        "from sklearn.model_selection import train_test_split, StratifiedKFold,\\\n",
        "    GridSearchCV, RandomizedSearchCV, RepeatedKFold, KFold\n",
        "\n",
        "from sklearn.linear_model import LogisticRegression\n",
        "from sklearn.ensemble import RandomForestClassifier, GradientBoostingClassifier\n",
        "from sklearn.svm import SVC\n",
        "from sklearn.decomposition import PCA\n",
        "from sklearn.manifold import TSNE\n",
        "\n",
        "import catboost as cb\n",
        "import catboost.utils as cbu\n",
        "from catboost.utils import get_gpu_device_count\n",
        "\n",
        "import xgboost as xgb\n",
        "import lightgbm as lgb\n",
        "\n",
        "import optuna\n",
        "\n",
        "import hyperopt\n",
        "from hyperopt import tpe"
      ],
      "metadata": {
        "execution": {
          "iopub.status.busy": "2023-01-08T17:56:30.642191Z",
          "iopub.execute_input": "2023-01-08T17:56:30.642708Z",
          "iopub.status.idle": "2023-01-08T17:56:33.823600Z",
          "shell.execute_reply.started": "2023-01-08T17:56:30.642609Z",
          "shell.execute_reply": "2023-01-08T17:56:33.822522Z"
        },
        "trusted": true,
        "id": "vufiG5QiEoEd",
        "outputId": "ff043eb3-0626-4b1f-ef45-861f782eebf9"
      },
      "execution_count": null,
      "outputs": [
        {
          "output_type": "display_data",
          "data": {
            "text/plain": "<IPython.core.display.HTML object>",
            "text/html": "<style type='text/css'>\n.datatable table.frame { margin-bottom: 0; }\n.datatable table.frame thead { border-bottom: none; }\n.datatable table.frame tr.coltypes td {  color: #FFFFFF;  line-height: 6px;  padding: 0 0.5em;}\n.datatable .bool    { background: #DDDD99; }\n.datatable .object  { background: #565656; }\n.datatable .int     { background: #5D9E5D; }\n.datatable .float   { background: #4040CC; }\n.datatable .str     { background: #CC4040; }\n.datatable .time    { background: #40CC40; }\n.datatable .row_index {  background: var(--jp-border-color3);  border-right: 1px solid var(--jp-border-color0);  color: var(--jp-ui-font-color3);  font-size: 9px;}\n.datatable .frame tbody td { text-align: left; }\n.datatable .frame tr.coltypes .row_index {  background: var(--jp-border-color0);}\n.datatable th:nth-child(2) { padding-left: 12px; }\n.datatable .hellipsis {  color: var(--jp-cell-editor-border-color);}\n.datatable .vellipsis {  background: var(--jp-layout-color0);  color: var(--jp-cell-editor-border-color);}\n.datatable .na {  color: var(--jp-cell-editor-border-color);  font-size: 80%;}\n.datatable .sp {  opacity: 0.25;}\n.datatable .footer { font-size: 9px; }\n.datatable .frame_dimensions {  background: var(--jp-border-color3);  border-top: 1px solid var(--jp-border-color0);  color: var(--jp-ui-font-color3);  display: inline-block;  opacity: 0.6;  padding: 1px 10px 1px 5px;}\n</style>\n"
          },
          "metadata": {}
        }
      ]
    },
    {
      "cell_type": "code",
      "source": [
        "import plotly.io as pio\n",
        "pio.renderers.default='notebook'"
      ],
      "metadata": {
        "execution": {
          "iopub.status.busy": "2023-01-08T17:56:33.826014Z",
          "iopub.execute_input": "2023-01-08T17:56:33.827309Z",
          "iopub.status.idle": "2023-01-08T17:56:33.865205Z",
          "shell.execute_reply.started": "2023-01-08T17:56:33.827269Z",
          "shell.execute_reply": "2023-01-08T17:56:33.864295Z"
        },
        "trusted": true,
        "id": "qS8Bi2l3EoEj"
      },
      "execution_count": null,
      "outputs": []
    },
    {
      "cell_type": "code",
      "source": [
        "sb.set(rc={'figure.figsize':(8.5, 6.0)})"
      ],
      "metadata": {
        "execution": {
          "iopub.status.busy": "2023-01-08T17:56:33.866716Z",
          "iopub.execute_input": "2023-01-08T17:56:33.867898Z",
          "iopub.status.idle": "2023-01-08T17:56:33.875598Z",
          "shell.execute_reply.started": "2023-01-08T17:56:33.867850Z",
          "shell.execute_reply": "2023-01-08T17:56:33.874390Z"
        },
        "trusted": true,
        "id": "TMeU4bjwEoEk"
      },
      "execution_count": null,
      "outputs": []
    },
    {
      "cell_type": "code",
      "source": [
        "for dirname, _, filenames in os.walk('/kaggle/input'):\n",
        "    for filename in filenames:\n",
        "        print(os.path.join(dirname, filename))"
      ],
      "metadata": {
        "_uuid": "8f2839f25d086af736a60e9eeb907d3b93b6e0e5",
        "_cell_guid": "b1076dfc-b9ad-4769-8c92-a6c4dae69d19",
        "execution": {
          "iopub.status.busy": "2023-01-08T17:56:33.878247Z",
          "iopub.execute_input": "2023-01-08T17:56:33.879482Z",
          "iopub.status.idle": "2023-01-08T17:56:33.905026Z",
          "shell.execute_reply.started": "2023-01-08T17:56:33.879431Z",
          "shell.execute_reply": "2023-01-08T17:56:33.903816Z"
        },
        "trusted": true,
        "id": "VqJVIAwYEoEk",
        "outputId": "73b24cd4-dbca-4e54-b247-ab8a9b82654a"
      },
      "execution_count": null,
      "outputs": [
        {
          "name": "stdout",
          "text": "/kaggle/input/uplift-shift-23/baseline.csv\n/kaggle/input/uplift-shift-23/x5-uplift-valid/train_purch/train_purch.csv\n/kaggle/input/uplift-shift-23/x5-uplift-valid/data/products.csv\n/kaggle/input/uplift-shift-23/x5-uplift-valid/data/clients2.csv\n/kaggle/input/uplift-shift-23/x5-uplift-valid/data/train.csv\n/kaggle/input/uplift-shift-23/x5-uplift-valid/data/test.csv\n/kaggle/input/uplift-shift-23/x5-uplift-valid/test_purch/test_purch.csv\n",
          "output_type": "stream"
        }
      ]
    },
    {
      "cell_type": "code",
      "source": [
        "path_client = '/kaggle/input/uplift-shift-23/x5-uplift-valid/data/clients2.csv'\n",
        "path_products = '/kaggle/input/uplift-shift-23/x5-uplift-valid/data/products.csv'\n",
        "path_test = '/kaggle/input/uplift-shift-23/x5-uplift-valid/data/test.csv'\n",
        "path_train = '/kaggle/input/uplift-shift-23/x5-uplift-valid/data/train.csv'\n",
        "\n",
        "path_train_purch = '/kaggle/input/uplift-shift-23/x5-uplift-valid/train_purch/train_purch.csv'\n",
        "path_test_purch = '/kaggle/input/uplift-shift-23/x5-uplift-valid/test_purch/test_purch.csv'\n",
        "path_baseline = '/kaggle/input/uplift-shift-23/baseline.csv'"
      ],
      "metadata": {
        "execution": {
          "iopub.status.busy": "2023-01-08T17:56:33.906514Z",
          "iopub.execute_input": "2023-01-08T17:56:33.906832Z",
          "iopub.status.idle": "2023-01-08T17:56:33.911846Z",
          "shell.execute_reply.started": "2023-01-08T17:56:33.906804Z",
          "shell.execute_reply": "2023-01-08T17:56:33.910784Z"
        },
        "trusted": true,
        "id": "f4Mj3rB_EoEk"
      },
      "execution_count": null,
      "outputs": []
    },
    {
      "cell_type": "markdown",
      "source": [
        "## Load date"
      ],
      "metadata": {
        "id": "LAx8F82JEoEl"
      }
    },
    {
      "cell_type": "code",
      "source": [
        "df_client = pd.read_csv(path_client)\n",
        "df_products = pd.read_csv(path_products)\n",
        "df_train = pd.read_csv(path_train)\n",
        "df_test = pd.read_csv(path_test)\n",
        "\n",
        "df_train_purch = pd.read_csv(path_train_purch)\n",
        "df_test_purch = pd.read_csv(path_test_purch)\n",
        "df_baseline = pd.read_csv(path_baseline)"
      ],
      "metadata": {
        "execution": {
          "iopub.status.busy": "2023-01-08T17:56:33.912963Z",
          "iopub.execute_input": "2023-01-08T17:56:33.913259Z",
          "iopub.status.idle": "2023-01-08T17:57:44.210524Z",
          "shell.execute_reply.started": "2023-01-08T17:56:33.913232Z",
          "shell.execute_reply": "2023-01-08T17:57:44.209578Z"
        },
        "trusted": true,
        "id": "41IVt6SmEoEl"
      },
      "execution_count": null,
      "outputs": []
    },
    {
      "cell_type": "code",
      "source": [
        "df_train['target'] = np.int16(df_train['treatment_flg'] == df_train['purchased'])"
      ],
      "metadata": {
        "execution": {
          "iopub.status.busy": "2023-01-08T17:57:44.211638Z",
          "iopub.execute_input": "2023-01-08T17:57:44.211960Z",
          "iopub.status.idle": "2023-01-08T17:57:44.225472Z",
          "shell.execute_reply.started": "2023-01-08T17:57:44.211930Z",
          "shell.execute_reply": "2023-01-08T17:57:44.224084Z"
        },
        "trusted": true,
        "id": "8_hDamM6EoEm"
      },
      "execution_count": null,
      "outputs": []
    },
    {
      "cell_type": "code",
      "source": [
        "df_client.head()"
      ],
      "metadata": {
        "execution": {
          "iopub.status.busy": "2023-01-08T17:57:44.227781Z",
          "iopub.execute_input": "2023-01-08T17:57:44.228686Z",
          "iopub.status.idle": "2023-01-08T17:57:44.247648Z",
          "shell.execute_reply.started": "2023-01-08T17:57:44.228617Z",
          "shell.execute_reply": "2023-01-08T17:57:44.246400Z"
        },
        "trusted": true,
        "id": "gJrN9OlMEoEm",
        "outputId": "64bdfbd3-c374-4326-c84d-e2be3eba46db"
      },
      "execution_count": null,
      "outputs": [
        {
          "execution_count": 8,
          "output_type": "execute_result",
          "data": {
            "text/plain": "    client_id  client_id.1     first_issue_date    first_redeem_date  age  \\\n0  000012768d          NaN  2017-08-05 15:40:48  2018-01-04 19:30:07   45   \n1  000036f903          NaN  2017-04-10 13:54:23  2017-04-23 12:37:56   72   \n2  00010925a5          NaN  2018-07-24 16:21:29  2018-09-14 16:12:49   83   \n3  0001f552b0          NaN  2017-06-30 19:20:38  2018-08-28 12:59:45   33   \n4  00020e7b18          NaN  2017-11-27 11:41:45  2018-01-10 17:50:05   73   \n\n  gender  \n0      U  \n1      F  \n2      U  \n3      F  \n4      U  ",
            "text/html": "<div>\n<style scoped>\n    .dataframe tbody tr th:only-of-type {\n        vertical-align: middle;\n    }\n\n    .dataframe tbody tr th {\n        vertical-align: top;\n    }\n\n    .dataframe thead th {\n        text-align: right;\n    }\n</style>\n<table border=\"1\" class=\"dataframe\">\n  <thead>\n    <tr style=\"text-align: right;\">\n      <th></th>\n      <th>client_id</th>\n      <th>client_id.1</th>\n      <th>first_issue_date</th>\n      <th>first_redeem_date</th>\n      <th>age</th>\n      <th>gender</th>\n    </tr>\n  </thead>\n  <tbody>\n    <tr>\n      <th>0</th>\n      <td>000012768d</td>\n      <td>NaN</td>\n      <td>2017-08-05 15:40:48</td>\n      <td>2018-01-04 19:30:07</td>\n      <td>45</td>\n      <td>U</td>\n    </tr>\n    <tr>\n      <th>1</th>\n      <td>000036f903</td>\n      <td>NaN</td>\n      <td>2017-04-10 13:54:23</td>\n      <td>2017-04-23 12:37:56</td>\n      <td>72</td>\n      <td>F</td>\n    </tr>\n    <tr>\n      <th>2</th>\n      <td>00010925a5</td>\n      <td>NaN</td>\n      <td>2018-07-24 16:21:29</td>\n      <td>2018-09-14 16:12:49</td>\n      <td>83</td>\n      <td>U</td>\n    </tr>\n    <tr>\n      <th>3</th>\n      <td>0001f552b0</td>\n      <td>NaN</td>\n      <td>2017-06-30 19:20:38</td>\n      <td>2018-08-28 12:59:45</td>\n      <td>33</td>\n      <td>F</td>\n    </tr>\n    <tr>\n      <th>4</th>\n      <td>00020e7b18</td>\n      <td>NaN</td>\n      <td>2017-11-27 11:41:45</td>\n      <td>2018-01-10 17:50:05</td>\n      <td>73</td>\n      <td>U</td>\n    </tr>\n  </tbody>\n</table>\n</div>"
          },
          "metadata": {}
        }
      ]
    },
    {
      "cell_type": "code",
      "source": [
        "df_products.head()"
      ],
      "metadata": {
        "execution": {
          "iopub.status.busy": "2023-01-08T17:57:44.249173Z",
          "iopub.execute_input": "2023-01-08T17:57:44.249733Z",
          "iopub.status.idle": "2023-01-08T17:57:44.267532Z",
          "shell.execute_reply.started": "2023-01-08T17:57:44.249690Z",
          "shell.execute_reply": "2023-01-08T17:57:44.266277Z"
        },
        "trusted": true,
        "id": "W16TI1QlEoEm",
        "outputId": "c16abb6e-7ac6-481d-997d-dd0ba35f1d27"
      },
      "execution_count": null,
      "outputs": [
        {
          "execution_count": 9,
          "output_type": "execute_result",
          "data": {
            "text/plain": "   product_id     level_1     level_2     level_3     level_4  segment_id  \\\n0  0003020d3c  c3d3a8e8c6  c2a3ea8d5e  b7cda0ec0c  6376f2a852       123.0   \n1  0003870676  e344ab2e71  52f13dac0c  d3cfe81323  6dc544533f       105.0   \n2  0003ceaf69  c3d3a8e8c6  f2333c90fb  419bc5b424  f6148afbc0       271.0   \n3  000701e093  ec62ce61e3  4202626fcb  88a515c084  48cf3d488f       172.0   \n4  0007149564  e344ab2e71  52f13dac0c  d3cfe81323  6dc544533f       105.0   \n\n     brand_id   vendor_id  netto  is_own_trademark  is_alcohol  \n0  394a54a7c1  9eaff48661  0.400                 0           0  \n1  acd3dd483f  10486c3cf0  0.680                 0           0  \n2  f597581079  764e660dda  0.500                 0           0  \n3  54a90fe769  03c2d70bad  0.112                 0           0  \n4  63417fe1f3  f329130198  0.600                 0           0  ",
            "text/html": "<div>\n<style scoped>\n    .dataframe tbody tr th:only-of-type {\n        vertical-align: middle;\n    }\n\n    .dataframe tbody tr th {\n        vertical-align: top;\n    }\n\n    .dataframe thead th {\n        text-align: right;\n    }\n</style>\n<table border=\"1\" class=\"dataframe\">\n  <thead>\n    <tr style=\"text-align: right;\">\n      <th></th>\n      <th>product_id</th>\n      <th>level_1</th>\n      <th>level_2</th>\n      <th>level_3</th>\n      <th>level_4</th>\n      <th>segment_id</th>\n      <th>brand_id</th>\n      <th>vendor_id</th>\n      <th>netto</th>\n      <th>is_own_trademark</th>\n      <th>is_alcohol</th>\n    </tr>\n  </thead>\n  <tbody>\n    <tr>\n      <th>0</th>\n      <td>0003020d3c</td>\n      <td>c3d3a8e8c6</td>\n      <td>c2a3ea8d5e</td>\n      <td>b7cda0ec0c</td>\n      <td>6376f2a852</td>\n      <td>123.0</td>\n      <td>394a54a7c1</td>\n      <td>9eaff48661</td>\n      <td>0.400</td>\n      <td>0</td>\n      <td>0</td>\n    </tr>\n    <tr>\n      <th>1</th>\n      <td>0003870676</td>\n      <td>e344ab2e71</td>\n      <td>52f13dac0c</td>\n      <td>d3cfe81323</td>\n      <td>6dc544533f</td>\n      <td>105.0</td>\n      <td>acd3dd483f</td>\n      <td>10486c3cf0</td>\n      <td>0.680</td>\n      <td>0</td>\n      <td>0</td>\n    </tr>\n    <tr>\n      <th>2</th>\n      <td>0003ceaf69</td>\n      <td>c3d3a8e8c6</td>\n      <td>f2333c90fb</td>\n      <td>419bc5b424</td>\n      <td>f6148afbc0</td>\n      <td>271.0</td>\n      <td>f597581079</td>\n      <td>764e660dda</td>\n      <td>0.500</td>\n      <td>0</td>\n      <td>0</td>\n    </tr>\n    <tr>\n      <th>3</th>\n      <td>000701e093</td>\n      <td>ec62ce61e3</td>\n      <td>4202626fcb</td>\n      <td>88a515c084</td>\n      <td>48cf3d488f</td>\n      <td>172.0</td>\n      <td>54a90fe769</td>\n      <td>03c2d70bad</td>\n      <td>0.112</td>\n      <td>0</td>\n      <td>0</td>\n    </tr>\n    <tr>\n      <th>4</th>\n      <td>0007149564</td>\n      <td>e344ab2e71</td>\n      <td>52f13dac0c</td>\n      <td>d3cfe81323</td>\n      <td>6dc544533f</td>\n      <td>105.0</td>\n      <td>63417fe1f3</td>\n      <td>f329130198</td>\n      <td>0.600</td>\n      <td>0</td>\n      <td>0</td>\n    </tr>\n  </tbody>\n</table>\n</div>"
          },
          "metadata": {}
        }
      ]
    },
    {
      "cell_type": "code",
      "source": [
        "df_train.head()"
      ],
      "metadata": {
        "execution": {
          "iopub.status.busy": "2023-01-08T17:57:44.273194Z",
          "iopub.execute_input": "2023-01-08T17:57:44.273554Z",
          "iopub.status.idle": "2023-01-08T17:57:44.286274Z",
          "shell.execute_reply.started": "2023-01-08T17:57:44.273525Z",
          "shell.execute_reply": "2023-01-08T17:57:44.285081Z"
        },
        "trusted": true,
        "id": "uOq9natHEoEn",
        "outputId": "c18404ed-91e0-49b1-f02b-f0c81fd1306e"
      },
      "execution_count": null,
      "outputs": [
        {
          "execution_count": 10,
          "output_type": "execute_result",
          "data": {
            "text/plain": "    client_id  treatment_flg  purchased  target\n0  ad6561e2d8              1          1       1\n1  7c1ccbf93f              1          1       1\n2  b58fadcab6              1          1       1\n3  e99e6fabb9              0          0       1\n4  27fb6f8520              1          1       1",
            "text/html": "<div>\n<style scoped>\n    .dataframe tbody tr th:only-of-type {\n        vertical-align: middle;\n    }\n\n    .dataframe tbody tr th {\n        vertical-align: top;\n    }\n\n    .dataframe thead th {\n        text-align: right;\n    }\n</style>\n<table border=\"1\" class=\"dataframe\">\n  <thead>\n    <tr style=\"text-align: right;\">\n      <th></th>\n      <th>client_id</th>\n      <th>treatment_flg</th>\n      <th>purchased</th>\n      <th>target</th>\n    </tr>\n  </thead>\n  <tbody>\n    <tr>\n      <th>0</th>\n      <td>ad6561e2d8</td>\n      <td>1</td>\n      <td>1</td>\n      <td>1</td>\n    </tr>\n    <tr>\n      <th>1</th>\n      <td>7c1ccbf93f</td>\n      <td>1</td>\n      <td>1</td>\n      <td>1</td>\n    </tr>\n    <tr>\n      <th>2</th>\n      <td>b58fadcab6</td>\n      <td>1</td>\n      <td>1</td>\n      <td>1</td>\n    </tr>\n    <tr>\n      <th>3</th>\n      <td>e99e6fabb9</td>\n      <td>0</td>\n      <td>0</td>\n      <td>1</td>\n    </tr>\n    <tr>\n      <th>4</th>\n      <td>27fb6f8520</td>\n      <td>1</td>\n      <td>1</td>\n      <td>1</td>\n    </tr>\n  </tbody>\n</table>\n</div>"
          },
          "metadata": {}
        }
      ]
    },
    {
      "cell_type": "code",
      "source": [
        "df_train_purch.info()\n",
        "df_train_purch.head()"
      ],
      "metadata": {
        "execution": {
          "iopub.status.busy": "2023-01-08T17:57:44.287711Z",
          "iopub.execute_input": "2023-01-08T17:57:44.288067Z",
          "iopub.status.idle": "2023-01-08T17:57:44.323350Z",
          "shell.execute_reply.started": "2023-01-08T17:57:44.288029Z",
          "shell.execute_reply": "2023-01-08T17:57:44.322292Z"
        },
        "trusted": true,
        "id": "dP57MF0oEoEn",
        "outputId": "42251003-00ba-43b4-eb17-e05ea70b59d5"
      },
      "execution_count": null,
      "outputs": [
        {
          "name": "stdout",
          "text": "<class 'pandas.core.frame.DataFrame'>\nRangeIndex: 15998952 entries, 0 to 15998951\nData columns (total 13 columns):\n #   Column                   Dtype  \n---  ------                   -----  \n 0   client_id                object \n 1   transaction_id           object \n 2   transaction_datetime     object \n 3   regular_points_received  float64\n 4   express_points_received  float64\n 5   regular_points_spent     float64\n 6   express_points_spent     float64\n 7   purchase_sum             float64\n 8   store_id                 object \n 9   product_id               object \n 10  product_quantity         float64\n 11  trn_sum_from_iss         float64\n 12  trn_sum_from_red         float64\ndtypes: float64(8), object(5)\nmemory usage: 1.5+ GB\n",
          "output_type": "stream"
        },
        {
          "execution_count": 11,
          "output_type": "execute_result",
          "data": {
            "text/plain": "    client_id transaction_id transaction_datetime  regular_points_received  \\\n0  000012768d     7e3e2e3984  2018-12-01 07:12:45                     10.0   \n1  000012768d     7e3e2e3984  2018-12-01 07:12:45                     10.0   \n2  000012768d     7e3e2e3984  2018-12-01 07:12:45                     10.0   \n3  000012768d     7e3e2e3984  2018-12-01 07:12:45                     10.0   \n4  000012768d     7e3e2e3984  2018-12-01 07:12:45                     10.0   \n\n   express_points_received  regular_points_spent  express_points_spent  \\\n0                      0.0                   0.0                   0.0   \n1                      0.0                   0.0                   0.0   \n2                      0.0                   0.0                   0.0   \n3                      0.0                   0.0                   0.0   \n4                      0.0                   0.0                   0.0   \n\n   purchase_sum    store_id  product_id  product_quantity  trn_sum_from_iss  \\\n0        1007.0  54a4a11a29  9a80204f78               2.0              80.0   \n1        1007.0  54a4a11a29  da89ebd374               1.0              65.0   \n2        1007.0  54a4a11a29  0a95e1151d               1.0              24.0   \n3        1007.0  54a4a11a29  4055b15e4a               2.0              50.0   \n4        1007.0  54a4a11a29  a685f1916b               1.0              22.0   \n\n   trn_sum_from_red  \n0               NaN  \n1               NaN  \n2               NaN  \n3               NaN  \n4               NaN  ",
            "text/html": "<div>\n<style scoped>\n    .dataframe tbody tr th:only-of-type {\n        vertical-align: middle;\n    }\n\n    .dataframe tbody tr th {\n        vertical-align: top;\n    }\n\n    .dataframe thead th {\n        text-align: right;\n    }\n</style>\n<table border=\"1\" class=\"dataframe\">\n  <thead>\n    <tr style=\"text-align: right;\">\n      <th></th>\n      <th>client_id</th>\n      <th>transaction_id</th>\n      <th>transaction_datetime</th>\n      <th>regular_points_received</th>\n      <th>express_points_received</th>\n      <th>regular_points_spent</th>\n      <th>express_points_spent</th>\n      <th>purchase_sum</th>\n      <th>store_id</th>\n      <th>product_id</th>\n      <th>product_quantity</th>\n      <th>trn_sum_from_iss</th>\n      <th>trn_sum_from_red</th>\n    </tr>\n  </thead>\n  <tbody>\n    <tr>\n      <th>0</th>\n      <td>000012768d</td>\n      <td>7e3e2e3984</td>\n      <td>2018-12-01 07:12:45</td>\n      <td>10.0</td>\n      <td>0.0</td>\n      <td>0.0</td>\n      <td>0.0</td>\n      <td>1007.0</td>\n      <td>54a4a11a29</td>\n      <td>9a80204f78</td>\n      <td>2.0</td>\n      <td>80.0</td>\n      <td>NaN</td>\n    </tr>\n    <tr>\n      <th>1</th>\n      <td>000012768d</td>\n      <td>7e3e2e3984</td>\n      <td>2018-12-01 07:12:45</td>\n      <td>10.0</td>\n      <td>0.0</td>\n      <td>0.0</td>\n      <td>0.0</td>\n      <td>1007.0</td>\n      <td>54a4a11a29</td>\n      <td>da89ebd374</td>\n      <td>1.0</td>\n      <td>65.0</td>\n      <td>NaN</td>\n    </tr>\n    <tr>\n      <th>2</th>\n      <td>000012768d</td>\n      <td>7e3e2e3984</td>\n      <td>2018-12-01 07:12:45</td>\n      <td>10.0</td>\n      <td>0.0</td>\n      <td>0.0</td>\n      <td>0.0</td>\n      <td>1007.0</td>\n      <td>54a4a11a29</td>\n      <td>0a95e1151d</td>\n      <td>1.0</td>\n      <td>24.0</td>\n      <td>NaN</td>\n    </tr>\n    <tr>\n      <th>3</th>\n      <td>000012768d</td>\n      <td>7e3e2e3984</td>\n      <td>2018-12-01 07:12:45</td>\n      <td>10.0</td>\n      <td>0.0</td>\n      <td>0.0</td>\n      <td>0.0</td>\n      <td>1007.0</td>\n      <td>54a4a11a29</td>\n      <td>4055b15e4a</td>\n      <td>2.0</td>\n      <td>50.0</td>\n      <td>NaN</td>\n    </tr>\n    <tr>\n      <th>4</th>\n      <td>000012768d</td>\n      <td>7e3e2e3984</td>\n      <td>2018-12-01 07:12:45</td>\n      <td>10.0</td>\n      <td>0.0</td>\n      <td>0.0</td>\n      <td>0.0</td>\n      <td>1007.0</td>\n      <td>54a4a11a29</td>\n      <td>a685f1916b</td>\n      <td>1.0</td>\n      <td>22.0</td>\n      <td>NaN</td>\n    </tr>\n  </tbody>\n</table>\n</div>"
          },
          "metadata": {}
        }
      ]
    },
    {
      "cell_type": "markdown",
      "source": [
        "## Data processing"
      ],
      "metadata": {
        "id": "TqRdNriWEoEn"
      }
    },
    {
      "cell_type": "markdown",
      "source": [
        "Client age"
      ],
      "metadata": {
        "id": "2LpByrahEoEn"
      }
    },
    {
      "cell_type": "code",
      "source": [
        "first_quant, three_quant = np.percentile(df_client.age, [25, 75])\n",
        "interval_quant = three_quant - first_quant\n",
        "max_value = three_quant + interval_quant * 1.5\n",
        "min_value = first_quant - interval_quant * 1.5\n",
        "df_client.loc[(df_client.age > max_value) | (df_client.age < min_value), 'age'] = df_client.age.median()# np.nan\n",
        "# median_age = df_client.age.median()\n",
        "# df_client['age'] = df_client['age'].fillna(median_age)"
      ],
      "metadata": {
        "execution": {
          "iopub.status.busy": "2023-01-08T17:57:44.324762Z",
          "iopub.execute_input": "2023-01-08T17:57:44.325175Z",
          "iopub.status.idle": "2023-01-08T17:57:44.346646Z",
          "shell.execute_reply.started": "2023-01-08T17:57:44.325145Z",
          "shell.execute_reply": "2023-01-08T17:57:44.345734Z"
        },
        "trusted": true,
        "id": "Bpe7nfbMEoEn"
      },
      "execution_count": null,
      "outputs": []
    },
    {
      "cell_type": "code",
      "source": [
        "# df_client.loc[(df_client.age > 100) | (df_client.age < 14), 'age'] = df_client.age.median()"
      ],
      "metadata": {
        "execution": {
          "iopub.status.busy": "2023-01-08T17:57:44.348012Z",
          "iopub.execute_input": "2023-01-08T17:57:44.348309Z",
          "iopub.status.idle": "2023-01-08T17:57:44.353160Z",
          "shell.execute_reply.started": "2023-01-08T17:57:44.348284Z",
          "shell.execute_reply": "2023-01-08T17:57:44.352063Z"
        },
        "trusted": true,
        "id": "fAT44zmjEoEo"
      },
      "execution_count": null,
      "outputs": []
    },
    {
      "cell_type": "code",
      "source": [
        "df_client['first_issue_date'] = pd.to_datetime(df_client.first_issue_date, format='%Y-%m-%d %H:%M:%S', errors='coerce')\n",
        "df_client['first_redeem_date'] = pd.to_datetime(df_client.first_redeem_date, format='%Y-%m-%d %H:%M:%S', errors='coerce')\n",
        "df_train_purch['transaction_datetime'] = pd.to_datetime(df_train_purch.transaction_datetime, format='%Y-%m-%d %H:%M:%S', errors='coerce')\n",
        "df_test_purch['transaction_datetime'] = pd.to_datetime(df_test_purch.transaction_datetime, format='%Y-%m-%d %H:%M:%S', errors='coerce')"
      ],
      "metadata": {
        "execution": {
          "iopub.status.busy": "2023-01-08T17:57:44.354528Z",
          "iopub.execute_input": "2023-01-08T17:57:44.355663Z",
          "iopub.status.idle": "2023-01-08T17:57:54.056441Z",
          "shell.execute_reply.started": "2023-01-08T17:57:44.355620Z",
          "shell.execute_reply": "2023-01-08T17:57:54.055549Z"
        },
        "trusted": true,
        "id": "wEfdqfDgEoEo"
      },
      "execution_count": null,
      "outputs": []
    },
    {
      "cell_type": "markdown",
      "source": [
        "Client first_redeem_date"
      ],
      "metadata": {
        "id": "3xGEMq3vEoEo"
      }
    },
    {
      "cell_type": "code",
      "source": [
        "df_client.info()"
      ],
      "metadata": {
        "execution": {
          "iopub.status.busy": "2023-01-08T17:57:54.057740Z",
          "iopub.execute_input": "2023-01-08T17:57:54.058174Z",
          "iopub.status.idle": "2023-01-08T17:57:54.091042Z",
          "shell.execute_reply.started": "2023-01-08T17:57:54.058129Z",
          "shell.execute_reply": "2023-01-08T17:57:54.089243Z"
        },
        "trusted": true,
        "id": "zvGlT3LNEoEo",
        "outputId": "92ee906c-8c6f-4a3d-aa1e-170a1827e65c"
      },
      "execution_count": null,
      "outputs": [
        {
          "name": "stdout",
          "text": "<class 'pandas.core.frame.DataFrame'>\nRangeIndex: 200039 entries, 0 to 200038\nData columns (total 6 columns):\n #   Column             Non-Null Count   Dtype         \n---  ------             --------------   -----         \n 0   client_id          200039 non-null  object        \n 1   client_id.1        0 non-null       float64       \n 2   first_issue_date   200039 non-null  datetime64[ns]\n 3   first_redeem_date  182493 non-null  datetime64[ns]\n 4   age                200039 non-null  int64         \n 5   gender             200039 non-null  object        \ndtypes: datetime64[ns](2), float64(1), int64(1), object(2)\nmemory usage: 9.2+ MB\n",
          "output_type": "stream"
        }
      ]
    },
    {
      "cell_type": "code",
      "source": [
        "df_client.first_redeem_date.fillna(df_client.first_redeem_date.median(), inplace=True)"
      ],
      "metadata": {
        "execution": {
          "iopub.status.busy": "2023-01-08T17:57:54.092634Z",
          "iopub.execute_input": "2023-01-08T17:57:54.096010Z",
          "iopub.status.idle": "2023-01-08T17:57:54.109522Z",
          "shell.execute_reply.started": "2023-01-08T17:57:54.095973Z",
          "shell.execute_reply": "2023-01-08T17:57:54.108222Z"
        },
        "trusted": true,
        "id": "c6ZIWe7_EoEo"
      },
      "execution_count": null,
      "outputs": []
    },
    {
      "cell_type": "markdown",
      "source": [
        "The merging client dateframe with train/test set"
      ],
      "metadata": {
        "id": "g7BVq6OxEoEp"
      }
    },
    {
      "cell_type": "code",
      "source": [
        "df_train = df_client.drop(['client_id.1'], axis=1).merge(df_train.drop(['treatment_flg', 'purchased'], axis=1))\n",
        "df_train.head()"
      ],
      "metadata": {
        "execution": {
          "iopub.status.busy": "2023-01-08T17:57:54.113138Z",
          "iopub.execute_input": "2023-01-08T17:57:54.113479Z",
          "iopub.status.idle": "2023-01-08T17:57:54.329952Z",
          "shell.execute_reply.started": "2023-01-08T17:57:54.113451Z",
          "shell.execute_reply": "2023-01-08T17:57:54.328816Z"
        },
        "trusted": true,
        "id": "9-d3nW2KEoEp",
        "outputId": "f40b7f8f-bf9a-4042-892c-7da2a950b91a"
      },
      "execution_count": null,
      "outputs": [
        {
          "execution_count": 17,
          "output_type": "execute_result",
          "data": {
            "text/plain": "    client_id    first_issue_date   first_redeem_date  age gender  target\n0  000012768d 2017-08-05 15:40:48 2018-01-04 19:30:07   45      U       0\n1  000036f903 2017-04-10 13:54:23 2017-04-23 12:37:56   72      F       1\n2  0001f552b0 2017-06-30 19:20:38 2018-08-28 12:59:45   33      F       1\n3  00020e7b18 2017-11-27 11:41:45 2018-01-10 17:50:05   73      U       1\n4  000220a0a7 2017-12-09 17:26:20 2018-10-04 14:59:29   45      M       0",
            "text/html": "<div>\n<style scoped>\n    .dataframe tbody tr th:only-of-type {\n        vertical-align: middle;\n    }\n\n    .dataframe tbody tr th {\n        vertical-align: top;\n    }\n\n    .dataframe thead th {\n        text-align: right;\n    }\n</style>\n<table border=\"1\" class=\"dataframe\">\n  <thead>\n    <tr style=\"text-align: right;\">\n      <th></th>\n      <th>client_id</th>\n      <th>first_issue_date</th>\n      <th>first_redeem_date</th>\n      <th>age</th>\n      <th>gender</th>\n      <th>target</th>\n    </tr>\n  </thead>\n  <tbody>\n    <tr>\n      <th>0</th>\n      <td>000012768d</td>\n      <td>2017-08-05 15:40:48</td>\n      <td>2018-01-04 19:30:07</td>\n      <td>45</td>\n      <td>U</td>\n      <td>0</td>\n    </tr>\n    <tr>\n      <th>1</th>\n      <td>000036f903</td>\n      <td>2017-04-10 13:54:23</td>\n      <td>2017-04-23 12:37:56</td>\n      <td>72</td>\n      <td>F</td>\n      <td>1</td>\n    </tr>\n    <tr>\n      <th>2</th>\n      <td>0001f552b0</td>\n      <td>2017-06-30 19:20:38</td>\n      <td>2018-08-28 12:59:45</td>\n      <td>33</td>\n      <td>F</td>\n      <td>1</td>\n    </tr>\n    <tr>\n      <th>3</th>\n      <td>00020e7b18</td>\n      <td>2017-11-27 11:41:45</td>\n      <td>2018-01-10 17:50:05</td>\n      <td>73</td>\n      <td>U</td>\n      <td>1</td>\n    </tr>\n    <tr>\n      <th>4</th>\n      <td>000220a0a7</td>\n      <td>2017-12-09 17:26:20</td>\n      <td>2018-10-04 14:59:29</td>\n      <td>45</td>\n      <td>M</td>\n      <td>0</td>\n    </tr>\n  </tbody>\n</table>\n</div>"
          },
          "metadata": {}
        }
      ]
    },
    {
      "cell_type": "code",
      "source": [
        "df_test = df_client.drop(['client_id.1'], axis=1).merge(df_test)\n",
        "df_test.head()"
      ],
      "metadata": {
        "execution": {
          "iopub.status.busy": "2023-01-08T17:57:54.331136Z",
          "iopub.execute_input": "2023-01-08T17:57:54.332714Z",
          "iopub.status.idle": "2023-01-08T17:57:54.478638Z",
          "shell.execute_reply.started": "2023-01-08T17:57:54.332672Z",
          "shell.execute_reply": "2023-01-08T17:57:54.477625Z"
        },
        "trusted": true,
        "id": "hlmCyiB5EoEp",
        "outputId": "5a65c531-063c-4ff6-e6ee-b897a1ba4146"
      },
      "execution_count": null,
      "outputs": [
        {
          "execution_count": 18,
          "output_type": "execute_result",
          "data": {
            "text/plain": "    client_id    first_issue_date   first_redeem_date  age gender\n0  00010925a5 2018-07-24 16:21:29 2018-09-14 16:12:49   83      U\n1  00035a21d9 2019-02-09 14:46:22 2019-03-02 15:18:35   69      U\n2  00038f9200 2018-12-07 14:03:50 2019-01-12 13:57:20   79      U\n3  0004315e57 2018-11-25 16:20:56 2019-02-02 15:02:43   38      U\n4  0006fca4bf 2019-02-20 10:47:30 2018-06-06 17:15:02   57      U",
            "text/html": "<div>\n<style scoped>\n    .dataframe tbody tr th:only-of-type {\n        vertical-align: middle;\n    }\n\n    .dataframe tbody tr th {\n        vertical-align: top;\n    }\n\n    .dataframe thead th {\n        text-align: right;\n    }\n</style>\n<table border=\"1\" class=\"dataframe\">\n  <thead>\n    <tr style=\"text-align: right;\">\n      <th></th>\n      <th>client_id</th>\n      <th>first_issue_date</th>\n      <th>first_redeem_date</th>\n      <th>age</th>\n      <th>gender</th>\n    </tr>\n  </thead>\n  <tbody>\n    <tr>\n      <th>0</th>\n      <td>00010925a5</td>\n      <td>2018-07-24 16:21:29</td>\n      <td>2018-09-14 16:12:49</td>\n      <td>83</td>\n      <td>U</td>\n    </tr>\n    <tr>\n      <th>1</th>\n      <td>00035a21d9</td>\n      <td>2019-02-09 14:46:22</td>\n      <td>2019-03-02 15:18:35</td>\n      <td>69</td>\n      <td>U</td>\n    </tr>\n    <tr>\n      <th>2</th>\n      <td>00038f9200</td>\n      <td>2018-12-07 14:03:50</td>\n      <td>2019-01-12 13:57:20</td>\n      <td>79</td>\n      <td>U</td>\n    </tr>\n    <tr>\n      <th>3</th>\n      <td>0004315e57</td>\n      <td>2018-11-25 16:20:56</td>\n      <td>2019-02-02 15:02:43</td>\n      <td>38</td>\n      <td>U</td>\n    </tr>\n    <tr>\n      <th>4</th>\n      <td>0006fca4bf</td>\n      <td>2019-02-20 10:47:30</td>\n      <td>2018-06-06 17:15:02</td>\n      <td>57</td>\n      <td>U</td>\n    </tr>\n  </tbody>\n</table>\n</div>"
          },
          "metadata": {}
        }
      ]
    },
    {
      "cell_type": "markdown",
      "source": [
        "Processing customer purchases"
      ],
      "metadata": {
        "id": "CNnCfGkAEoEp"
      }
    },
    {
      "cell_type": "code",
      "source": [
        "df_train_purch.head()"
      ],
      "metadata": {
        "execution": {
          "iopub.status.busy": "2023-01-08T17:57:54.479860Z",
          "iopub.execute_input": "2023-01-08T17:57:54.480144Z",
          "iopub.status.idle": "2023-01-08T17:57:54.501415Z",
          "shell.execute_reply.started": "2023-01-08T17:57:54.480117Z",
          "shell.execute_reply": "2023-01-08T17:57:54.500698Z"
        },
        "trusted": true,
        "id": "ooMnh7orEoEp",
        "outputId": "f0bc1acf-c427-45c0-d995-c79519854aea"
      },
      "execution_count": null,
      "outputs": [
        {
          "execution_count": 19,
          "output_type": "execute_result",
          "data": {
            "text/plain": "    client_id transaction_id transaction_datetime  regular_points_received  \\\n0  000012768d     7e3e2e3984  2018-12-01 07:12:45                     10.0   \n1  000012768d     7e3e2e3984  2018-12-01 07:12:45                     10.0   \n2  000012768d     7e3e2e3984  2018-12-01 07:12:45                     10.0   \n3  000012768d     7e3e2e3984  2018-12-01 07:12:45                     10.0   \n4  000012768d     7e3e2e3984  2018-12-01 07:12:45                     10.0   \n\n   express_points_received  regular_points_spent  express_points_spent  \\\n0                      0.0                   0.0                   0.0   \n1                      0.0                   0.0                   0.0   \n2                      0.0                   0.0                   0.0   \n3                      0.0                   0.0                   0.0   \n4                      0.0                   0.0                   0.0   \n\n   purchase_sum    store_id  product_id  product_quantity  trn_sum_from_iss  \\\n0        1007.0  54a4a11a29  9a80204f78               2.0              80.0   \n1        1007.0  54a4a11a29  da89ebd374               1.0              65.0   \n2        1007.0  54a4a11a29  0a95e1151d               1.0              24.0   \n3        1007.0  54a4a11a29  4055b15e4a               2.0              50.0   \n4        1007.0  54a4a11a29  a685f1916b               1.0              22.0   \n\n   trn_sum_from_red  \n0               NaN  \n1               NaN  \n2               NaN  \n3               NaN  \n4               NaN  ",
            "text/html": "<div>\n<style scoped>\n    .dataframe tbody tr th:only-of-type {\n        vertical-align: middle;\n    }\n\n    .dataframe tbody tr th {\n        vertical-align: top;\n    }\n\n    .dataframe thead th {\n        text-align: right;\n    }\n</style>\n<table border=\"1\" class=\"dataframe\">\n  <thead>\n    <tr style=\"text-align: right;\">\n      <th></th>\n      <th>client_id</th>\n      <th>transaction_id</th>\n      <th>transaction_datetime</th>\n      <th>regular_points_received</th>\n      <th>express_points_received</th>\n      <th>regular_points_spent</th>\n      <th>express_points_spent</th>\n      <th>purchase_sum</th>\n      <th>store_id</th>\n      <th>product_id</th>\n      <th>product_quantity</th>\n      <th>trn_sum_from_iss</th>\n      <th>trn_sum_from_red</th>\n    </tr>\n  </thead>\n  <tbody>\n    <tr>\n      <th>0</th>\n      <td>000012768d</td>\n      <td>7e3e2e3984</td>\n      <td>2018-12-01 07:12:45</td>\n      <td>10.0</td>\n      <td>0.0</td>\n      <td>0.0</td>\n      <td>0.0</td>\n      <td>1007.0</td>\n      <td>54a4a11a29</td>\n      <td>9a80204f78</td>\n      <td>2.0</td>\n      <td>80.0</td>\n      <td>NaN</td>\n    </tr>\n    <tr>\n      <th>1</th>\n      <td>000012768d</td>\n      <td>7e3e2e3984</td>\n      <td>2018-12-01 07:12:45</td>\n      <td>10.0</td>\n      <td>0.0</td>\n      <td>0.0</td>\n      <td>0.0</td>\n      <td>1007.0</td>\n      <td>54a4a11a29</td>\n      <td>da89ebd374</td>\n      <td>1.0</td>\n      <td>65.0</td>\n      <td>NaN</td>\n    </tr>\n    <tr>\n      <th>2</th>\n      <td>000012768d</td>\n      <td>7e3e2e3984</td>\n      <td>2018-12-01 07:12:45</td>\n      <td>10.0</td>\n      <td>0.0</td>\n      <td>0.0</td>\n      <td>0.0</td>\n      <td>1007.0</td>\n      <td>54a4a11a29</td>\n      <td>0a95e1151d</td>\n      <td>1.0</td>\n      <td>24.0</td>\n      <td>NaN</td>\n    </tr>\n    <tr>\n      <th>3</th>\n      <td>000012768d</td>\n      <td>7e3e2e3984</td>\n      <td>2018-12-01 07:12:45</td>\n      <td>10.0</td>\n      <td>0.0</td>\n      <td>0.0</td>\n      <td>0.0</td>\n      <td>1007.0</td>\n      <td>54a4a11a29</td>\n      <td>4055b15e4a</td>\n      <td>2.0</td>\n      <td>50.0</td>\n      <td>NaN</td>\n    </tr>\n    <tr>\n      <th>4</th>\n      <td>000012768d</td>\n      <td>7e3e2e3984</td>\n      <td>2018-12-01 07:12:45</td>\n      <td>10.0</td>\n      <td>0.0</td>\n      <td>0.0</td>\n      <td>0.0</td>\n      <td>1007.0</td>\n      <td>54a4a11a29</td>\n      <td>a685f1916b</td>\n      <td>1.0</td>\n      <td>22.0</td>\n      <td>NaN</td>\n    </tr>\n  </tbody>\n</table>\n</div>"
          },
          "metadata": {}
        }
      ]
    },
    {
      "cell_type": "markdown",
      "source": [
        "First and last transaction"
      ],
      "metadata": {
        "id": "VthzKv9lEoEp"
      }
    },
    {
      "cell_type": "code",
      "source": [
        "train_client_transaction = df_train_purch.groupby('client_id')\\\n",
        "    .agg(first_transaction=('transaction_datetime', 'min'), last_transaction=('transaction_datetime', 'max')).reset_index()\n",
        "df_train = train_client_transaction.merge(df_train)"
      ],
      "metadata": {
        "execution": {
          "iopub.status.busy": "2023-01-08T17:57:54.502316Z",
          "iopub.execute_input": "2023-01-08T17:57:54.502651Z",
          "iopub.status.idle": "2023-01-08T17:57:56.581851Z",
          "shell.execute_reply.started": "2023-01-08T17:57:54.502623Z",
          "shell.execute_reply": "2023-01-08T17:57:56.580978Z"
        },
        "trusted": true,
        "id": "SiiM355CEoEp"
      },
      "execution_count": null,
      "outputs": []
    },
    {
      "cell_type": "code",
      "source": [
        "test_client_transaction = df_test_purch.groupby('client_id')\\\n",
        "    .agg(first_transaction=('transaction_datetime', 'min'), last_transaction=('transaction_datetime', 'max')).reset_index()\n",
        "df_test = test_client_transaction.merge(df_test)"
      ],
      "metadata": {
        "execution": {
          "iopub.status.busy": "2023-01-08T17:57:56.582998Z",
          "iopub.execute_input": "2023-01-08T17:57:56.583298Z",
          "iopub.status.idle": "2023-01-08T17:57:57.477461Z",
          "shell.execute_reply.started": "2023-01-08T17:57:56.583270Z",
          "shell.execute_reply": "2023-01-08T17:57:57.476514Z"
        },
        "trusted": true,
        "id": "8jSmP5FTEoEp"
      },
      "execution_count": null,
      "outputs": []
    },
    {
      "cell_type": "markdown",
      "source": [
        "Mean and sum for points, purchase by clients"
      ],
      "metadata": {
        "id": "bv2VvHadEoEq"
      }
    },
    {
      "cell_type": "code",
      "source": [
        "train_transaction = df_train_purch.groupby(['client_id', 'transaction_id'])[['regular_points_received',\n",
        "                                                         'express_points_received',\n",
        "                                                         'regular_points_spent',\n",
        "                                                         'express_points_spent',\n",
        "                                                         'purchase_sum']].mean().reset_index()\n",
        "train_transaction.head()"
      ],
      "metadata": {
        "execution": {
          "iopub.status.busy": "2023-01-08T17:57:57.478924Z",
          "iopub.execute_input": "2023-01-08T17:57:57.479951Z",
          "iopub.status.idle": "2023-01-08T17:58:11.837087Z",
          "shell.execute_reply.started": "2023-01-08T17:57:57.479910Z",
          "shell.execute_reply": "2023-01-08T17:58:11.836171Z"
        },
        "trusted": true,
        "id": "Af7gjFfnEoEq",
        "outputId": "a84616d9-a81d-4a55-f152-faa9b077c2bd"
      },
      "execution_count": null,
      "outputs": [
        {
          "execution_count": 22,
          "output_type": "execute_result",
          "data": {
            "text/plain": "    client_id transaction_id  regular_points_received  \\\n0  000012768d     6a0e96d0bc                      8.0   \n1  000012768d     7e3e2e3984                     10.0   \n2  000012768d     b34f23306e                      2.0   \n3  000012768d     c1ca85d462                      5.7   \n4  000036f903     0a3d640bf4                      7.0   \n\n   express_points_received  regular_points_spent  express_points_spent  \\\n0                      0.0                   0.0                   0.0   \n1                      0.0                   0.0                   0.0   \n2                      0.0                   0.0                   0.0   \n3                      0.0                   0.0                   0.0   \n4                      0.0                   0.0                   0.0   \n\n   purchase_sum  \n0         803.0  \n1        1007.0  \n2         419.0  \n3         574.0  \n4         700.0  ",
            "text/html": "<div>\n<style scoped>\n    .dataframe tbody tr th:only-of-type {\n        vertical-align: middle;\n    }\n\n    .dataframe tbody tr th {\n        vertical-align: top;\n    }\n\n    .dataframe thead th {\n        text-align: right;\n    }\n</style>\n<table border=\"1\" class=\"dataframe\">\n  <thead>\n    <tr style=\"text-align: right;\">\n      <th></th>\n      <th>client_id</th>\n      <th>transaction_id</th>\n      <th>regular_points_received</th>\n      <th>express_points_received</th>\n      <th>regular_points_spent</th>\n      <th>express_points_spent</th>\n      <th>purchase_sum</th>\n    </tr>\n  </thead>\n  <tbody>\n    <tr>\n      <th>0</th>\n      <td>000012768d</td>\n      <td>6a0e96d0bc</td>\n      <td>8.0</td>\n      <td>0.0</td>\n      <td>0.0</td>\n      <td>0.0</td>\n      <td>803.0</td>\n    </tr>\n    <tr>\n      <th>1</th>\n      <td>000012768d</td>\n      <td>7e3e2e3984</td>\n      <td>10.0</td>\n      <td>0.0</td>\n      <td>0.0</td>\n      <td>0.0</td>\n      <td>1007.0</td>\n    </tr>\n    <tr>\n      <th>2</th>\n      <td>000012768d</td>\n      <td>b34f23306e</td>\n      <td>2.0</td>\n      <td>0.0</td>\n      <td>0.0</td>\n      <td>0.0</td>\n      <td>419.0</td>\n    </tr>\n    <tr>\n      <th>3</th>\n      <td>000012768d</td>\n      <td>c1ca85d462</td>\n      <td>5.7</td>\n      <td>0.0</td>\n      <td>0.0</td>\n      <td>0.0</td>\n      <td>574.0</td>\n    </tr>\n    <tr>\n      <th>4</th>\n      <td>000036f903</td>\n      <td>0a3d640bf4</td>\n      <td>7.0</td>\n      <td>0.0</td>\n      <td>0.0</td>\n      <td>0.0</td>\n      <td>700.0</td>\n    </tr>\n  </tbody>\n</table>\n</div>"
          },
          "metadata": {}
        }
      ]
    },
    {
      "cell_type": "code",
      "source": [
        "df_train = train_transaction.groupby('client_id').agg(mean_regular_points_received=('regular_points_received', 'mean'),\n",
        "                                                    std_regular_points_received=('regular_points_received', 'std'),\n",
        "                                                      median_regular_points_received=('regular_points_received', 'median'),\n",
        "                                                      sum_regular_points_received=('regular_points_received', 'sum'),\n",
        "                                                      mean_express_points_received=('express_points_received', 'mean'),\n",
        "                                                    std_express_points_received=('express_points_received', 'std'),\n",
        "                                                      median_express_points_received=('express_points_received', 'median'),\n",
        "                                                      sum_express_points_received=('express_points_received', 'sum'),\n",
        "                                                      mean_regular_points_spent=('regular_points_spent', 'mean'),\n",
        "                                                    std_regular_points_spent=('regular_points_spent', 'std'),\n",
        "                                                      median_regular_points_spent=('regular_points_spent', 'median'),\n",
        "                                                      sum_regular_points_spent=('regular_points_spent', 'sum'),\n",
        "                                                      mean_express_points_spent=('express_points_spent', 'mean'),\n",
        "                                                    std_express_points_spent=('express_points_spent', 'std'),\n",
        "                                                      median_express_points_spent=('express_points_spent', 'median'),\n",
        "                                                      sum_express_points_spent=('express_points_spent', 'sum'),\n",
        "                                                      mean_purchase_sum=('purchase_sum', 'mean'),\n",
        "                                                    std_purchase_sum=('purchase_sum', 'std'),\n",
        "                                                      median_purchase_sum=('purchase_sum', 'median'),\n",
        "                                                      sum_purchase_sum=('purchase_sum', 'sum'))\\\n",
        "                                                        .reset_index().merge(df_train)\n",
        "df_train.head()"
      ],
      "metadata": {
        "execution": {
          "iopub.status.busy": "2023-01-08T17:58:11.838331Z",
          "iopub.execute_input": "2023-01-08T17:58:11.838847Z",
          "iopub.status.idle": "2023-01-08T17:58:13.395615Z",
          "shell.execute_reply.started": "2023-01-08T17:58:11.838817Z",
          "shell.execute_reply": "2023-01-08T17:58:13.394423Z"
        },
        "trusted": true,
        "id": "BSCjuWUDEoEq",
        "outputId": "21a8a0a3-fcfd-4606-8a26-c361a04eb165"
      },
      "execution_count": null,
      "outputs": [
        {
          "execution_count": 23,
          "output_type": "execute_result",
          "data": {
            "text/plain": "    client_id  mean_regular_points_received  std_regular_points_received  \\\n0  000012768d                      6.425000                     3.433536   \n1  000036f903                      1.715625                     1.484785   \n2  0001f552b0                      5.260000                    10.026308   \n3  00020e7b18                     15.894444                    13.460639   \n4  000220a0a7                      6.940000                    11.654233   \n\n   median_regular_points_received  sum_regular_points_received  \\\n0                            6.85                         25.7   \n1                            1.30                         54.9   \n2                            1.60                         78.9   \n3                           14.60                        286.1   \n4                            2.20                        104.1   \n\n   mean_express_points_received  std_express_points_received  \\\n0                         0.000                     0.000000   \n1                         1.875                    10.606602   \n2                         0.000                     0.000000   \n3                         0.000                     0.000000   \n4                         0.000                     0.000000   \n\n   median_express_points_received  sum_express_points_received  \\\n0                             0.0                          0.0   \n1                             0.0                         60.0   \n2                             0.0                          0.0   \n3                             0.0                          0.0   \n4                             0.0                          0.0   \n\n   mean_regular_points_spent  ...  std_purchase_sum  median_purchase_sum  \\\n0                   0.000000  ...        258.000484              688.500   \n1                   0.000000  ...        161.780987              267.000   \n2                   0.000000  ...        295.885838              335.370   \n3                 -32.888889  ...       1008.952394             1222.675   \n4                   0.000000  ...        415.204051              451.150   \n\n   sum_purchase_sum   first_transaction    last_transaction  \\\n0           2803.00 2018-12-01 07:12:45 2019-03-14 15:01:47   \n1           9805.00 2018-11-28 10:48:36 2019-03-17 10:29:37   \n2           6155.18 2018-11-24 07:14:43 2019-03-16 10:54:02   \n3          25819.61 2018-11-23 08:21:26 2019-03-15 12:04:23   \n4           8606.57 2018-12-11 16:54:16 2019-03-12 16:44:43   \n\n     first_issue_date   first_redeem_date  age  gender  target  \n0 2017-08-05 15:40:48 2018-01-04 19:30:07   45       U       0  \n1 2017-04-10 13:54:23 2017-04-23 12:37:56   72       F       1  \n2 2017-06-30 19:20:38 2018-08-28 12:59:45   33       F       1  \n3 2017-11-27 11:41:45 2018-01-10 17:50:05   73       U       1  \n4 2017-12-09 17:26:20 2018-10-04 14:59:29   45       M       0  \n\n[5 rows x 28 columns]",
            "text/html": "<div>\n<style scoped>\n    .dataframe tbody tr th:only-of-type {\n        vertical-align: middle;\n    }\n\n    .dataframe tbody tr th {\n        vertical-align: top;\n    }\n\n    .dataframe thead th {\n        text-align: right;\n    }\n</style>\n<table border=\"1\" class=\"dataframe\">\n  <thead>\n    <tr style=\"text-align: right;\">\n      <th></th>\n      <th>client_id</th>\n      <th>mean_regular_points_received</th>\n      <th>std_regular_points_received</th>\n      <th>median_regular_points_received</th>\n      <th>sum_regular_points_received</th>\n      <th>mean_express_points_received</th>\n      <th>std_express_points_received</th>\n      <th>median_express_points_received</th>\n      <th>sum_express_points_received</th>\n      <th>mean_regular_points_spent</th>\n      <th>...</th>\n      <th>std_purchase_sum</th>\n      <th>median_purchase_sum</th>\n      <th>sum_purchase_sum</th>\n      <th>first_transaction</th>\n      <th>last_transaction</th>\n      <th>first_issue_date</th>\n      <th>first_redeem_date</th>\n      <th>age</th>\n      <th>gender</th>\n      <th>target</th>\n    </tr>\n  </thead>\n  <tbody>\n    <tr>\n      <th>0</th>\n      <td>000012768d</td>\n      <td>6.425000</td>\n      <td>3.433536</td>\n      <td>6.85</td>\n      <td>25.7</td>\n      <td>0.000</td>\n      <td>0.000000</td>\n      <td>0.0</td>\n      <td>0.0</td>\n      <td>0.000000</td>\n      <td>...</td>\n      <td>258.000484</td>\n      <td>688.500</td>\n      <td>2803.00</td>\n      <td>2018-12-01 07:12:45</td>\n      <td>2019-03-14 15:01:47</td>\n      <td>2017-08-05 15:40:48</td>\n      <td>2018-01-04 19:30:07</td>\n      <td>45</td>\n      <td>U</td>\n      <td>0</td>\n    </tr>\n    <tr>\n      <th>1</th>\n      <td>000036f903</td>\n      <td>1.715625</td>\n      <td>1.484785</td>\n      <td>1.30</td>\n      <td>54.9</td>\n      <td>1.875</td>\n      <td>10.606602</td>\n      <td>0.0</td>\n      <td>60.0</td>\n      <td>0.000000</td>\n      <td>...</td>\n      <td>161.780987</td>\n      <td>267.000</td>\n      <td>9805.00</td>\n      <td>2018-11-28 10:48:36</td>\n      <td>2019-03-17 10:29:37</td>\n      <td>2017-04-10 13:54:23</td>\n      <td>2017-04-23 12:37:56</td>\n      <td>72</td>\n      <td>F</td>\n      <td>1</td>\n    </tr>\n    <tr>\n      <th>2</th>\n      <td>0001f552b0</td>\n      <td>5.260000</td>\n      <td>10.026308</td>\n      <td>1.60</td>\n      <td>78.9</td>\n      <td>0.000</td>\n      <td>0.000000</td>\n      <td>0.0</td>\n      <td>0.0</td>\n      <td>0.000000</td>\n      <td>...</td>\n      <td>295.885838</td>\n      <td>335.370</td>\n      <td>6155.18</td>\n      <td>2018-11-24 07:14:43</td>\n      <td>2019-03-16 10:54:02</td>\n      <td>2017-06-30 19:20:38</td>\n      <td>2018-08-28 12:59:45</td>\n      <td>33</td>\n      <td>F</td>\n      <td>1</td>\n    </tr>\n    <tr>\n      <th>3</th>\n      <td>00020e7b18</td>\n      <td>15.894444</td>\n      <td>13.460639</td>\n      <td>14.60</td>\n      <td>286.1</td>\n      <td>0.000</td>\n      <td>0.000000</td>\n      <td>0.0</td>\n      <td>0.0</td>\n      <td>-32.888889</td>\n      <td>...</td>\n      <td>1008.952394</td>\n      <td>1222.675</td>\n      <td>25819.61</td>\n      <td>2018-11-23 08:21:26</td>\n      <td>2019-03-15 12:04:23</td>\n      <td>2017-11-27 11:41:45</td>\n      <td>2018-01-10 17:50:05</td>\n      <td>73</td>\n      <td>U</td>\n      <td>1</td>\n    </tr>\n    <tr>\n      <th>4</th>\n      <td>000220a0a7</td>\n      <td>6.940000</td>\n      <td>11.654233</td>\n      <td>2.20</td>\n      <td>104.1</td>\n      <td>0.000</td>\n      <td>0.000000</td>\n      <td>0.0</td>\n      <td>0.0</td>\n      <td>0.000000</td>\n      <td>...</td>\n      <td>415.204051</td>\n      <td>451.150</td>\n      <td>8606.57</td>\n      <td>2018-12-11 16:54:16</td>\n      <td>2019-03-12 16:44:43</td>\n      <td>2017-12-09 17:26:20</td>\n      <td>2018-10-04 14:59:29</td>\n      <td>45</td>\n      <td>M</td>\n      <td>0</td>\n    </tr>\n  </tbody>\n</table>\n<p>5 rows × 28 columns</p>\n</div>"
          },
          "metadata": {}
        }
      ]
    },
    {
      "cell_type": "code",
      "source": [
        "test_transaction = df_test_purch.groupby(['client_id', 'transaction_id'])[['regular_points_received',\n",
        "                                                         'express_points_received',\n",
        "                                                         'regular_points_spent',\n",
        "                                                         'express_points_spent',\n",
        "                                                         'purchase_sum']].mean().reset_index()\n",
        "test_transaction.head()"
      ],
      "metadata": {
        "execution": {
          "iopub.status.busy": "2023-01-08T17:58:13.397425Z",
          "iopub.execute_input": "2023-01-08T17:58:13.397763Z",
          "iopub.status.idle": "2023-01-08T17:58:18.736303Z",
          "shell.execute_reply.started": "2023-01-08T17:58:13.397736Z",
          "shell.execute_reply": "2023-01-08T17:58:18.735225Z"
        },
        "trusted": true,
        "id": "K_lmWHAxEoEq",
        "outputId": "1c6e1e3f-1460-4d30-ffac-ef7656d2eb06"
      },
      "execution_count": null,
      "outputs": [
        {
          "execution_count": 24,
          "output_type": "execute_result",
          "data": {
            "text/plain": "    client_id transaction_id  regular_points_received  \\\n0  00010925a5     081dc6d998                      2.3   \n1  00010925a5     09af961a1c                      2.3   \n2  00010925a5     144898073a                      1.4   \n3  00010925a5     1721d9d308                      1.2   \n4  00010925a5     1c4bd83e38                      5.8   \n\n   express_points_received  regular_points_spent  express_points_spent  \\\n0                      0.0                   0.0                   0.0   \n1                      0.0                   0.0                   0.0   \n2                      0.0                   0.0                   0.0   \n3                      0.0                   0.0                   0.0   \n4                      0.0                   0.0                   0.0   \n\n   purchase_sum  \n0         478.0  \n1         463.0  \n2         299.0  \n3         250.0  \n4         581.0  ",
            "text/html": "<div>\n<style scoped>\n    .dataframe tbody tr th:only-of-type {\n        vertical-align: middle;\n    }\n\n    .dataframe tbody tr th {\n        vertical-align: top;\n    }\n\n    .dataframe thead th {\n        text-align: right;\n    }\n</style>\n<table border=\"1\" class=\"dataframe\">\n  <thead>\n    <tr style=\"text-align: right;\">\n      <th></th>\n      <th>client_id</th>\n      <th>transaction_id</th>\n      <th>regular_points_received</th>\n      <th>express_points_received</th>\n      <th>regular_points_spent</th>\n      <th>express_points_spent</th>\n      <th>purchase_sum</th>\n    </tr>\n  </thead>\n  <tbody>\n    <tr>\n      <th>0</th>\n      <td>00010925a5</td>\n      <td>081dc6d998</td>\n      <td>2.3</td>\n      <td>0.0</td>\n      <td>0.0</td>\n      <td>0.0</td>\n      <td>478.0</td>\n    </tr>\n    <tr>\n      <th>1</th>\n      <td>00010925a5</td>\n      <td>09af961a1c</td>\n      <td>2.3</td>\n      <td>0.0</td>\n      <td>0.0</td>\n      <td>0.0</td>\n      <td>463.0</td>\n    </tr>\n    <tr>\n      <th>2</th>\n      <td>00010925a5</td>\n      <td>144898073a</td>\n      <td>1.4</td>\n      <td>0.0</td>\n      <td>0.0</td>\n      <td>0.0</td>\n      <td>299.0</td>\n    </tr>\n    <tr>\n      <th>3</th>\n      <td>00010925a5</td>\n      <td>1721d9d308</td>\n      <td>1.2</td>\n      <td>0.0</td>\n      <td>0.0</td>\n      <td>0.0</td>\n      <td>250.0</td>\n    </tr>\n    <tr>\n      <th>4</th>\n      <td>00010925a5</td>\n      <td>1c4bd83e38</td>\n      <td>5.8</td>\n      <td>0.0</td>\n      <td>0.0</td>\n      <td>0.0</td>\n      <td>581.0</td>\n    </tr>\n  </tbody>\n</table>\n</div>"
          },
          "metadata": {}
        }
      ]
    },
    {
      "cell_type": "code",
      "source": [
        "df_test = test_transaction.groupby('client_id').agg(mean_regular_points_received=('regular_points_received', 'mean'),\n",
        "                                                    std_regular_points_received=('regular_points_received', 'std'),\n",
        "                                                      median_regular_points_received=('regular_points_received', 'median'),\n",
        "                                                      sum_regular_points_received=('regular_points_received', 'sum'),\n",
        "                                                      mean_express_points_received=('express_points_received', 'mean'),\n",
        "                                                    std_express_points_received=('express_points_received', 'std'),\n",
        "                                                      median_express_points_received=('express_points_received', 'median'),\n",
        "                                                      sum_express_points_received=('express_points_received', 'sum'),\n",
        "                                                      mean_regular_points_spent=('regular_points_spent', 'mean'),\n",
        "                                                    std_regular_points_spent=('regular_points_spent', 'std'),\n",
        "                                                      median_regular_points_spent=('regular_points_spent', 'median'),\n",
        "                                                      sum_regular_points_spent=('regular_points_spent', 'sum'),\n",
        "                                                      mean_express_points_spent=('express_points_spent', 'mean'),\n",
        "                                                    std_express_points_spent=('express_points_spent', 'std'),\n",
        "                                                      median_express_points_spent=('express_points_spent', 'median'),\n",
        "                                                      sum_express_points_spent=('express_points_spent', 'sum'),\n",
        "                                                      mean_purchase_sum=('purchase_sum', 'mean'),\n",
        "                                                    std_purchase_sum=('purchase_sum', 'std'),\n",
        "                                                      median_purchase_sum=('purchase_sum', 'median'),\n",
        "                                                      sum_purchase_sum=('purchase_sum', 'sum'))\\\n",
        "                                                        .reset_index().merge(df_test)\n",
        "df_test.head()"
      ],
      "metadata": {
        "execution": {
          "iopub.status.busy": "2023-01-08T17:58:18.737818Z",
          "iopub.execute_input": "2023-01-08T17:58:18.738304Z",
          "iopub.status.idle": "2023-01-08T17:58:19.351309Z",
          "shell.execute_reply.started": "2023-01-08T17:58:18.738271Z",
          "shell.execute_reply": "2023-01-08T17:58:19.350203Z"
        },
        "trusted": true,
        "id": "FLcUk-k7EoEq",
        "outputId": "cb91b7e5-9f77-4edd-b12d-f82c142745cd"
      },
      "execution_count": null,
      "outputs": [
        {
          "execution_count": 25,
          "output_type": "execute_result",
          "data": {
            "text/plain": "    client_id  mean_regular_points_received  std_regular_points_received  \\\n0  00010925a5                      1.766667                     1.172729   \n1  00035a21d9                      7.866667                     6.803920   \n2  00038f9200                      1.725000                     2.676811   \n3  0004315e57                      4.842857                     3.594593   \n4  0006fca4bf                     11.800000                    19.574473   \n\n   median_regular_points_received  sum_regular_points_received  \\\n0                            1.45                         31.8   \n1                            7.60                         23.6   \n2                            0.80                         82.8   \n3                            5.30                         67.8   \n4                            0.80                         35.4   \n\n   mean_express_points_received  std_express_points_received  \\\n0                           0.0                          0.0   \n1                           0.0                          0.0   \n2                           0.0                          0.0   \n3                           0.0                          0.0   \n4                           0.0                          0.0   \n\n   median_express_points_received  sum_express_points_received  \\\n0                             0.0                          0.0   \n1                             0.0                          0.0   \n2                             0.0                          0.0   \n3                             0.0                          0.0   \n4                             0.0                          0.0   \n\n   mean_regular_points_spent  ...  mean_purchase_sum  std_purchase_sum  \\\n0                  -0.944444  ...         326.833333        139.562868   \n1                  -2.666667  ...         597.313333        309.604933   \n2                  -0.604167  ...         174.687500        130.658912   \n3                  -2.785714  ...         542.142857        305.867205   \n4                   0.000000  ...         713.666667       1054.836638   \n\n   median_purchase_sum  sum_purchase_sum   first_transaction  \\\n0               301.00           5883.00 2018-11-25 10:56:18   \n1               765.94           1791.94 2019-02-09 11:46:22   \n2               133.50           8385.00 2018-12-07 11:03:50   \n3               534.00           7590.00 2018-11-25 13:20:56   \n4               161.00           2141.00 2019-02-20 07:47:30   \n\n     last_transaction    first_issue_date   first_redeem_date  age  gender  \n0 2019-03-08 07:09:50 2018-07-24 16:21:29 2018-09-14 16:12:49   83       U  \n1 2019-03-02 12:18:35 2019-02-09 14:46:22 2019-03-02 15:18:35   69       U  \n2 2019-03-18 12:48:40 2018-12-07 14:03:50 2019-01-12 13:57:20   79       U  \n3 2019-03-08 11:33:37 2018-11-25 16:20:56 2019-02-02 15:02:43   38       U  \n4 2019-03-10 06:56:52 2019-02-20 10:47:30 2018-06-06 17:15:02   57       U  \n\n[5 rows x 27 columns]",
            "text/html": "<div>\n<style scoped>\n    .dataframe tbody tr th:only-of-type {\n        vertical-align: middle;\n    }\n\n    .dataframe tbody tr th {\n        vertical-align: top;\n    }\n\n    .dataframe thead th {\n        text-align: right;\n    }\n</style>\n<table border=\"1\" class=\"dataframe\">\n  <thead>\n    <tr style=\"text-align: right;\">\n      <th></th>\n      <th>client_id</th>\n      <th>mean_regular_points_received</th>\n      <th>std_regular_points_received</th>\n      <th>median_regular_points_received</th>\n      <th>sum_regular_points_received</th>\n      <th>mean_express_points_received</th>\n      <th>std_express_points_received</th>\n      <th>median_express_points_received</th>\n      <th>sum_express_points_received</th>\n      <th>mean_regular_points_spent</th>\n      <th>...</th>\n      <th>mean_purchase_sum</th>\n      <th>std_purchase_sum</th>\n      <th>median_purchase_sum</th>\n      <th>sum_purchase_sum</th>\n      <th>first_transaction</th>\n      <th>last_transaction</th>\n      <th>first_issue_date</th>\n      <th>first_redeem_date</th>\n      <th>age</th>\n      <th>gender</th>\n    </tr>\n  </thead>\n  <tbody>\n    <tr>\n      <th>0</th>\n      <td>00010925a5</td>\n      <td>1.766667</td>\n      <td>1.172729</td>\n      <td>1.45</td>\n      <td>31.8</td>\n      <td>0.0</td>\n      <td>0.0</td>\n      <td>0.0</td>\n      <td>0.0</td>\n      <td>-0.944444</td>\n      <td>...</td>\n      <td>326.833333</td>\n      <td>139.562868</td>\n      <td>301.00</td>\n      <td>5883.00</td>\n      <td>2018-11-25 10:56:18</td>\n      <td>2019-03-08 07:09:50</td>\n      <td>2018-07-24 16:21:29</td>\n      <td>2018-09-14 16:12:49</td>\n      <td>83</td>\n      <td>U</td>\n    </tr>\n    <tr>\n      <th>1</th>\n      <td>00035a21d9</td>\n      <td>7.866667</td>\n      <td>6.803920</td>\n      <td>7.60</td>\n      <td>23.6</td>\n      <td>0.0</td>\n      <td>0.0</td>\n      <td>0.0</td>\n      <td>0.0</td>\n      <td>-2.666667</td>\n      <td>...</td>\n      <td>597.313333</td>\n      <td>309.604933</td>\n      <td>765.94</td>\n      <td>1791.94</td>\n      <td>2019-02-09 11:46:22</td>\n      <td>2019-03-02 12:18:35</td>\n      <td>2019-02-09 14:46:22</td>\n      <td>2019-03-02 15:18:35</td>\n      <td>69</td>\n      <td>U</td>\n    </tr>\n    <tr>\n      <th>2</th>\n      <td>00038f9200</td>\n      <td>1.725000</td>\n      <td>2.676811</td>\n      <td>0.80</td>\n      <td>82.8</td>\n      <td>0.0</td>\n      <td>0.0</td>\n      <td>0.0</td>\n      <td>0.0</td>\n      <td>-0.604167</td>\n      <td>...</td>\n      <td>174.687500</td>\n      <td>130.658912</td>\n      <td>133.50</td>\n      <td>8385.00</td>\n      <td>2018-12-07 11:03:50</td>\n      <td>2019-03-18 12:48:40</td>\n      <td>2018-12-07 14:03:50</td>\n      <td>2019-01-12 13:57:20</td>\n      <td>79</td>\n      <td>U</td>\n    </tr>\n    <tr>\n      <th>3</th>\n      <td>0004315e57</td>\n      <td>4.842857</td>\n      <td>3.594593</td>\n      <td>5.30</td>\n      <td>67.8</td>\n      <td>0.0</td>\n      <td>0.0</td>\n      <td>0.0</td>\n      <td>0.0</td>\n      <td>-2.785714</td>\n      <td>...</td>\n      <td>542.142857</td>\n      <td>305.867205</td>\n      <td>534.00</td>\n      <td>7590.00</td>\n      <td>2018-11-25 13:20:56</td>\n      <td>2019-03-08 11:33:37</td>\n      <td>2018-11-25 16:20:56</td>\n      <td>2019-02-02 15:02:43</td>\n      <td>38</td>\n      <td>U</td>\n    </tr>\n    <tr>\n      <th>4</th>\n      <td>0006fca4bf</td>\n      <td>11.800000</td>\n      <td>19.574473</td>\n      <td>0.80</td>\n      <td>35.4</td>\n      <td>0.0</td>\n      <td>0.0</td>\n      <td>0.0</td>\n      <td>0.0</td>\n      <td>0.000000</td>\n      <td>...</td>\n      <td>713.666667</td>\n      <td>1054.836638</td>\n      <td>161.00</td>\n      <td>2141.00</td>\n      <td>2019-02-20 07:47:30</td>\n      <td>2019-03-10 06:56:52</td>\n      <td>2019-02-20 10:47:30</td>\n      <td>2018-06-06 17:15:02</td>\n      <td>57</td>\n      <td>U</td>\n    </tr>\n  </tbody>\n</table>\n<p>5 rows × 27 columns</p>\n</div>"
          },
          "metadata": {}
        }
      ]
    },
    {
      "cell_type": "markdown",
      "source": [
        "Product count"
      ],
      "metadata": {
        "id": "fNZAIjd_EoEq"
      }
    },
    {
      "cell_type": "code",
      "source": [
        "train_porduct_stat = df_train_purch[['client_id', 'product_id']]\\\n",
        "    .merge(df_products[['product_id', 'netto', 'is_own_trademark', 'is_alcohol']])\\\n",
        "    .groupby('client_id').agg(mean_netto=('netto', 'mean'),\n",
        "                              sum_netto=('netto', 'sum'),\n",
        "                              count_own_trademark=('is_own_trademark', 'sum'),\n",
        "                              count_alcohol=('is_alcohol', 'sum')).reset_index()\n",
        "train_porduct_stat.head()"
      ],
      "metadata": {
        "execution": {
          "iopub.status.busy": "2023-01-08T17:58:19.352950Z",
          "iopub.execute_input": "2023-01-08T17:58:19.353279Z",
          "iopub.status.idle": "2023-01-08T17:58:31.401430Z",
          "shell.execute_reply.started": "2023-01-08T17:58:19.353250Z",
          "shell.execute_reply": "2023-01-08T17:58:31.400291Z"
        },
        "trusted": true,
        "id": "CnLU6v_5EoEq",
        "outputId": "2ede3806-7c7d-4987-b92e-e65542877caf"
      },
      "execution_count": null,
      "outputs": [
        {
          "execution_count": 26,
          "output_type": "execute_result",
          "data": {
            "text/plain": "    client_id  mean_netto  sum_netto  count_own_trademark  count_alcohol\n0  000012768d    0.540231     28.092                    4              0\n1  000036f903    0.481877     78.064                   14              1\n2  0001f552b0    0.483849     41.611                   10              0\n3  00020e7b18    0.482176    131.152                   44              0\n4  000220a0a7    0.357918     30.423                   16              1",
            "text/html": "<div>\n<style scoped>\n    .dataframe tbody tr th:only-of-type {\n        vertical-align: middle;\n    }\n\n    .dataframe tbody tr th {\n        vertical-align: top;\n    }\n\n    .dataframe thead th {\n        text-align: right;\n    }\n</style>\n<table border=\"1\" class=\"dataframe\">\n  <thead>\n    <tr style=\"text-align: right;\">\n      <th></th>\n      <th>client_id</th>\n      <th>mean_netto</th>\n      <th>sum_netto</th>\n      <th>count_own_trademark</th>\n      <th>count_alcohol</th>\n    </tr>\n  </thead>\n  <tbody>\n    <tr>\n      <th>0</th>\n      <td>000012768d</td>\n      <td>0.540231</td>\n      <td>28.092</td>\n      <td>4</td>\n      <td>0</td>\n    </tr>\n    <tr>\n      <th>1</th>\n      <td>000036f903</td>\n      <td>0.481877</td>\n      <td>78.064</td>\n      <td>14</td>\n      <td>1</td>\n    </tr>\n    <tr>\n      <th>2</th>\n      <td>0001f552b0</td>\n      <td>0.483849</td>\n      <td>41.611</td>\n      <td>10</td>\n      <td>0</td>\n    </tr>\n    <tr>\n      <th>3</th>\n      <td>00020e7b18</td>\n      <td>0.482176</td>\n      <td>131.152</td>\n      <td>44</td>\n      <td>0</td>\n    </tr>\n    <tr>\n      <th>4</th>\n      <td>000220a0a7</td>\n      <td>0.357918</td>\n      <td>30.423</td>\n      <td>16</td>\n      <td>1</td>\n    </tr>\n  </tbody>\n</table>\n</div>"
          },
          "metadata": {}
        }
      ]
    },
    {
      "cell_type": "code",
      "source": [
        "df_train = train_porduct_stat.merge(df_train)\n",
        "df_train.head()"
      ],
      "metadata": {
        "execution": {
          "iopub.status.busy": "2023-01-08T17:58:31.403325Z",
          "iopub.execute_input": "2023-01-08T17:58:31.404143Z",
          "iopub.status.idle": "2023-01-08T17:58:31.572178Z",
          "shell.execute_reply.started": "2023-01-08T17:58:31.404099Z",
          "shell.execute_reply": "2023-01-08T17:58:31.571103Z"
        },
        "trusted": true,
        "id": "colBGLfUEoEr",
        "outputId": "ba25c3b0-34ab-422c-93cf-3fd59a048b69"
      },
      "execution_count": null,
      "outputs": [
        {
          "execution_count": 27,
          "output_type": "execute_result",
          "data": {
            "text/plain": "    client_id  mean_netto  sum_netto  count_own_trademark  count_alcohol  \\\n0  000012768d    0.540231     28.092                    4              0   \n1  000036f903    0.481877     78.064                   14              1   \n2  0001f552b0    0.483849     41.611                   10              0   \n3  00020e7b18    0.482176    131.152                   44              0   \n4  000220a0a7    0.357918     30.423                   16              1   \n\n   mean_regular_points_received  std_regular_points_received  \\\n0                      6.425000                     3.433536   \n1                      1.715625                     1.484785   \n2                      5.260000                    10.026308   \n3                     15.894444                    13.460639   \n4                      6.940000                    11.654233   \n\n   median_regular_points_received  sum_regular_points_received  \\\n0                            6.85                         25.7   \n1                            1.30                         54.9   \n2                            1.60                         78.9   \n3                           14.60                        286.1   \n4                            2.20                        104.1   \n\n   mean_express_points_received  ...  std_purchase_sum  median_purchase_sum  \\\n0                         0.000  ...        258.000484              688.500   \n1                         1.875  ...        161.780987              267.000   \n2                         0.000  ...        295.885838              335.370   \n3                         0.000  ...       1008.952394             1222.675   \n4                         0.000  ...        415.204051              451.150   \n\n   sum_purchase_sum   first_transaction    last_transaction  \\\n0           2803.00 2018-12-01 07:12:45 2019-03-14 15:01:47   \n1           9805.00 2018-11-28 10:48:36 2019-03-17 10:29:37   \n2           6155.18 2018-11-24 07:14:43 2019-03-16 10:54:02   \n3          25819.61 2018-11-23 08:21:26 2019-03-15 12:04:23   \n4           8606.57 2018-12-11 16:54:16 2019-03-12 16:44:43   \n\n     first_issue_date   first_redeem_date  age  gender  target  \n0 2017-08-05 15:40:48 2018-01-04 19:30:07   45       U       0  \n1 2017-04-10 13:54:23 2017-04-23 12:37:56   72       F       1  \n2 2017-06-30 19:20:38 2018-08-28 12:59:45   33       F       1  \n3 2017-11-27 11:41:45 2018-01-10 17:50:05   73       U       1  \n4 2017-12-09 17:26:20 2018-10-04 14:59:29   45       M       0  \n\n[5 rows x 32 columns]",
            "text/html": "<div>\n<style scoped>\n    .dataframe tbody tr th:only-of-type {\n        vertical-align: middle;\n    }\n\n    .dataframe tbody tr th {\n        vertical-align: top;\n    }\n\n    .dataframe thead th {\n        text-align: right;\n    }\n</style>\n<table border=\"1\" class=\"dataframe\">\n  <thead>\n    <tr style=\"text-align: right;\">\n      <th></th>\n      <th>client_id</th>\n      <th>mean_netto</th>\n      <th>sum_netto</th>\n      <th>count_own_trademark</th>\n      <th>count_alcohol</th>\n      <th>mean_regular_points_received</th>\n      <th>std_regular_points_received</th>\n      <th>median_regular_points_received</th>\n      <th>sum_regular_points_received</th>\n      <th>mean_express_points_received</th>\n      <th>...</th>\n      <th>std_purchase_sum</th>\n      <th>median_purchase_sum</th>\n      <th>sum_purchase_sum</th>\n      <th>first_transaction</th>\n      <th>last_transaction</th>\n      <th>first_issue_date</th>\n      <th>first_redeem_date</th>\n      <th>age</th>\n      <th>gender</th>\n      <th>target</th>\n    </tr>\n  </thead>\n  <tbody>\n    <tr>\n      <th>0</th>\n      <td>000012768d</td>\n      <td>0.540231</td>\n      <td>28.092</td>\n      <td>4</td>\n      <td>0</td>\n      <td>6.425000</td>\n      <td>3.433536</td>\n      <td>6.85</td>\n      <td>25.7</td>\n      <td>0.000</td>\n      <td>...</td>\n      <td>258.000484</td>\n      <td>688.500</td>\n      <td>2803.00</td>\n      <td>2018-12-01 07:12:45</td>\n      <td>2019-03-14 15:01:47</td>\n      <td>2017-08-05 15:40:48</td>\n      <td>2018-01-04 19:30:07</td>\n      <td>45</td>\n      <td>U</td>\n      <td>0</td>\n    </tr>\n    <tr>\n      <th>1</th>\n      <td>000036f903</td>\n      <td>0.481877</td>\n      <td>78.064</td>\n      <td>14</td>\n      <td>1</td>\n      <td>1.715625</td>\n      <td>1.484785</td>\n      <td>1.30</td>\n      <td>54.9</td>\n      <td>1.875</td>\n      <td>...</td>\n      <td>161.780987</td>\n      <td>267.000</td>\n      <td>9805.00</td>\n      <td>2018-11-28 10:48:36</td>\n      <td>2019-03-17 10:29:37</td>\n      <td>2017-04-10 13:54:23</td>\n      <td>2017-04-23 12:37:56</td>\n      <td>72</td>\n      <td>F</td>\n      <td>1</td>\n    </tr>\n    <tr>\n      <th>2</th>\n      <td>0001f552b0</td>\n      <td>0.483849</td>\n      <td>41.611</td>\n      <td>10</td>\n      <td>0</td>\n      <td>5.260000</td>\n      <td>10.026308</td>\n      <td>1.60</td>\n      <td>78.9</td>\n      <td>0.000</td>\n      <td>...</td>\n      <td>295.885838</td>\n      <td>335.370</td>\n      <td>6155.18</td>\n      <td>2018-11-24 07:14:43</td>\n      <td>2019-03-16 10:54:02</td>\n      <td>2017-06-30 19:20:38</td>\n      <td>2018-08-28 12:59:45</td>\n      <td>33</td>\n      <td>F</td>\n      <td>1</td>\n    </tr>\n    <tr>\n      <th>3</th>\n      <td>00020e7b18</td>\n      <td>0.482176</td>\n      <td>131.152</td>\n      <td>44</td>\n      <td>0</td>\n      <td>15.894444</td>\n      <td>13.460639</td>\n      <td>14.60</td>\n      <td>286.1</td>\n      <td>0.000</td>\n      <td>...</td>\n      <td>1008.952394</td>\n      <td>1222.675</td>\n      <td>25819.61</td>\n      <td>2018-11-23 08:21:26</td>\n      <td>2019-03-15 12:04:23</td>\n      <td>2017-11-27 11:41:45</td>\n      <td>2018-01-10 17:50:05</td>\n      <td>73</td>\n      <td>U</td>\n      <td>1</td>\n    </tr>\n    <tr>\n      <th>4</th>\n      <td>000220a0a7</td>\n      <td>0.357918</td>\n      <td>30.423</td>\n      <td>16</td>\n      <td>1</td>\n      <td>6.940000</td>\n      <td>11.654233</td>\n      <td>2.20</td>\n      <td>104.1</td>\n      <td>0.000</td>\n      <td>...</td>\n      <td>415.204051</td>\n      <td>451.150</td>\n      <td>8606.57</td>\n      <td>2018-12-11 16:54:16</td>\n      <td>2019-03-12 16:44:43</td>\n      <td>2017-12-09 17:26:20</td>\n      <td>2018-10-04 14:59:29</td>\n      <td>45</td>\n      <td>M</td>\n      <td>0</td>\n    </tr>\n  </tbody>\n</table>\n<p>5 rows × 32 columns</p>\n</div>"
          },
          "metadata": {}
        }
      ]
    },
    {
      "cell_type": "code",
      "source": [
        "test_porduct_stat = df_test_purch[['client_id', 'product_id']]\\\n",
        "    .merge(df_products[['product_id', 'netto', 'is_own_trademark', 'is_alcohol']])\\\n",
        "    .groupby('client_id').agg(mean_netto=('netto', 'mean'),\n",
        "                              sum_netto=('netto', 'sum'),\n",
        "                              count_own_trademark=('is_own_trademark', 'sum'),\n",
        "                              count_alcohol=('is_alcohol', 'sum')).reset_index()\n",
        "test_porduct_stat.head()"
      ],
      "metadata": {
        "execution": {
          "iopub.status.busy": "2023-01-08T17:58:31.577866Z",
          "iopub.execute_input": "2023-01-08T17:58:31.578219Z",
          "iopub.status.idle": "2023-01-08T17:58:36.478306Z",
          "shell.execute_reply.started": "2023-01-08T17:58:31.578187Z",
          "shell.execute_reply": "2023-01-08T17:58:36.477063Z"
        },
        "trusted": true,
        "id": "61qnP9hFEoEr",
        "outputId": "3c40a5d4-a363-4658-82dd-c42395c5e801"
      },
      "execution_count": null,
      "outputs": [
        {
          "execution_count": 28,
          "output_type": "execute_result",
          "data": {
            "text/plain": "    client_id  mean_netto  sum_netto  count_own_trademark  count_alcohol\n0  00010925a5    0.615551     48.013                    9              1\n1  00035a21d9    0.419346     10.903                    1              0\n2  00038f9200    0.546804     86.395                   14              0\n3  0004315e57    0.366172     44.673                   22              0\n4  0006fca4bf    0.445714     12.480                    4              1",
            "text/html": "<div>\n<style scoped>\n    .dataframe tbody tr th:only-of-type {\n        vertical-align: middle;\n    }\n\n    .dataframe tbody tr th {\n        vertical-align: top;\n    }\n\n    .dataframe thead th {\n        text-align: right;\n    }\n</style>\n<table border=\"1\" class=\"dataframe\">\n  <thead>\n    <tr style=\"text-align: right;\">\n      <th></th>\n      <th>client_id</th>\n      <th>mean_netto</th>\n      <th>sum_netto</th>\n      <th>count_own_trademark</th>\n      <th>count_alcohol</th>\n    </tr>\n  </thead>\n  <tbody>\n    <tr>\n      <th>0</th>\n      <td>00010925a5</td>\n      <td>0.615551</td>\n      <td>48.013</td>\n      <td>9</td>\n      <td>1</td>\n    </tr>\n    <tr>\n      <th>1</th>\n      <td>00035a21d9</td>\n      <td>0.419346</td>\n      <td>10.903</td>\n      <td>1</td>\n      <td>0</td>\n    </tr>\n    <tr>\n      <th>2</th>\n      <td>00038f9200</td>\n      <td>0.546804</td>\n      <td>86.395</td>\n      <td>14</td>\n      <td>0</td>\n    </tr>\n    <tr>\n      <th>3</th>\n      <td>0004315e57</td>\n      <td>0.366172</td>\n      <td>44.673</td>\n      <td>22</td>\n      <td>0</td>\n    </tr>\n    <tr>\n      <th>4</th>\n      <td>0006fca4bf</td>\n      <td>0.445714</td>\n      <td>12.480</td>\n      <td>4</td>\n      <td>1</td>\n    </tr>\n  </tbody>\n</table>\n</div>"
          },
          "metadata": {}
        }
      ]
    },
    {
      "cell_type": "code",
      "source": [
        "df_test = test_porduct_stat.merge(df_test)\n",
        "df_test.head()"
      ],
      "metadata": {
        "execution": {
          "iopub.status.busy": "2023-01-08T17:58:36.480024Z",
          "iopub.execute_input": "2023-01-08T17:58:36.480370Z",
          "iopub.status.idle": "2023-01-08T17:58:36.559703Z",
          "shell.execute_reply.started": "2023-01-08T17:58:36.480318Z",
          "shell.execute_reply": "2023-01-08T17:58:36.558586Z"
        },
        "trusted": true,
        "id": "RSfPuUlJEoEr",
        "outputId": "3ce0e873-5143-49a9-f9ed-4ff747f8a307"
      },
      "execution_count": null,
      "outputs": [
        {
          "execution_count": 29,
          "output_type": "execute_result",
          "data": {
            "text/plain": "    client_id  mean_netto  sum_netto  count_own_trademark  count_alcohol  \\\n0  00010925a5    0.615551     48.013                    9              1   \n1  00035a21d9    0.419346     10.903                    1              0   \n2  00038f9200    0.546804     86.395                   14              0   \n3  0004315e57    0.366172     44.673                   22              0   \n4  0006fca4bf    0.445714     12.480                    4              1   \n\n   mean_regular_points_received  std_regular_points_received  \\\n0                      1.766667                     1.172729   \n1                      7.866667                     6.803920   \n2                      1.725000                     2.676811   \n3                      4.842857                     3.594593   \n4                     11.800000                    19.574473   \n\n   median_regular_points_received  sum_regular_points_received  \\\n0                            1.45                         31.8   \n1                            7.60                         23.6   \n2                            0.80                         82.8   \n3                            5.30                         67.8   \n4                            0.80                         35.4   \n\n   mean_express_points_received  ...  mean_purchase_sum  std_purchase_sum  \\\n0                           0.0  ...         326.833333        139.562868   \n1                           0.0  ...         597.313333        309.604933   \n2                           0.0  ...         174.687500        130.658912   \n3                           0.0  ...         542.142857        305.867205   \n4                           0.0  ...         713.666667       1054.836638   \n\n   median_purchase_sum  sum_purchase_sum   first_transaction  \\\n0               301.00           5883.00 2018-11-25 10:56:18   \n1               765.94           1791.94 2019-02-09 11:46:22   \n2               133.50           8385.00 2018-12-07 11:03:50   \n3               534.00           7590.00 2018-11-25 13:20:56   \n4               161.00           2141.00 2019-02-20 07:47:30   \n\n     last_transaction    first_issue_date   first_redeem_date  age  gender  \n0 2019-03-08 07:09:50 2018-07-24 16:21:29 2018-09-14 16:12:49   83       U  \n1 2019-03-02 12:18:35 2019-02-09 14:46:22 2019-03-02 15:18:35   69       U  \n2 2019-03-18 12:48:40 2018-12-07 14:03:50 2019-01-12 13:57:20   79       U  \n3 2019-03-08 11:33:37 2018-11-25 16:20:56 2019-02-02 15:02:43   38       U  \n4 2019-03-10 06:56:52 2019-02-20 10:47:30 2018-06-06 17:15:02   57       U  \n\n[5 rows x 31 columns]",
            "text/html": "<div>\n<style scoped>\n    .dataframe tbody tr th:only-of-type {\n        vertical-align: middle;\n    }\n\n    .dataframe tbody tr th {\n        vertical-align: top;\n    }\n\n    .dataframe thead th {\n        text-align: right;\n    }\n</style>\n<table border=\"1\" class=\"dataframe\">\n  <thead>\n    <tr style=\"text-align: right;\">\n      <th></th>\n      <th>client_id</th>\n      <th>mean_netto</th>\n      <th>sum_netto</th>\n      <th>count_own_trademark</th>\n      <th>count_alcohol</th>\n      <th>mean_regular_points_received</th>\n      <th>std_regular_points_received</th>\n      <th>median_regular_points_received</th>\n      <th>sum_regular_points_received</th>\n      <th>mean_express_points_received</th>\n      <th>...</th>\n      <th>mean_purchase_sum</th>\n      <th>std_purchase_sum</th>\n      <th>median_purchase_sum</th>\n      <th>sum_purchase_sum</th>\n      <th>first_transaction</th>\n      <th>last_transaction</th>\n      <th>first_issue_date</th>\n      <th>first_redeem_date</th>\n      <th>age</th>\n      <th>gender</th>\n    </tr>\n  </thead>\n  <tbody>\n    <tr>\n      <th>0</th>\n      <td>00010925a5</td>\n      <td>0.615551</td>\n      <td>48.013</td>\n      <td>9</td>\n      <td>1</td>\n      <td>1.766667</td>\n      <td>1.172729</td>\n      <td>1.45</td>\n      <td>31.8</td>\n      <td>0.0</td>\n      <td>...</td>\n      <td>326.833333</td>\n      <td>139.562868</td>\n      <td>301.00</td>\n      <td>5883.00</td>\n      <td>2018-11-25 10:56:18</td>\n      <td>2019-03-08 07:09:50</td>\n      <td>2018-07-24 16:21:29</td>\n      <td>2018-09-14 16:12:49</td>\n      <td>83</td>\n      <td>U</td>\n    </tr>\n    <tr>\n      <th>1</th>\n      <td>00035a21d9</td>\n      <td>0.419346</td>\n      <td>10.903</td>\n      <td>1</td>\n      <td>0</td>\n      <td>7.866667</td>\n      <td>6.803920</td>\n      <td>7.60</td>\n      <td>23.6</td>\n      <td>0.0</td>\n      <td>...</td>\n      <td>597.313333</td>\n      <td>309.604933</td>\n      <td>765.94</td>\n      <td>1791.94</td>\n      <td>2019-02-09 11:46:22</td>\n      <td>2019-03-02 12:18:35</td>\n      <td>2019-02-09 14:46:22</td>\n      <td>2019-03-02 15:18:35</td>\n      <td>69</td>\n      <td>U</td>\n    </tr>\n    <tr>\n      <th>2</th>\n      <td>00038f9200</td>\n      <td>0.546804</td>\n      <td>86.395</td>\n      <td>14</td>\n      <td>0</td>\n      <td>1.725000</td>\n      <td>2.676811</td>\n      <td>0.80</td>\n      <td>82.8</td>\n      <td>0.0</td>\n      <td>...</td>\n      <td>174.687500</td>\n      <td>130.658912</td>\n      <td>133.50</td>\n      <td>8385.00</td>\n      <td>2018-12-07 11:03:50</td>\n      <td>2019-03-18 12:48:40</td>\n      <td>2018-12-07 14:03:50</td>\n      <td>2019-01-12 13:57:20</td>\n      <td>79</td>\n      <td>U</td>\n    </tr>\n    <tr>\n      <th>3</th>\n      <td>0004315e57</td>\n      <td>0.366172</td>\n      <td>44.673</td>\n      <td>22</td>\n      <td>0</td>\n      <td>4.842857</td>\n      <td>3.594593</td>\n      <td>5.30</td>\n      <td>67.8</td>\n      <td>0.0</td>\n      <td>...</td>\n      <td>542.142857</td>\n      <td>305.867205</td>\n      <td>534.00</td>\n      <td>7590.00</td>\n      <td>2018-11-25 13:20:56</td>\n      <td>2019-03-08 11:33:37</td>\n      <td>2018-11-25 16:20:56</td>\n      <td>2019-02-02 15:02:43</td>\n      <td>38</td>\n      <td>U</td>\n    </tr>\n    <tr>\n      <th>4</th>\n      <td>0006fca4bf</td>\n      <td>0.445714</td>\n      <td>12.480</td>\n      <td>4</td>\n      <td>1</td>\n      <td>11.800000</td>\n      <td>19.574473</td>\n      <td>0.80</td>\n      <td>35.4</td>\n      <td>0.0</td>\n      <td>...</td>\n      <td>713.666667</td>\n      <td>1054.836638</td>\n      <td>161.00</td>\n      <td>2141.00</td>\n      <td>2019-02-20 07:47:30</td>\n      <td>2019-03-10 06:56:52</td>\n      <td>2019-02-20 10:47:30</td>\n      <td>2018-06-06 17:15:02</td>\n      <td>57</td>\n      <td>U</td>\n    </tr>\n  </tbody>\n</table>\n<p>5 rows × 31 columns</p>\n</div>"
          },
          "metadata": {}
        }
      ]
    },
    {
      "cell_type": "code",
      "source": [
        "# day_of_week_dict = {0: 'monday', 1: 'tuesday', 2: 'wednesday', 3: 'thursday', 4: 'friday', 5: 'saturday', 6: 'sunday'}"
      ],
      "metadata": {
        "execution": {
          "iopub.status.busy": "2023-01-08T17:58:36.561042Z",
          "iopub.execute_input": "2023-01-08T17:58:36.561376Z",
          "iopub.status.idle": "2023-01-08T17:58:36.566376Z",
          "shell.execute_reply.started": "2023-01-08T17:58:36.561321Z",
          "shell.execute_reply": "2023-01-08T17:58:36.565412Z"
        },
        "trusted": true,
        "id": "LjNRtRJrEoEr"
      },
      "execution_count": null,
      "outputs": []
    },
    {
      "cell_type": "code",
      "source": [
        "# train_transaction_date = df_train_purch[['client_id', 'transaction_datetime']].drop_duplicates()\n",
        "# train_transaction_date['day_of_week'] = pd.to_datetime(train_transaction_date.transaction_datetime,\\\n",
        "#                                                        format='%Y-%m-%d %H:%M:%S').dt.dayofweek\n",
        "\n",
        "\n",
        "# train_transaction_date.day_of_week = train_transaction_date.day_of_week.map(day_of_week_dict)\n",
        "# df_train = train_transaction_date.pivot_table(index='client_id',\n",
        "#                                               columns='day_of_week',\n",
        "#                                               values='transaction_datetime',\n",
        "#                                               aggfunc='count', fill_value=0).reset_index().merge(df_train)\n",
        "# df_train.head()"
      ],
      "metadata": {
        "execution": {
          "iopub.status.busy": "2023-01-08T17:58:36.567818Z",
          "iopub.execute_input": "2023-01-08T17:58:36.568246Z",
          "iopub.status.idle": "2023-01-08T17:58:36.578839Z",
          "shell.execute_reply.started": "2023-01-08T17:58:36.568215Z",
          "shell.execute_reply": "2023-01-08T17:58:36.577669Z"
        },
        "trusted": true,
        "id": "0mvZBNj3EoEr"
      },
      "execution_count": null,
      "outputs": []
    },
    {
      "cell_type": "code",
      "source": [
        "# test_transaction_date = df_test_purch[['client_id', 'transaction_datetime']].drop_duplicates()\n",
        "# test_transaction_date['day_of_week'] = pd.to_datetime(test_transaction_date.transaction_datetime,\\\n",
        "#                                                        format='%Y-%m-%d %H:%M:%S').dt.dayofweek\n",
        "\n",
        "\n",
        "# test_transaction_date.day_of_week = test_transaction_date.day_of_week.map(day_of_week_dict)\n",
        "# df_test = test_transaction_date.pivot_table(index='client_id',\n",
        "#                                               columns='day_of_week',\n",
        "#                                               values='transaction_datetime',\n",
        "#                                               aggfunc='count', fill_value=0).reset_index().merge(df_test)\n",
        "# df_test.head()"
      ],
      "metadata": {
        "execution": {
          "iopub.status.busy": "2023-01-08T17:58:36.580159Z",
          "iopub.execute_input": "2023-01-08T17:58:36.580518Z",
          "iopub.status.idle": "2023-01-08T17:58:36.593745Z",
          "shell.execute_reply.started": "2023-01-08T17:58:36.580487Z",
          "shell.execute_reply": "2023-01-08T17:58:36.592638Z"
        },
        "trusted": true,
        "id": "Nd135gMEEoEr"
      },
      "execution_count": null,
      "outputs": []
    },
    {
      "cell_type": "markdown",
      "source": [
        "Fill NaN"
      ],
      "metadata": {
        "id": "CMRpH8QeEoEr"
      }
    },
    {
      "cell_type": "code",
      "source": [
        "# df_train.first_redeem_date.fillna(df_train.last_transaction.max(), inplace=True)"
      ],
      "metadata": {
        "execution": {
          "iopub.status.busy": "2023-01-08T17:58:36.596175Z",
          "iopub.execute_input": "2023-01-08T17:58:36.596565Z",
          "iopub.status.idle": "2023-01-08T17:58:36.605276Z",
          "shell.execute_reply.started": "2023-01-08T17:58:36.596533Z",
          "shell.execute_reply": "2023-01-08T17:58:36.604415Z"
        },
        "trusted": true,
        "id": "WBpxyaipEoEr"
      },
      "execution_count": null,
      "outputs": []
    },
    {
      "cell_type": "markdown",
      "source": [
        "Day interval"
      ],
      "metadata": {
        "id": "EQFYy7u6EoEs"
      }
    },
    {
      "cell_type": "code",
      "source": [
        "def day_interval(x):\n",
        "    if x < 7:\n",
        "        return 'night'\n",
        "    elif x > 17:\n",
        "        return 'evening'\n",
        "    elif x >= 7 and x < 13:\n",
        "        return 'morning'\n",
        "    else:\n",
        "        return 'afternoon'"
      ],
      "metadata": {
        "execution": {
          "iopub.status.busy": "2023-01-08T17:58:36.606445Z",
          "iopub.execute_input": "2023-01-08T17:58:36.607181Z",
          "iopub.status.idle": "2023-01-08T17:58:36.616326Z",
          "shell.execute_reply.started": "2023-01-08T17:58:36.607149Z",
          "shell.execute_reply": "2023-01-08T17:58:36.615421Z"
        },
        "trusted": true,
        "id": "iCSN60JJEoEs"
      },
      "execution_count": null,
      "outputs": []
    },
    {
      "cell_type": "code",
      "source": [
        "train_transaction_date = df_train_purch[['client_id', 'transaction_datetime']].drop_duplicates()\n",
        "train_transaction_date['hour'] = pd.to_datetime(train_transaction_date.transaction_datetime,\\\n",
        "                                                       format='%Y-%m-%d %H:%M:%S').dt.hour\n",
        "\n",
        "train_transaction_date.hour = train_transaction_date.hour.apply(day_interval)\n",
        "df_train = train_transaction_date.pivot_table(index='client_id',\n",
        "                                              columns='hour',\n",
        "                                              values='transaction_datetime',\n",
        "                                              aggfunc='count', fill_value=0).reset_index().merge(df_train)"
      ],
      "metadata": {
        "execution": {
          "iopub.status.busy": "2023-01-08T17:58:36.617845Z",
          "iopub.execute_input": "2023-01-08T17:58:36.618464Z",
          "iopub.status.idle": "2023-01-08T17:58:42.399013Z",
          "shell.execute_reply.started": "2023-01-08T17:58:36.618430Z",
          "shell.execute_reply": "2023-01-08T17:58:42.397985Z"
        },
        "trusted": true,
        "id": "nRpLiT3yEoEs"
      },
      "execution_count": null,
      "outputs": []
    },
    {
      "cell_type": "code",
      "source": [
        "df_train.head()"
      ],
      "metadata": {
        "execution": {
          "iopub.status.busy": "2023-01-08T17:58:42.400461Z",
          "iopub.execute_input": "2023-01-08T17:58:42.400823Z",
          "iopub.status.idle": "2023-01-08T17:58:42.429052Z",
          "shell.execute_reply.started": "2023-01-08T17:58:42.400790Z",
          "shell.execute_reply": "2023-01-08T17:58:42.428064Z"
        },
        "trusted": true,
        "id": "KZ52DrIvEoEs",
        "outputId": "dee7e842-c044-4044-870e-4baf6736655d"
      },
      "execution_count": null,
      "outputs": [
        {
          "execution_count": 36,
          "output_type": "execute_result",
          "data": {
            "text/plain": "    client_id  afternoon  evening  morning  night  mean_netto  sum_netto  \\\n0  000012768d          1        0        3      0    0.540231     28.092   \n1  000036f903          0        0       32      0    0.481877     78.064   \n2  0001f552b0          7        0        8      0    0.483849     41.611   \n3  00020e7b18          1        0       16      1    0.482176    131.152   \n4  000220a0a7         12        0        2      1    0.357918     30.423   \n\n   count_own_trademark  count_alcohol  mean_regular_points_received  ...  \\\n0                    4              0                      6.425000  ...   \n1                   14              1                      1.715625  ...   \n2                   10              0                      5.260000  ...   \n3                   44              0                     15.894444  ...   \n4                   16              1                      6.940000  ...   \n\n   std_purchase_sum  median_purchase_sum  sum_purchase_sum  \\\n0        258.000484              688.500           2803.00   \n1        161.780987              267.000           9805.00   \n2        295.885838              335.370           6155.18   \n3       1008.952394             1222.675          25819.61   \n4        415.204051              451.150           8606.57   \n\n    first_transaction    last_transaction    first_issue_date  \\\n0 2018-12-01 07:12:45 2019-03-14 15:01:47 2017-08-05 15:40:48   \n1 2018-11-28 10:48:36 2019-03-17 10:29:37 2017-04-10 13:54:23   \n2 2018-11-24 07:14:43 2019-03-16 10:54:02 2017-06-30 19:20:38   \n3 2018-11-23 08:21:26 2019-03-15 12:04:23 2017-11-27 11:41:45   \n4 2018-12-11 16:54:16 2019-03-12 16:44:43 2017-12-09 17:26:20   \n\n    first_redeem_date  age  gender  target  \n0 2018-01-04 19:30:07   45       U       0  \n1 2017-04-23 12:37:56   72       F       1  \n2 2018-08-28 12:59:45   33       F       1  \n3 2018-01-10 17:50:05   73       U       1  \n4 2018-10-04 14:59:29   45       M       0  \n\n[5 rows x 36 columns]",
            "text/html": "<div>\n<style scoped>\n    .dataframe tbody tr th:only-of-type {\n        vertical-align: middle;\n    }\n\n    .dataframe tbody tr th {\n        vertical-align: top;\n    }\n\n    .dataframe thead th {\n        text-align: right;\n    }\n</style>\n<table border=\"1\" class=\"dataframe\">\n  <thead>\n    <tr style=\"text-align: right;\">\n      <th></th>\n      <th>client_id</th>\n      <th>afternoon</th>\n      <th>evening</th>\n      <th>morning</th>\n      <th>night</th>\n      <th>mean_netto</th>\n      <th>sum_netto</th>\n      <th>count_own_trademark</th>\n      <th>count_alcohol</th>\n      <th>mean_regular_points_received</th>\n      <th>...</th>\n      <th>std_purchase_sum</th>\n      <th>median_purchase_sum</th>\n      <th>sum_purchase_sum</th>\n      <th>first_transaction</th>\n      <th>last_transaction</th>\n      <th>first_issue_date</th>\n      <th>first_redeem_date</th>\n      <th>age</th>\n      <th>gender</th>\n      <th>target</th>\n    </tr>\n  </thead>\n  <tbody>\n    <tr>\n      <th>0</th>\n      <td>000012768d</td>\n      <td>1</td>\n      <td>0</td>\n      <td>3</td>\n      <td>0</td>\n      <td>0.540231</td>\n      <td>28.092</td>\n      <td>4</td>\n      <td>0</td>\n      <td>6.425000</td>\n      <td>...</td>\n      <td>258.000484</td>\n      <td>688.500</td>\n      <td>2803.00</td>\n      <td>2018-12-01 07:12:45</td>\n      <td>2019-03-14 15:01:47</td>\n      <td>2017-08-05 15:40:48</td>\n      <td>2018-01-04 19:30:07</td>\n      <td>45</td>\n      <td>U</td>\n      <td>0</td>\n    </tr>\n    <tr>\n      <th>1</th>\n      <td>000036f903</td>\n      <td>0</td>\n      <td>0</td>\n      <td>32</td>\n      <td>0</td>\n      <td>0.481877</td>\n      <td>78.064</td>\n      <td>14</td>\n      <td>1</td>\n      <td>1.715625</td>\n      <td>...</td>\n      <td>161.780987</td>\n      <td>267.000</td>\n      <td>9805.00</td>\n      <td>2018-11-28 10:48:36</td>\n      <td>2019-03-17 10:29:37</td>\n      <td>2017-04-10 13:54:23</td>\n      <td>2017-04-23 12:37:56</td>\n      <td>72</td>\n      <td>F</td>\n      <td>1</td>\n    </tr>\n    <tr>\n      <th>2</th>\n      <td>0001f552b0</td>\n      <td>7</td>\n      <td>0</td>\n      <td>8</td>\n      <td>0</td>\n      <td>0.483849</td>\n      <td>41.611</td>\n      <td>10</td>\n      <td>0</td>\n      <td>5.260000</td>\n      <td>...</td>\n      <td>295.885838</td>\n      <td>335.370</td>\n      <td>6155.18</td>\n      <td>2018-11-24 07:14:43</td>\n      <td>2019-03-16 10:54:02</td>\n      <td>2017-06-30 19:20:38</td>\n      <td>2018-08-28 12:59:45</td>\n      <td>33</td>\n      <td>F</td>\n      <td>1</td>\n    </tr>\n    <tr>\n      <th>3</th>\n      <td>00020e7b18</td>\n      <td>1</td>\n      <td>0</td>\n      <td>16</td>\n      <td>1</td>\n      <td>0.482176</td>\n      <td>131.152</td>\n      <td>44</td>\n      <td>0</td>\n      <td>15.894444</td>\n      <td>...</td>\n      <td>1008.952394</td>\n      <td>1222.675</td>\n      <td>25819.61</td>\n      <td>2018-11-23 08:21:26</td>\n      <td>2019-03-15 12:04:23</td>\n      <td>2017-11-27 11:41:45</td>\n      <td>2018-01-10 17:50:05</td>\n      <td>73</td>\n      <td>U</td>\n      <td>1</td>\n    </tr>\n    <tr>\n      <th>4</th>\n      <td>000220a0a7</td>\n      <td>12</td>\n      <td>0</td>\n      <td>2</td>\n      <td>1</td>\n      <td>0.357918</td>\n      <td>30.423</td>\n      <td>16</td>\n      <td>1</td>\n      <td>6.940000</td>\n      <td>...</td>\n      <td>415.204051</td>\n      <td>451.150</td>\n      <td>8606.57</td>\n      <td>2018-12-11 16:54:16</td>\n      <td>2019-03-12 16:44:43</td>\n      <td>2017-12-09 17:26:20</td>\n      <td>2018-10-04 14:59:29</td>\n      <td>45</td>\n      <td>M</td>\n      <td>0</td>\n    </tr>\n  </tbody>\n</table>\n<p>5 rows × 36 columns</p>\n</div>"
          },
          "metadata": {}
        }
      ]
    },
    {
      "cell_type": "code",
      "source": [
        "test_transaction_date = df_test_purch[['client_id', 'transaction_datetime']].drop_duplicates()\n",
        "test_transaction_date['hour'] = pd.to_datetime(test_transaction_date.transaction_datetime,\\\n",
        "                                                       format='%Y-%m-%d %H:%M:%S').dt.hour\n",
        "\n",
        "test_transaction_date.hour = test_transaction_date.hour.apply(day_interval)\n",
        "df_test = test_transaction_date.pivot_table(index='client_id',\n",
        "                                              columns='hour',\n",
        "                                              values='transaction_datetime',\n",
        "                                              aggfunc='count', fill_value=0).reset_index().merge(df_test)"
      ],
      "metadata": {
        "execution": {
          "iopub.status.busy": "2023-01-08T17:58:42.430853Z",
          "iopub.execute_input": "2023-01-08T17:58:42.431657Z",
          "iopub.status.idle": "2023-01-08T17:58:44.747874Z",
          "shell.execute_reply.started": "2023-01-08T17:58:42.431615Z",
          "shell.execute_reply": "2023-01-08T17:58:44.746737Z"
        },
        "trusted": true,
        "id": "CZBfHploEoEs"
      },
      "execution_count": null,
      "outputs": []
    },
    {
      "cell_type": "code",
      "source": [
        "df_test.head()"
      ],
      "metadata": {
        "execution": {
          "iopub.status.busy": "2023-01-08T17:58:44.749234Z",
          "iopub.execute_input": "2023-01-08T17:58:44.749598Z",
          "iopub.status.idle": "2023-01-08T17:58:44.775778Z",
          "shell.execute_reply.started": "2023-01-08T17:58:44.749560Z",
          "shell.execute_reply": "2023-01-08T17:58:44.774434Z"
        },
        "trusted": true,
        "id": "slTjzUs5EoEs",
        "outputId": "7ad5ed5c-f897-4eb7-80b3-60a96c18e7b9"
      },
      "execution_count": null,
      "outputs": [
        {
          "execution_count": 38,
          "output_type": "execute_result",
          "data": {
            "text/plain": "    client_id  afternoon  evening  morning  night  mean_netto  sum_netto  \\\n0  00010925a5          0        0       17      1    0.615551     48.013   \n1  00035a21d9          0        0        3      0    0.419346     10.903   \n2  00038f9200          3        0       44      1    0.546804     86.395   \n3  0004315e57          8        0        4      2    0.366172     44.673   \n4  0006fca4bf          0        0        2      1    0.445714     12.480   \n\n   count_own_trademark  count_alcohol  mean_regular_points_received  ...  \\\n0                    9              1                      1.766667  ...   \n1                    1              0                      7.866667  ...   \n2                   14              0                      1.725000  ...   \n3                   22              0                      4.842857  ...   \n4                    4              1                     11.800000  ...   \n\n   mean_purchase_sum  std_purchase_sum  median_purchase_sum  sum_purchase_sum  \\\n0         326.833333        139.562868               301.00           5883.00   \n1         597.313333        309.604933               765.94           1791.94   \n2         174.687500        130.658912               133.50           8385.00   \n3         542.142857        305.867205               534.00           7590.00   \n4         713.666667       1054.836638               161.00           2141.00   \n\n    first_transaction    last_transaction    first_issue_date  \\\n0 2018-11-25 10:56:18 2019-03-08 07:09:50 2018-07-24 16:21:29   \n1 2019-02-09 11:46:22 2019-03-02 12:18:35 2019-02-09 14:46:22   \n2 2018-12-07 11:03:50 2019-03-18 12:48:40 2018-12-07 14:03:50   \n3 2018-11-25 13:20:56 2019-03-08 11:33:37 2018-11-25 16:20:56   \n4 2019-02-20 07:47:30 2019-03-10 06:56:52 2019-02-20 10:47:30   \n\n    first_redeem_date  age  gender  \n0 2018-09-14 16:12:49   83       U  \n1 2019-03-02 15:18:35   69       U  \n2 2019-01-12 13:57:20   79       U  \n3 2019-02-02 15:02:43   38       U  \n4 2018-06-06 17:15:02   57       U  \n\n[5 rows x 35 columns]",
            "text/html": "<div>\n<style scoped>\n    .dataframe tbody tr th:only-of-type {\n        vertical-align: middle;\n    }\n\n    .dataframe tbody tr th {\n        vertical-align: top;\n    }\n\n    .dataframe thead th {\n        text-align: right;\n    }\n</style>\n<table border=\"1\" class=\"dataframe\">\n  <thead>\n    <tr style=\"text-align: right;\">\n      <th></th>\n      <th>client_id</th>\n      <th>afternoon</th>\n      <th>evening</th>\n      <th>morning</th>\n      <th>night</th>\n      <th>mean_netto</th>\n      <th>sum_netto</th>\n      <th>count_own_trademark</th>\n      <th>count_alcohol</th>\n      <th>mean_regular_points_received</th>\n      <th>...</th>\n      <th>mean_purchase_sum</th>\n      <th>std_purchase_sum</th>\n      <th>median_purchase_sum</th>\n      <th>sum_purchase_sum</th>\n      <th>first_transaction</th>\n      <th>last_transaction</th>\n      <th>first_issue_date</th>\n      <th>first_redeem_date</th>\n      <th>age</th>\n      <th>gender</th>\n    </tr>\n  </thead>\n  <tbody>\n    <tr>\n      <th>0</th>\n      <td>00010925a5</td>\n      <td>0</td>\n      <td>0</td>\n      <td>17</td>\n      <td>1</td>\n      <td>0.615551</td>\n      <td>48.013</td>\n      <td>9</td>\n      <td>1</td>\n      <td>1.766667</td>\n      <td>...</td>\n      <td>326.833333</td>\n      <td>139.562868</td>\n      <td>301.00</td>\n      <td>5883.00</td>\n      <td>2018-11-25 10:56:18</td>\n      <td>2019-03-08 07:09:50</td>\n      <td>2018-07-24 16:21:29</td>\n      <td>2018-09-14 16:12:49</td>\n      <td>83</td>\n      <td>U</td>\n    </tr>\n    <tr>\n      <th>1</th>\n      <td>00035a21d9</td>\n      <td>0</td>\n      <td>0</td>\n      <td>3</td>\n      <td>0</td>\n      <td>0.419346</td>\n      <td>10.903</td>\n      <td>1</td>\n      <td>0</td>\n      <td>7.866667</td>\n      <td>...</td>\n      <td>597.313333</td>\n      <td>309.604933</td>\n      <td>765.94</td>\n      <td>1791.94</td>\n      <td>2019-02-09 11:46:22</td>\n      <td>2019-03-02 12:18:35</td>\n      <td>2019-02-09 14:46:22</td>\n      <td>2019-03-02 15:18:35</td>\n      <td>69</td>\n      <td>U</td>\n    </tr>\n    <tr>\n      <th>2</th>\n      <td>00038f9200</td>\n      <td>3</td>\n      <td>0</td>\n      <td>44</td>\n      <td>1</td>\n      <td>0.546804</td>\n      <td>86.395</td>\n      <td>14</td>\n      <td>0</td>\n      <td>1.725000</td>\n      <td>...</td>\n      <td>174.687500</td>\n      <td>130.658912</td>\n      <td>133.50</td>\n      <td>8385.00</td>\n      <td>2018-12-07 11:03:50</td>\n      <td>2019-03-18 12:48:40</td>\n      <td>2018-12-07 14:03:50</td>\n      <td>2019-01-12 13:57:20</td>\n      <td>79</td>\n      <td>U</td>\n    </tr>\n    <tr>\n      <th>3</th>\n      <td>0004315e57</td>\n      <td>8</td>\n      <td>0</td>\n      <td>4</td>\n      <td>2</td>\n      <td>0.366172</td>\n      <td>44.673</td>\n      <td>22</td>\n      <td>0</td>\n      <td>4.842857</td>\n      <td>...</td>\n      <td>542.142857</td>\n      <td>305.867205</td>\n      <td>534.00</td>\n      <td>7590.00</td>\n      <td>2018-11-25 13:20:56</td>\n      <td>2019-03-08 11:33:37</td>\n      <td>2018-11-25 16:20:56</td>\n      <td>2019-02-02 15:02:43</td>\n      <td>38</td>\n      <td>U</td>\n    </tr>\n    <tr>\n      <th>4</th>\n      <td>0006fca4bf</td>\n      <td>0</td>\n      <td>0</td>\n      <td>2</td>\n      <td>1</td>\n      <td>0.445714</td>\n      <td>12.480</td>\n      <td>4</td>\n      <td>1</td>\n      <td>11.800000</td>\n      <td>...</td>\n      <td>713.666667</td>\n      <td>1054.836638</td>\n      <td>161.00</td>\n      <td>2141.00</td>\n      <td>2019-02-20 07:47:30</td>\n      <td>2019-03-10 06:56:52</td>\n      <td>2019-02-20 10:47:30</td>\n      <td>2018-06-06 17:15:02</td>\n      <td>57</td>\n      <td>U</td>\n    </tr>\n  </tbody>\n</table>\n<p>5 rows × 35 columns</p>\n</div>"
          },
          "metadata": {}
        }
      ]
    },
    {
      "cell_type": "markdown",
      "source": [
        "Statistic values"
      ],
      "metadata": {
        "id": "TKrobp5kEoEs"
      }
    },
    {
      "cell_type": "markdown",
      "source": [
        "Popular product"
      ],
      "metadata": {
        "id": "Gwp3ah6HEoEs"
      }
    },
    {
      "cell_type": "code",
      "source": [
        "df_train_purch.groupby('product_id')['transaction_id'].count().reset_index().sort_values('transaction_id')"
      ],
      "metadata": {
        "execution": {
          "iopub.status.busy": "2023-01-07T16:20:44.530382Z",
          "iopub.execute_input": "2023-01-07T16:20:44.530740Z",
          "iopub.status.idle": "2023-01-07T16:20:47.695495Z",
          "shell.execute_reply.started": "2023-01-07T16:20:44.530708Z",
          "shell.execute_reply": "2023-01-07T16:20:47.693898Z"
        },
        "trusted": true,
        "id": "mWCqGIvQEoEs",
        "outputId": "4a61d2ff-3ac8-426b-8adf-6123761b3dbf"
      },
      "execution_count": null,
      "outputs": [
        {
          "execution_count": 43,
          "output_type": "execute_result",
          "data": {
            "text/plain": "       product_id  transaction_id\n37085  ef666694f8               1\n23260  967f1d4671               1\n2705   1150cd593e               1\n20114  81e57b54e2               1\n28081  b60fa48499               1\n...           ...             ...\n12083  4dcf79043e          129695\n9710   3e038662c0          134126\n29437  bf07df54e1          144643\n3407   15ccaa8685          219727\n9985   4009f09b04          636488\n\n[39678 rows x 2 columns]",
            "text/html": "<div>\n<style scoped>\n    .dataframe tbody tr th:only-of-type {\n        vertical-align: middle;\n    }\n\n    .dataframe tbody tr th {\n        vertical-align: top;\n    }\n\n    .dataframe thead th {\n        text-align: right;\n    }\n</style>\n<table border=\"1\" class=\"dataframe\">\n  <thead>\n    <tr style=\"text-align: right;\">\n      <th></th>\n      <th>product_id</th>\n      <th>transaction_id</th>\n    </tr>\n  </thead>\n  <tbody>\n    <tr>\n      <th>37085</th>\n      <td>ef666694f8</td>\n      <td>1</td>\n    </tr>\n    <tr>\n      <th>23260</th>\n      <td>967f1d4671</td>\n      <td>1</td>\n    </tr>\n    <tr>\n      <th>2705</th>\n      <td>1150cd593e</td>\n      <td>1</td>\n    </tr>\n    <tr>\n      <th>20114</th>\n      <td>81e57b54e2</td>\n      <td>1</td>\n    </tr>\n    <tr>\n      <th>28081</th>\n      <td>b60fa48499</td>\n      <td>1</td>\n    </tr>\n    <tr>\n      <th>...</th>\n      <td>...</td>\n      <td>...</td>\n    </tr>\n    <tr>\n      <th>12083</th>\n      <td>4dcf79043e</td>\n      <td>129695</td>\n    </tr>\n    <tr>\n      <th>9710</th>\n      <td>3e038662c0</td>\n      <td>134126</td>\n    </tr>\n    <tr>\n      <th>29437</th>\n      <td>bf07df54e1</td>\n      <td>144643</td>\n    </tr>\n    <tr>\n      <th>3407</th>\n      <td>15ccaa8685</td>\n      <td>219727</td>\n    </tr>\n    <tr>\n      <th>9985</th>\n      <td>4009f09b04</td>\n      <td>636488</td>\n    </tr>\n  </tbody>\n</table>\n<p>39678 rows × 2 columns</p>\n</div>"
          },
          "metadata": {}
        }
      ]
    },
    {
      "cell_type": "markdown",
      "source": [
        "Popular levels product"
      ],
      "metadata": {
        "id": "uH1XmB7fEoEs"
      }
    },
    {
      "cell_type": "code",
      "source": [
        "df_copy = df_train_purch[['client_id', 'transaction_id', 'transaction_datetime', 'product_id']].merge(df_products).sort_values('transaction_datetime')\n",
        "df_copy.head()"
      ],
      "metadata": {
        "execution": {
          "iopub.status.busy": "2023-01-07T08:14:56.238040Z",
          "iopub.execute_input": "2023-01-07T08:14:56.238429Z",
          "iopub.status.idle": "2023-01-07T08:15:50.642542Z",
          "shell.execute_reply.started": "2023-01-07T08:14:56.238393Z",
          "shell.execute_reply": "2023-01-07T08:15:50.641067Z"
        },
        "trusted": true,
        "id": "JA5snF9pEoEs",
        "outputId": "09c02572-7cc8-48de-a3a9-e5379d84a5d4"
      },
      "execution_count": null,
      "outputs": [
        {
          "execution_count": 41,
          "output_type": "execute_result",
          "data": {
            "text/plain": "           client_id transaction_id transaction_datetime  product_id  \\\n7713175   27df8bc8bb     6e64997d36  2018-11-21 21:02:33  260db99c88   \n12879615  27df8bc8bb     6e64997d36  2018-11-21 21:02:33  0bf1e1fa3b   \n11674997  27df8bc8bb     6e64997d36  2018-11-21 21:02:33  f6d299b094   \n13544345  27df8bc8bb     6e64997d36  2018-11-21 21:02:33  191fc477af   \n3066941   27df8bc8bb     6e64997d36  2018-11-21 21:02:33  925d3cc556   \n\n             level_1     level_2     level_3     level_4  segment_id  \\\n7713175   e344ab2e71  703f4b6eb0  8b5cca6319  bf375b7a11       119.0   \n12879615  e344ab2e71  52f13dac0c  d3cfe81323  6dc544533f       105.0   \n11674997  e344ab2e71  ed2ad1797c  bd7a98e9af  c0a825c891       313.0   \n13544345  e344ab2e71  ed2ad1797c  bd7a98e9af  c0a825c891       313.0   \n3066941   c3d3a8e8c6  ad2b2e17d2  ca69ed9de2  0736b62d31       157.0   \n\n            brand_id   vendor_id  netto  is_own_trademark  is_alcohol  \n7713175   eb856243c2  d6c656575f  0.140                 0           0  \n12879615  8ab704a7bf  4981f3a494  0.450                 0           0  \n11674997  fdde33576a  63243765ed  0.016                 0           0  \n13544345  fdde33576a  63243765ed  0.016                 0           0  \n3066941   aac704a409  eda4a07475  0.220                 0           0  ",
            "text/html": "<div>\n<style scoped>\n    .dataframe tbody tr th:only-of-type {\n        vertical-align: middle;\n    }\n\n    .dataframe tbody tr th {\n        vertical-align: top;\n    }\n\n    .dataframe thead th {\n        text-align: right;\n    }\n</style>\n<table border=\"1\" class=\"dataframe\">\n  <thead>\n    <tr style=\"text-align: right;\">\n      <th></th>\n      <th>client_id</th>\n      <th>transaction_id</th>\n      <th>transaction_datetime</th>\n      <th>product_id</th>\n      <th>level_1</th>\n      <th>level_2</th>\n      <th>level_3</th>\n      <th>level_4</th>\n      <th>segment_id</th>\n      <th>brand_id</th>\n      <th>vendor_id</th>\n      <th>netto</th>\n      <th>is_own_trademark</th>\n      <th>is_alcohol</th>\n    </tr>\n  </thead>\n  <tbody>\n    <tr>\n      <th>7713175</th>\n      <td>27df8bc8bb</td>\n      <td>6e64997d36</td>\n      <td>2018-11-21 21:02:33</td>\n      <td>260db99c88</td>\n      <td>e344ab2e71</td>\n      <td>703f4b6eb0</td>\n      <td>8b5cca6319</td>\n      <td>bf375b7a11</td>\n      <td>119.0</td>\n      <td>eb856243c2</td>\n      <td>d6c656575f</td>\n      <td>0.140</td>\n      <td>0</td>\n      <td>0</td>\n    </tr>\n    <tr>\n      <th>12879615</th>\n      <td>27df8bc8bb</td>\n      <td>6e64997d36</td>\n      <td>2018-11-21 21:02:33</td>\n      <td>0bf1e1fa3b</td>\n      <td>e344ab2e71</td>\n      <td>52f13dac0c</td>\n      <td>d3cfe81323</td>\n      <td>6dc544533f</td>\n      <td>105.0</td>\n      <td>8ab704a7bf</td>\n      <td>4981f3a494</td>\n      <td>0.450</td>\n      <td>0</td>\n      <td>0</td>\n    </tr>\n    <tr>\n      <th>11674997</th>\n      <td>27df8bc8bb</td>\n      <td>6e64997d36</td>\n      <td>2018-11-21 21:02:33</td>\n      <td>f6d299b094</td>\n      <td>e344ab2e71</td>\n      <td>ed2ad1797c</td>\n      <td>bd7a98e9af</td>\n      <td>c0a825c891</td>\n      <td>313.0</td>\n      <td>fdde33576a</td>\n      <td>63243765ed</td>\n      <td>0.016</td>\n      <td>0</td>\n      <td>0</td>\n    </tr>\n    <tr>\n      <th>13544345</th>\n      <td>27df8bc8bb</td>\n      <td>6e64997d36</td>\n      <td>2018-11-21 21:02:33</td>\n      <td>191fc477af</td>\n      <td>e344ab2e71</td>\n      <td>ed2ad1797c</td>\n      <td>bd7a98e9af</td>\n      <td>c0a825c891</td>\n      <td>313.0</td>\n      <td>fdde33576a</td>\n      <td>63243765ed</td>\n      <td>0.016</td>\n      <td>0</td>\n      <td>0</td>\n    </tr>\n    <tr>\n      <th>3066941</th>\n      <td>27df8bc8bb</td>\n      <td>6e64997d36</td>\n      <td>2018-11-21 21:02:33</td>\n      <td>925d3cc556</td>\n      <td>c3d3a8e8c6</td>\n      <td>ad2b2e17d2</td>\n      <td>ca69ed9de2</td>\n      <td>0736b62d31</td>\n      <td>157.0</td>\n      <td>aac704a409</td>\n      <td>eda4a07475</td>\n      <td>0.220</td>\n      <td>0</td>\n      <td>0</td>\n    </tr>\n  </tbody>\n</table>\n</div>"
          },
          "metadata": {}
        }
      ]
    },
    {
      "cell_type": "code",
      "source": [
        "df_copy.groupby('level_1')['product_id'].count().sort_values(ascending=False).head()"
      ],
      "metadata": {
        "execution": {
          "iopub.status.busy": "2023-01-07T08:15:50.643933Z",
          "iopub.execute_input": "2023-01-07T08:15:50.644408Z",
          "iopub.status.idle": "2023-01-07T08:15:54.150728Z",
          "shell.execute_reply.started": "2023-01-07T08:15:50.644370Z",
          "shell.execute_reply": "2023-01-07T08:15:54.149169Z"
        },
        "trusted": true,
        "id": "0Q1s-ldhEoEt",
        "outputId": "17c46922-c3a6-45f6-c445-0c8e4275c077"
      },
      "execution_count": null,
      "outputs": [
        {
          "execution_count": 42,
          "output_type": "execute_result",
          "data": {
            "text/plain": "level_1\ne344ab2e71    9083290\nc3d3a8e8c6    6429344\nec62ce61e3     484106\nName: product_id, dtype: int64"
          },
          "metadata": {}
        }
      ]
    },
    {
      "cell_type": "code",
      "source": [
        "df_copy.groupby('level_2')['product_id'].count().sort_values(ascending=False).head()"
      ],
      "metadata": {
        "execution": {
          "iopub.status.busy": "2023-01-07T08:15:54.153006Z",
          "iopub.execute_input": "2023-01-07T08:15:54.153538Z",
          "iopub.status.idle": "2023-01-07T08:15:57.493116Z",
          "shell.execute_reply.started": "2023-01-07T08:15:54.153491Z",
          "shell.execute_reply": "2023-01-07T08:15:57.491640Z"
        },
        "trusted": true,
        "id": "qg220sn-EoEt",
        "outputId": "64855033-dbc2-45ad-b297-4db15d349c16"
      },
      "execution_count": null,
      "outputs": [
        {
          "execution_count": 43,
          "output_type": "execute_result",
          "data": {
            "text/plain": "level_2\nad2b2e17d2    2635865\ned2ad1797c    2447538\n034aca0659    2307308\n703f4b6eb0    1721266\n1d2939ba1d    1508449\nName: product_id, dtype: int64"
          },
          "metadata": {}
        }
      ]
    },
    {
      "cell_type": "code",
      "source": [
        "df_copy.groupby('level_3')['product_id'].count().sort_values(ascending=False).head()"
      ],
      "metadata": {
        "execution": {
          "iopub.status.busy": "2023-01-07T08:15:57.494645Z",
          "iopub.execute_input": "2023-01-07T08:15:57.494996Z",
          "iopub.status.idle": "2023-01-07T08:16:00.865356Z",
          "shell.execute_reply.started": "2023-01-07T08:15:57.494965Z",
          "shell.execute_reply": "2023-01-07T08:16:00.864161Z"
        },
        "trusted": true,
        "id": "W1WKy5KFEoEt",
        "outputId": "c2403a59-8286-4f78-d18a-9b944ea52ea8"
      },
      "execution_count": null,
      "outputs": [
        {
          "execution_count": 44,
          "output_type": "execute_result",
          "data": {
            "text/plain": "level_3\nca69ed9de2    1125050\n334b74af37     730327\n6826908da1     647561\n453baf42c5     589637\ne33cc0b2a4     557200\nName: product_id, dtype: int64"
          },
          "metadata": {}
        }
      ]
    },
    {
      "cell_type": "code",
      "source": [
        "df_copy.groupby('level_4')['product_id'].count().sort_values(ascending=False).head()"
      ],
      "metadata": {
        "execution": {
          "iopub.status.busy": "2023-01-07T08:16:00.866833Z",
          "iopub.execute_input": "2023-01-07T08:16:00.867191Z",
          "iopub.status.idle": "2023-01-07T08:16:04.264278Z",
          "shell.execute_reply.started": "2023-01-07T08:16:00.867159Z",
          "shell.execute_reply": "2023-01-07T08:16:04.262939Z"
        },
        "trusted": true,
        "id": "bEy6twWcEoEt",
        "outputId": "8bbdd017-0976-4e90-a819-1e4ab53bf780"
      },
      "execution_count": null,
      "outputs": [
        {
          "execution_count": 45,
          "output_type": "execute_result",
          "data": {
            "text/plain": "level_4\n146717c1b2    696845\n5330a84194    452692\ndfa74aef29    424638\n4d4b7e1f16    396159\nefbcf6d00c    379987\nName: product_id, dtype: int64"
          },
          "metadata": {}
        }
      ]
    },
    {
      "cell_type": "markdown",
      "source": [
        "Mean parchase"
      ],
      "metadata": {
        "id": "DI24U78LEoEt"
      }
    },
    {
      "cell_type": "code",
      "source": [
        "df_train_purch[['client_id', 'transaction_id', 'purchase_sum']].drop_duplicates().purchase_sum.mean()"
      ],
      "metadata": {
        "execution": {
          "iopub.status.busy": "2023-01-07T08:16:04.266430Z",
          "iopub.execute_input": "2023-01-07T08:16:04.266927Z",
          "iopub.status.idle": "2023-01-07T08:16:10.534589Z",
          "shell.execute_reply.started": "2023-01-07T08:16:04.266882Z",
          "shell.execute_reply": "2023-01-07T08:16:10.533384Z"
        },
        "trusted": true,
        "id": "9OCKPuxsEoEt",
        "outputId": "758253c0-951b-4aaa-a986-0e6753351caa"
      },
      "execution_count": null,
      "outputs": [
        {
          "execution_count": 46,
          "output_type": "execute_result",
          "data": {
            "text/plain": "427.00579095615706"
          },
          "metadata": {}
        }
      ]
    },
    {
      "cell_type": "code",
      "source": [
        "df_test_purch[['client_id', 'transaction_id', 'purchase_sum']].drop_duplicates().purchase_sum.mean()"
      ],
      "metadata": {
        "execution": {
          "iopub.status.busy": "2023-01-07T08:16:10.535660Z",
          "iopub.execute_input": "2023-01-07T08:16:10.535981Z",
          "iopub.status.idle": "2023-01-07T08:16:12.969433Z",
          "shell.execute_reply.started": "2023-01-07T08:16:10.535952Z",
          "shell.execute_reply": "2023-01-07T08:16:12.968173Z"
        },
        "trusted": true,
        "id": "hYNgHjz6EoEt",
        "outputId": "4a33ee2d-5225-465f-9d1b-32e86e62436d"
      },
      "execution_count": null,
      "outputs": [
        {
          "execution_count": 47,
          "output_type": "execute_result",
          "data": {
            "text/plain": "427.967121602445"
          },
          "metadata": {}
        }
      ]
    },
    {
      "cell_type": "markdown",
      "source": [
        "## Exploratory data analysis"
      ],
      "metadata": {
        "id": "rmF34sOFEoEu"
      }
    },
    {
      "cell_type": "code",
      "source": [
        "def barplot_with_percentage(x, hue, date, figsize=14):\n",
        "    plt.figure(figsize=(15, 7))\n",
        "\n",
        "    educ_def = (date.groupby([hue])[x]\n",
        "                .value_counts(normalize=True)\n",
        "                .rename('percentage')\n",
        "                .mul(100)\n",
        "                .reset_index()\n",
        "                .sort_values(x))\n",
        "\n",
        "    ax = sb.barplot(x=x, y=\"percentage\", hue=hue, data=educ_def)\n",
        "\n",
        "    for p in ax.patches:\n",
        "        percentage = '{:.1f}%'.format(p.get_height())\n",
        "        ax.annotate(percentage,  # текст\n",
        "                    (p.get_x() + p.get_width() / 2., p.get_height()),  # координата xy\n",
        "                    ha='center',  # центрирование\n",
        "                    va='center',\n",
        "                    xytext=(0, 10),\n",
        "                    textcoords='offset points',  # точка смещения относительно координаты\n",
        "                    fontsize=14)\n",
        "\n",
        "    plt.title(f'{x}-{hue}', fontsize=20)\n",
        "    plt.ylabel('Count', fontsize=14)\n",
        "    plt.xlabel(hue, fontsize=14)\n",
        "\n",
        "    plt.xticks(fontsize=figsize)\n",
        "    plt.yticks(fontsize=figsize);\n",
        "\n",
        "def scatter_plot(X_embedded, y):\n",
        "    # Создание диаграммы разброса\n",
        "    fig = px.scatter(None, x=X_embedded[:,0], y=X_embedded[:,1], \n",
        "                     labels={\n",
        "                         \"x\": \"Dimension 1\",\n",
        "                         \"y\": \"Dimension 2\",\n",
        "                     },\n",
        "                     opacity=1, color=y.values.astype(str))\n",
        "\n",
        "    # Изменение цвета фона графика\n",
        "    fig.update_layout(dict(plot_bgcolor = 'white'))\n",
        "\n",
        "    # Обновление линий осей\n",
        "    fig.update_xaxes(showgrid=True, gridwidth=1, gridcolor='lightgrey', \n",
        "                     zeroline=True, zerolinewidth=1, zerolinecolor='lightgrey', \n",
        "                     showline=True, linewidth=1, linecolor='black')\n",
        "\n",
        "    fig.update_yaxes(showgrid=True, gridwidth=1, gridcolor='lightgrey', \n",
        "                     zeroline=True, zerolinewidth=1, zerolinecolor='lightgrey', \n",
        "                     showline=True, linewidth=1, linecolor='black')\n",
        "\n",
        "    # Установка названия рисунка\n",
        "    fig.update_layout(title_text=\"PCA\")\n",
        "\n",
        "    # Обновление размера маркера\n",
        "    fig.update_traces(marker=dict(size=3))\n",
        "\n",
        "    fig.show()"
      ],
      "metadata": {
        "execution": {
          "iopub.status.busy": "2023-01-07T08:16:12.971114Z",
          "iopub.execute_input": "2023-01-07T08:16:12.971547Z",
          "iopub.status.idle": "2023-01-07T08:16:12.989663Z",
          "shell.execute_reply.started": "2023-01-07T08:16:12.971510Z",
          "shell.execute_reply": "2023-01-07T08:16:12.988423Z"
        },
        "trusted": true,
        "id": "6pfsXcvcEoEu"
      },
      "execution_count": null,
      "outputs": []
    },
    {
      "cell_type": "code",
      "source": [
        "df_train.columns"
      ],
      "metadata": {
        "execution": {
          "iopub.status.busy": "2023-01-07T08:16:12.991431Z",
          "iopub.execute_input": "2023-01-07T08:16:12.991789Z",
          "iopub.status.idle": "2023-01-07T08:16:13.011392Z",
          "shell.execute_reply.started": "2023-01-07T08:16:12.991758Z",
          "shell.execute_reply": "2023-01-07T08:16:13.010190Z"
        },
        "trusted": true,
        "id": "OotjN3PsEoEu",
        "outputId": "ddc32628-40cd-42f0-9a83-b2c2eb2e370c"
      },
      "execution_count": null,
      "outputs": [
        {
          "execution_count": 49,
          "output_type": "execute_result",
          "data": {
            "text/plain": "Index(['client_id', 'afternoon', 'evening', 'morning', 'night', 'mean_netto',\n       'sum_netto', 'count_own_trademark', 'count_alcohol',\n       'mean_regular_points_received', 'std_regular_points_received',\n       'median_regular_points_received', 'sum_regular_points_received',\n       'mean_express_points_received', 'std_express_points_received',\n       'median_express_points_received', 'sum_express_points_received',\n       'mean_regular_points_spent', 'std_regular_points_spent',\n       'median_regular_points_spent', 'sum_regular_points_spent',\n       'mean_express_points_spent', 'std_express_points_spent',\n       'median_express_points_spent', 'sum_express_points_spent',\n       'mean_purchase_sum', 'std_purchase_sum', 'median_purchase_sum',\n       'sum_purchase_sum', 'first_transaction', 'last_transaction',\n       'first_issue_date', 'first_redeem_date', 'age', 'gender', 'target'],\n      dtype='object')"
          },
          "metadata": {}
        }
      ]
    },
    {
      "cell_type": "code",
      "source": [
        "barplot_with_percentage(x='gender', hue='target', date=df_train) #"
      ],
      "metadata": {
        "execution": {
          "iopub.status.busy": "2023-01-07T08:16:55.717440Z",
          "iopub.execute_input": "2023-01-07T08:16:55.717821Z",
          "iopub.status.idle": "2023-01-07T08:16:56.104699Z",
          "shell.execute_reply.started": "2023-01-07T08:16:55.717790Z",
          "shell.execute_reply": "2023-01-07T08:16:56.103361Z"
        },
        "trusted": true,
        "id": "20oZuzmVEoEu",
        "outputId": "1fc18e0a-0ceb-4426-f255-e75955a75b67"
      },
      "execution_count": null,
      "outputs": [
        {
          "output_type": "display_data",
          "data": {
            "text/plain": "<Figure size 1080x504 with 1 Axes>",
            "image/png": "[encoded data removed]"
          },
          "metadata": {}
        }
      ]
    },
    {
      "cell_type": "code",
      "source": [
        "df_copy = df_train[['count_own_trademark', 'target']].copy() #\n",
        "df_copy['buy_own_trademark'] = np.int16(df_copy['count_own_trademark'] > 0)\n",
        "barplot_with_percentage(x='buy_own_trademark', hue='target', date=df_copy)"
      ],
      "metadata": {
        "execution": {
          "iopub.status.busy": "2023-01-07T08:16:57.061544Z",
          "iopub.execute_input": "2023-01-07T08:16:57.061952Z",
          "iopub.status.idle": "2023-01-07T08:16:57.400859Z",
          "shell.execute_reply.started": "2023-01-07T08:16:57.061921Z",
          "shell.execute_reply": "2023-01-07T08:16:57.399451Z"
        },
        "trusted": true,
        "id": "7xFQwBNYEoEu",
        "outputId": "272ba1e0-c256-441b-92f8-4792511e788d"
      },
      "execution_count": null,
      "outputs": [
        {
          "output_type": "display_data",
          "data": {
            "text/plain": "<Figure size 1080x504 with 1 Axes>",
            "image/png": "[encoded data removed]"
          },
          "metadata": {}
        }
      ]
    },
    {
      "cell_type": "code",
      "source": [
        "df_copy = df_train[['count_alcohol', 'target']].copy() #\n",
        "df_copy['buy_alcohol'] = np.int16(df_copy['count_alcohol'] > 0)\n",
        "barplot_with_percentage(x='buy_alcohol', hue='target', date=df_copy)"
      ],
      "metadata": {
        "execution": {
          "iopub.status.busy": "2023-01-07T08:17:00.455966Z",
          "iopub.execute_input": "2023-01-07T08:17:00.456471Z",
          "iopub.status.idle": "2023-01-07T08:17:00.772299Z",
          "shell.execute_reply.started": "2023-01-07T08:17:00.456433Z",
          "shell.execute_reply": "2023-01-07T08:17:00.770950Z"
        },
        "trusted": true,
        "id": "gxSpBLhwEoEv",
        "outputId": "72edb6e5-4ca1-4000-b7ec-1d23f96a6cf4"
      },
      "execution_count": null,
      "outputs": [
        {
          "output_type": "display_data",
          "data": {
            "text/plain": "<Figure size 1080x504 with 1 Axes>",
            "image/png": "[encoded data removed]"
          },
          "metadata": {}
        }
      ]
    },
    {
      "cell_type": "code",
      "source": [
        "df_copy = df_train[['age', 'target']].copy() #\n",
        "df_copy['old_age'] = np.int16(df_copy['age'] > 50)\n",
        "barplot_with_percentage(x='old_age', hue='target', date=df_copy)"
      ],
      "metadata": {
        "execution": {
          "iopub.status.busy": "2023-01-07T08:17:00.774021Z",
          "iopub.execute_input": "2023-01-07T08:17:00.774380Z",
          "iopub.status.idle": "2023-01-07T08:17:01.092773Z",
          "shell.execute_reply.started": "2023-01-07T08:17:00.774334Z",
          "shell.execute_reply": "2023-01-07T08:17:01.091317Z"
        },
        "trusted": true,
        "id": "9s_26_NOEoEv",
        "outputId": "ee9d3b61-dee1-4fc6-df01-fb4caae3cd20"
      },
      "execution_count": null,
      "outputs": [
        {
          "output_type": "display_data",
          "data": {
            "text/plain": "<Figure size 1080x504 with 1 Axes>",
            "image/png": "[encoded data removed]"
          },
          "metadata": {}
        }
      ]
    },
    {
      "cell_type": "code",
      "source": [
        "df_copy = df_train[['age', 'gender', 'target']].copy() #\n",
        "df_copy['old_age_f'] = np.int16((df_copy['age'] > 50) & (df_copy['gender'] == 'F'))\n",
        "barplot_with_percentage(x='old_age_f', hue='target', date=df_copy)"
      ],
      "metadata": {
        "execution": {
          "iopub.status.busy": "2023-01-07T08:17:01.263542Z",
          "iopub.execute_input": "2023-01-07T08:17:01.263990Z",
          "iopub.status.idle": "2023-01-07T08:17:01.605254Z",
          "shell.execute_reply.started": "2023-01-07T08:17:01.263955Z",
          "shell.execute_reply": "2023-01-07T08:17:01.603815Z"
        },
        "trusted": true,
        "id": "E6Gstju6EoEv",
        "outputId": "dad37652-356e-4b08-c124-cc341e35c76a"
      },
      "execution_count": null,
      "outputs": [
        {
          "output_type": "display_data",
          "data": {
            "text/plain": "<Figure size 1080x504 with 1 Axes>",
            "image/png": "[encoded data removed]"
          },
          "metadata": {}
        }
      ]
    },
    {
      "cell_type": "code",
      "source": [
        "df_copy = df_train[['mean_purchase_sum', 'target']].copy() #\n",
        "df_copy['more_sum_purchase'] = np.int16(df_copy['mean_purchase_sum'] > 427)\n",
        "barplot_with_percentage(x='more_sum_purchase', hue='target', date=df_copy)"
      ],
      "metadata": {
        "execution": {
          "iopub.status.busy": "2023-01-07T08:17:03.291163Z",
          "iopub.execute_input": "2023-01-07T08:17:03.291624Z",
          "iopub.status.idle": "2023-01-07T08:17:03.599773Z",
          "shell.execute_reply.started": "2023-01-07T08:17:03.291587Z",
          "shell.execute_reply": "2023-01-07T08:17:03.598563Z"
        },
        "trusted": true,
        "id": "X1uecz6BEoEv",
        "outputId": "328a62da-503c-4f38-92a9-60fbcc26f50d"
      },
      "execution_count": null,
      "outputs": [
        {
          "output_type": "display_data",
          "data": {
            "text/plain": "<Figure size 1080x504 with 1 Axes>",
            "image/png": "[encoded data removed]"
          },
          "metadata": {}
        }
      ]
    },
    {
      "cell_type": "code",
      "source": [
        "df_copy = df_train_purch[['client_id', 'product_id']].copy() #\n",
        "df_copy['buy_popular'] = df_copy['product_id'] == '4009f09b04'\n",
        "df_copy = df_copy.groupby('client_id').agg(buy_popular_product=('buy_popular', np.any)).reset_index()\n",
        "df_copy\n",
        "\n",
        "df_copy = df_copy.merge(df_train[['client_id', 'target']])\n",
        "\n",
        "barplot_with_percentage(x='buy_popular_product', hue='target', date=df_copy)"
      ],
      "metadata": {
        "execution": {
          "iopub.status.busy": "2023-01-07T08:17:03.627620Z",
          "iopub.execute_input": "2023-01-07T08:17:03.628267Z",
          "iopub.status.idle": "2023-01-07T08:17:07.933543Z",
          "shell.execute_reply.started": "2023-01-07T08:17:03.628231Z",
          "shell.execute_reply": "2023-01-07T08:17:07.932321Z"
        },
        "trusted": true,
        "id": "XdJLCPJhEoEv",
        "outputId": "ff333fb3-42e0-4bec-c49a-300cef22fe18"
      },
      "execution_count": null,
      "outputs": [
        {
          "output_type": "display_data",
          "data": {
            "text/plain": "<Figure size 1080x504 with 1 Axes>",
            "image/png": "[encoded data removed]"
          },
          "metadata": {}
        }
      ]
    },
    {
      "cell_type": "code",
      "source": [
        "df_copy = df_train[['first_transaction', 'last_transaction', 'target']].copy() #\n",
        "df_copy['first_transaction'] = pd.to_datetime(df_copy.first_transaction, format='%Y-%m-%d %H:%M:%S')\n",
        "df_copy['last_transaction'] = pd.to_datetime(df_copy.first_transaction, format='%Y-%m-%d %H:%M:%S')\n",
        "\n",
        "df_copy['card_days'] = (df_copy.last_transaction.max() - df_copy.first_transaction).dt.days\n",
        "df_copy['has_card_more'] = df_copy['card_days'] > 45\n",
        "barplot_with_percentage(x='has_card_more', hue='target', date=df_copy)"
      ],
      "metadata": {
        "execution": {
          "iopub.status.busy": "2023-01-07T08:17:07.935758Z",
          "iopub.execute_input": "2023-01-07T08:17:07.937051Z",
          "iopub.status.idle": "2023-01-07T08:17:08.392045Z",
          "shell.execute_reply.started": "2023-01-07T08:17:07.936999Z",
          "shell.execute_reply": "2023-01-07T08:17:08.390782Z"
        },
        "trusted": true,
        "id": "FG8z2MLsEoEw",
        "outputId": "26602743-1207-4d88-a324-d753c7f212e4"
      },
      "execution_count": null,
      "outputs": [
        {
          "output_type": "display_data",
          "data": {
            "text/plain": "<Figure size 1080x504 with 1 Axes>",
            "image/png": "[encoded data removed]"
          },
          "metadata": {}
        }
      ]
    },
    {
      "cell_type": "code",
      "source": [
        "df_copy = df_train[['first_issue_date', 'first_redeem_date', 'target']].copy() #\n",
        "df_copy['first_issue_date'] = pd.to_datetime(df_copy.first_issue_date, format='%Y-%m-%d %H:%M:%S')\n",
        "df_copy['first_redeem_date'] = pd.to_datetime(df_copy.first_redeem_date, format='%Y-%m-%d %H:%M:%S')\n",
        "\n",
        "df_copy['issue_days'] = (df_copy.first_redeem_date.max() - df_copy.first_issue_date).dt.days\n",
        "df_copy['issue_days_more'] = df_copy['issue_days'] > 678\n",
        "barplot_with_percentage(x='issue_days_more', hue='target', date=df_copy)"
      ],
      "metadata": {
        "execution": {
          "iopub.status.busy": "2023-01-07T08:17:08.393677Z",
          "iopub.execute_input": "2023-01-07T08:17:08.394383Z",
          "iopub.status.idle": "2023-01-07T08:17:08.679010Z",
          "shell.execute_reply.started": "2023-01-07T08:17:08.394311Z",
          "shell.execute_reply": "2023-01-07T08:17:08.677721Z"
        },
        "trusted": true,
        "id": "UnFK9G3wEoEw",
        "outputId": "325a55b9-c8b5-4675-99aa-2d340dd178f8"
      },
      "execution_count": null,
      "outputs": [
        {
          "output_type": "display_data",
          "data": {
            "text/plain": "<Figure size 1080x504 with 1 Axes>",
            "image/png": "[encoded data removed]"
          },
          "metadata": {}
        }
      ]
    },
    {
      "cell_type": "code",
      "source": [
        "df_copy = df_train[['sum_regular_points_received', 'target']].copy() #\n",
        "\n",
        "df_copy['more_feat'] = df_copy['sum_regular_points_received'] > df_copy['sum_regular_points_received'].mean()\n",
        "barplot_with_percentage(x='more_feat', hue='target', date=df_copy)"
      ],
      "metadata": {
        "execution": {
          "iopub.status.busy": "2023-01-07T08:17:08.681425Z",
          "iopub.execute_input": "2023-01-07T08:17:08.681755Z",
          "iopub.status.idle": "2023-01-07T08:17:08.945781Z",
          "shell.execute_reply.started": "2023-01-07T08:17:08.681727Z",
          "shell.execute_reply": "2023-01-07T08:17:08.944516Z"
        },
        "trusted": true,
        "id": "dJPoBfikEoEw",
        "outputId": "653d2412-4d64-44dc-a7cc-8de2f0981079"
      },
      "execution_count": null,
      "outputs": [
        {
          "output_type": "display_data",
          "data": {
            "text/plain": "<Figure size 1080x504 with 1 Axes>",
            "image/png": "[encoded data removed]"
          },
          "metadata": {}
        }
      ]
    },
    {
      "cell_type": "code",
      "source": [
        "df_copy['sum_regular_points_received'].mean()"
      ],
      "metadata": {
        "execution": {
          "iopub.status.busy": "2023-01-07T08:17:09.712937Z",
          "iopub.execute_input": "2023-01-07T08:17:09.713315Z",
          "iopub.status.idle": "2023-01-07T08:17:09.722692Z",
          "shell.execute_reply.started": "2023-01-07T08:17:09.713284Z",
          "shell.execute_reply": "2023-01-07T08:17:09.721379Z"
        },
        "trusted": true,
        "id": "U-N1j2F-EoEw",
        "outputId": "cd43828d-2597-4099-ae73-c2f38048b8ee"
      },
      "execution_count": null,
      "outputs": [
        {
          "execution_count": 60,
          "output_type": "execute_result",
          "data": {
            "text/plain": "77.82280917251674"
          },
          "metadata": {}
        }
      ]
    },
    {
      "cell_type": "code",
      "source": [
        "df_copy = df_train[['sum_regular_points_spent', 'target']].copy()\n",
        "\n",
        "df_copy['more_feat'] = df_copy['sum_regular_points_spent'] > df_copy['sum_regular_points_spent'].mean()\n",
        "barplot_with_percentage(x='more_feat', hue='target', date=df_copy)"
      ],
      "metadata": {
        "execution": {
          "iopub.status.busy": "2023-01-07T08:17:10.310021Z",
          "iopub.execute_input": "2023-01-07T08:17:10.310928Z",
          "iopub.status.idle": "2023-01-07T08:17:10.572063Z",
          "shell.execute_reply.started": "2023-01-07T08:17:10.310891Z",
          "shell.execute_reply": "2023-01-07T08:17:10.570536Z"
        },
        "trusted": true,
        "id": "k9z5kXZ8EoEw",
        "outputId": "73a6f338-a019-4564-d0e2-df334c90bb68"
      },
      "execution_count": null,
      "outputs": [
        {
          "output_type": "display_data",
          "data": {
            "text/plain": "<Figure size 1080x504 with 1 Axes>",
            "image/png": "[encoded data removed]"
          },
          "metadata": {}
        }
      ]
    },
    {
      "cell_type": "code",
      "source": [
        "df_copy['sum_regular_points_spent'].mean()"
      ],
      "metadata": {
        "execution": {
          "iopub.status.busy": "2023-01-07T08:17:10.701576Z",
          "iopub.execute_input": "2023-01-07T08:17:10.702020Z",
          "iopub.status.idle": "2023-01-07T08:17:10.711556Z",
          "shell.execute_reply.started": "2023-01-07T08:17:10.701982Z",
          "shell.execute_reply": "2023-01-07T08:17:10.710212Z"
        },
        "trusted": true,
        "id": "RLvSrbBIEoEw",
        "outputId": "d5ccf733-ec5c-4030-8344-ab38a1d4555c"
      },
      "execution_count": null,
      "outputs": [
        {
          "execution_count": 62,
          "output_type": "execute_result",
          "data": {
            "text/plain": "-73.13311004306313"
          },
          "metadata": {}
        }
      ]
    },
    {
      "cell_type": "code",
      "source": [
        "df_copy = df_train[['mean_express_points_spent', 'target']].copy()\n",
        "\n",
        "df_copy['more_feat'] = df_copy['mean_express_points_spent'] > df_copy['mean_express_points_spent'].mean()\n",
        "barplot_with_percentage(x='more_feat', hue='target', date=df_copy)"
      ],
      "metadata": {
        "execution": {
          "iopub.status.busy": "2023-01-07T08:17:11.121106Z",
          "iopub.execute_input": "2023-01-07T08:17:11.121770Z",
          "iopub.status.idle": "2023-01-07T08:17:11.391673Z",
          "shell.execute_reply.started": "2023-01-07T08:17:11.121723Z",
          "shell.execute_reply": "2023-01-07T08:17:11.390430Z"
        },
        "trusted": true,
        "id": "m2S1SZiYEoEx",
        "outputId": "d67f9ab0-dd33-4c00-a179-8f401a5d12a9"
      },
      "execution_count": null,
      "outputs": [
        {
          "output_type": "display_data",
          "data": {
            "text/plain": "<Figure size 1080x504 with 1 Axes>",
            "image/png": "[encoded data removed]"
          },
          "metadata": {}
        }
      ]
    },
    {
      "cell_type": "code",
      "source": [
        "df_copy['mean_express_points_spent'].mean()"
      ],
      "metadata": {
        "execution": {
          "iopub.status.busy": "2023-01-07T08:17:11.661831Z",
          "iopub.execute_input": "2023-01-07T08:17:11.662712Z",
          "iopub.status.idle": "2023-01-07T08:17:11.671254Z",
          "shell.execute_reply.started": "2023-01-07T08:17:11.662660Z",
          "shell.execute_reply": "2023-01-07T08:17:11.669999Z"
        },
        "trusted": true,
        "id": "BSK8DtnEEoEx",
        "outputId": "e4b17aae-5fdd-4726-d693-91a6e8603a9f"
      },
      "execution_count": null,
      "outputs": [
        {
          "execution_count": 64,
          "output_type": "execute_result",
          "data": {
            "text/plain": "-0.6323366162949678"
          },
          "metadata": {}
        }
      ]
    },
    {
      "cell_type": "code",
      "source": [
        "df_copy = df_train[['sum_express_points_spent', 'target']].copy() #\n",
        "\n",
        "df_copy['more_feat'] = df_copy['sum_express_points_spent'] > df_copy['sum_express_points_spent'].mean()\n",
        "barplot_with_percentage(x='more_feat', hue='target', date=df_copy)"
      ],
      "metadata": {
        "execution": {
          "iopub.status.busy": "2023-01-07T08:17:12.082321Z",
          "iopub.execute_input": "2023-01-07T08:17:12.082783Z",
          "iopub.status.idle": "2023-01-07T08:17:12.354860Z",
          "shell.execute_reply.started": "2023-01-07T08:17:12.082745Z",
          "shell.execute_reply": "2023-01-07T08:17:12.353398Z"
        },
        "trusted": true,
        "id": "cQaSbOZXEoEx",
        "outputId": "d730933c-5073-4d44-9ac4-657fddd6b615"
      },
      "execution_count": null,
      "outputs": [
        {
          "output_type": "display_data",
          "data": {
            "text/plain": "<Figure size 1080x504 with 1 Axes>",
            "image/png": "[encoded data removed]"
          },
          "metadata": {}
        }
      ]
    },
    {
      "cell_type": "code",
      "source": [
        "df_copy['sum_express_points_spent'].mean()"
      ],
      "metadata": {
        "execution": {
          "iopub.status.busy": "2023-01-07T08:17:14.814602Z",
          "iopub.execute_input": "2023-01-07T08:17:14.815387Z",
          "iopub.status.idle": "2023-01-07T08:17:14.825445Z",
          "shell.execute_reply.started": "2023-01-07T08:17:14.815316Z",
          "shell.execute_reply": "2023-01-07T08:17:14.824228Z"
        },
        "trusted": true,
        "id": "G-Reikh-EoEx",
        "outputId": "f85ef870-b048-4a31-f91f-bc1441ecd515"
      },
      "execution_count": null,
      "outputs": [
        {
          "execution_count": 66,
          "output_type": "execute_result",
          "data": {
            "text/plain": "-6.45631913845187"
          },
          "metadata": {}
        }
      ]
    },
    {
      "cell_type": "code",
      "source": [
        "df_copy = df_train[['mean_purchase_sum', 'target']].copy() #\n",
        "\n",
        "df_copy['more_feat'] = df_copy['mean_purchase_sum'] > df_copy['mean_purchase_sum'].median()\n",
        "barplot_with_percentage(x='more_feat', hue='target', date=df_copy)"
      ],
      "metadata": {
        "execution": {
          "iopub.status.busy": "2023-01-07T08:17:15.048074Z",
          "iopub.execute_input": "2023-01-07T08:17:15.048524Z",
          "iopub.status.idle": "2023-01-07T08:17:15.404459Z",
          "shell.execute_reply.started": "2023-01-07T08:17:15.048487Z",
          "shell.execute_reply": "2023-01-07T08:17:15.403185Z"
        },
        "trusted": true,
        "id": "ehagbGR9EoEx",
        "outputId": "09d9a391-61ee-4565-df95-601c7333fd0c"
      },
      "execution_count": null,
      "outputs": [
        {
          "output_type": "display_data",
          "data": {
            "text/plain": "<Figure size 1080x504 with 1 Axes>",
            "image/png": "[encoded data removed]"
          },
          "metadata": {}
        }
      ]
    },
    {
      "cell_type": "code",
      "source": [
        "df_copy['mean_purchase_sum'].median()"
      ],
      "metadata": {
        "execution": {
          "iopub.status.busy": "2023-01-07T08:17:15.406201Z",
          "iopub.execute_input": "2023-01-07T08:17:15.406568Z",
          "iopub.status.idle": "2023-01-07T08:17:15.418848Z",
          "shell.execute_reply.started": "2023-01-07T08:17:15.406536Z",
          "shell.execute_reply": "2023-01-07T08:17:15.417079Z"
        },
        "trusted": true,
        "id": "93n9vr6tEoEy",
        "outputId": "5bcf0e4f-19d9-472c-ae28-0e56e1267707"
      },
      "execution_count": null,
      "outputs": [
        {
          "execution_count": 68,
          "output_type": "execute_result",
          "data": {
            "text/plain": "393.5576190476191"
          },
          "metadata": {}
        }
      ]
    },
    {
      "cell_type": "code",
      "source": [
        "df_copy = df_train[['sum_purchase_sum', 'target']].copy()\n",
        "\n",
        "df_copy['more_feat'] = df_copy['sum_purchase_sum'] > df_copy['sum_purchase_sum'].mean()\n",
        "barplot_with_percentage(x='more_feat', hue='target', date=df_copy)"
      ],
      "metadata": {
        "execution": {
          "iopub.status.busy": "2023-01-07T08:17:15.892979Z",
          "iopub.execute_input": "2023-01-07T08:17:15.894107Z",
          "iopub.status.idle": "2023-01-07T08:17:16.165658Z",
          "shell.execute_reply.started": "2023-01-07T08:17:15.894066Z",
          "shell.execute_reply": "2023-01-07T08:17:16.164501Z"
        },
        "trusted": true,
        "id": "Kmd4NkNLEoEy",
        "outputId": "58c29b1a-b1a2-46d9-a52f-c47af41eb238"
      },
      "execution_count": null,
      "outputs": [
        {
          "output_type": "display_data",
          "data": {
            "text/plain": "<Figure size 1080x504 with 1 Axes>",
            "image/png": "[encoded data removed]"
          },
          "metadata": {}
        }
      ]
    },
    {
      "cell_type": "code",
      "source": [
        " df_copy['sum_purchase_sum'].mean()"
      ],
      "metadata": {
        "execution": {
          "iopub.status.busy": "2023-01-07T08:17:16.369452Z",
          "iopub.execute_input": "2023-01-07T08:17:16.369878Z",
          "iopub.status.idle": "2023-01-07T08:17:16.378739Z",
          "shell.execute_reply.started": "2023-01-07T08:17:16.369846Z",
          "shell.execute_reply": "2023-01-07T08:17:16.377331Z"
        },
        "trusted": true,
        "id": "JtSfnAe-EoEy",
        "outputId": "cc7e1156-ee08-4f6a-8a1a-7fabb7df7b27"
      },
      "execution_count": null,
      "outputs": [
        {
          "execution_count": 70,
          "output_type": "execute_result",
          "data": {
            "text/plain": "8584.204814285818"
          },
          "metadata": {}
        }
      ]
    },
    {
      "cell_type": "code",
      "source": [
        "df_copy = df_train[['afternoon', 'evening', 'morning', 'night', 'target']].copy()\n",
        "df_copy['popular_interval'] = df_copy[['afternoon', 'evening', 'morning', 'night']].idxmax(1)\n",
        "df_copy['afternoon_popular_interval'] = np.int16(df_copy['popular_interval'] == 'afternoon')\n",
        "\n",
        "barplot_with_percentage(x='afternoon_popular_interval', hue='target', date=df_copy)"
      ],
      "metadata": {
        "execution": {
          "iopub.status.busy": "2023-01-07T08:17:16.568809Z",
          "iopub.execute_input": "2023-01-07T08:17:16.569558Z",
          "iopub.status.idle": "2023-01-07T08:17:16.993800Z",
          "shell.execute_reply.started": "2023-01-07T08:17:16.569508Z",
          "shell.execute_reply": "2023-01-07T08:17:16.992593Z"
        },
        "trusted": true,
        "id": "GrZv-NsKEoEz",
        "outputId": "ec0dd114-8a9f-4714-d925-b19e4b231ce2"
      },
      "execution_count": null,
      "outputs": [
        {
          "output_type": "display_data",
          "data": {
            "text/plain": "<Figure size 1080x504 with 1 Axes>",
            "image/png": "[encoded data removed]"
          },
          "metadata": {}
        }
      ]
    },
    {
      "cell_type": "markdown",
      "source": [
        "## Feature engineering"
      ],
      "metadata": {
        "id": "lMDZZ43REoEz"
      }
    },
    {
      "cell_type": "code",
      "source": [
        "df_train_purch"
      ],
      "metadata": {
        "execution": {
          "iopub.status.busy": "2023-01-07T08:17:19.869856Z",
          "iopub.execute_input": "2023-01-07T08:17:19.870593Z",
          "iopub.status.idle": "2023-01-07T08:17:19.904337Z",
          "shell.execute_reply.started": "2023-01-07T08:17:19.870554Z",
          "shell.execute_reply": "2023-01-07T08:17:19.903034Z"
        },
        "trusted": true,
        "id": "irVHkeT1EoEz",
        "outputId": "3bab271e-a01b-404d-a1cd-33b143f1f8c7"
      },
      "execution_count": null,
      "outputs": [
        {
          "execution_count": 72,
          "output_type": "execute_result",
          "data": {
            "text/plain": "           client_id transaction_id transaction_datetime  \\\n0         000012768d     7e3e2e3984  2018-12-01 07:12:45   \n1         000012768d     7e3e2e3984  2018-12-01 07:12:45   \n2         000012768d     7e3e2e3984  2018-12-01 07:12:45   \n3         000012768d     7e3e2e3984  2018-12-01 07:12:45   \n4         000012768d     7e3e2e3984  2018-12-01 07:12:45   \n...              ...            ...                  ...   \n15998947  fffeca6d22     a0bb11a968  2019-03-09 07:47:43   \n15998948  fffeca6d22     a0bb11a968  2019-03-09 07:47:43   \n15998949  fffeca6d22     3b876a5532  2019-03-15 14:46:39   \n15998950  fffeca6d22     3b876a5532  2019-03-15 14:46:39   \n15998951  fffeca6d22     3b876a5532  2019-03-15 14:46:39   \n\n          regular_points_received  express_points_received  \\\n0                            10.0                      0.0   \n1                            10.0                      0.0   \n2                            10.0                      0.0   \n3                            10.0                      0.0   \n4                            10.0                      0.0   \n...                           ...                      ...   \n15998947                      0.4                      0.0   \n15998948                      0.4                      0.0   \n15998949                      0.8                      0.0   \n15998950                      0.8                      0.0   \n15998951                      0.8                      0.0   \n\n          regular_points_spent  express_points_spent  purchase_sum  \\\n0                          0.0                   0.0        1007.0   \n1                          0.0                   0.0        1007.0   \n2                          0.0                   0.0        1007.0   \n3                          0.0                   0.0        1007.0   \n4                          0.0                   0.0        1007.0   \n...                        ...                   ...           ...   \n15998947                   0.0                   0.0          99.0   \n15998948                   0.0                   0.0          99.0   \n15998949                   0.0                   0.0         165.0   \n15998950                   0.0                   0.0         165.0   \n15998951                   0.0                   0.0         165.0   \n\n            store_id  product_id  product_quantity  trn_sum_from_iss  \\\n0         54a4a11a29  9a80204f78               2.0              80.0   \n1         54a4a11a29  da89ebd374               1.0              65.0   \n2         54a4a11a29  0a95e1151d               1.0              24.0   \n3         54a4a11a29  4055b15e4a               2.0              50.0   \n4         54a4a11a29  a685f1916b               1.0              22.0   \n...              ...         ...               ...               ...   \n15998947  a0613e36b5  de437430e2               1.0              19.0   \n15998948  a0613e36b5  ad8fee4200               1.0              45.0   \n15998949  a0613e36b5  ad8fee4200               2.0              94.0   \n15998950  a0613e36b5  230dbb0c16               1.0              50.0   \n15998951  a0613e36b5  8fbe7fde75               1.0              22.0   \n\n          trn_sum_from_red  \n0                      NaN  \n1                      NaN  \n2                      NaN  \n3                      NaN  \n4                      NaN  \n...                    ...  \n15998947               NaN  \n15998948               NaN  \n15998949               NaN  \n15998950               NaN  \n15998951               NaN  \n\n[15998952 rows x 13 columns]",
            "text/html": "<div>\n<style scoped>\n    .dataframe tbody tr th:only-of-type {\n        vertical-align: middle;\n    }\n\n    .dataframe tbody tr th {\n        vertical-align: top;\n    }\n\n    .dataframe thead th {\n        text-align: right;\n    }\n</style>\n<table border=\"1\" class=\"dataframe\">\n  <thead>\n    <tr style=\"text-align: right;\">\n      <th></th>\n      <th>client_id</th>\n      <th>transaction_id</th>\n      <th>transaction_datetime</th>\n      <th>regular_points_received</th>\n      <th>express_points_received</th>\n      <th>regular_points_spent</th>\n      <th>express_points_spent</th>\n      <th>purchase_sum</th>\n      <th>store_id</th>\n      <th>product_id</th>\n      <th>product_quantity</th>\n      <th>trn_sum_from_iss</th>\n      <th>trn_sum_from_red</th>\n    </tr>\n  </thead>\n  <tbody>\n    <tr>\n      <th>0</th>\n      <td>000012768d</td>\n      <td>7e3e2e3984</td>\n      <td>2018-12-01 07:12:45</td>\n      <td>10.0</td>\n      <td>0.0</td>\n      <td>0.0</td>\n      <td>0.0</td>\n      <td>1007.0</td>\n      <td>54a4a11a29</td>\n      <td>9a80204f78</td>\n      <td>2.0</td>\n      <td>80.0</td>\n      <td>NaN</td>\n    </tr>\n    <tr>\n      <th>1</th>\n      <td>000012768d</td>\n      <td>7e3e2e3984</td>\n      <td>2018-12-01 07:12:45</td>\n      <td>10.0</td>\n      <td>0.0</td>\n      <td>0.0</td>\n      <td>0.0</td>\n      <td>1007.0</td>\n      <td>54a4a11a29</td>\n      <td>da89ebd374</td>\n      <td>1.0</td>\n      <td>65.0</td>\n      <td>NaN</td>\n    </tr>\n    <tr>\n      <th>2</th>\n      <td>000012768d</td>\n      <td>7e3e2e3984</td>\n      <td>2018-12-01 07:12:45</td>\n      <td>10.0</td>\n      <td>0.0</td>\n      <td>0.0</td>\n      <td>0.0</td>\n      <td>1007.0</td>\n      <td>54a4a11a29</td>\n      <td>0a95e1151d</td>\n      <td>1.0</td>\n      <td>24.0</td>\n      <td>NaN</td>\n    </tr>\n    <tr>\n      <th>3</th>\n      <td>000012768d</td>\n      <td>7e3e2e3984</td>\n      <td>2018-12-01 07:12:45</td>\n      <td>10.0</td>\n      <td>0.0</td>\n      <td>0.0</td>\n      <td>0.0</td>\n      <td>1007.0</td>\n      <td>54a4a11a29</td>\n      <td>4055b15e4a</td>\n      <td>2.0</td>\n      <td>50.0</td>\n      <td>NaN</td>\n    </tr>\n    <tr>\n      <th>4</th>\n      <td>000012768d</td>\n      <td>7e3e2e3984</td>\n      <td>2018-12-01 07:12:45</td>\n      <td>10.0</td>\n      <td>0.0</td>\n      <td>0.0</td>\n      <td>0.0</td>\n      <td>1007.0</td>\n      <td>54a4a11a29</td>\n      <td>a685f1916b</td>\n      <td>1.0</td>\n      <td>22.0</td>\n      <td>NaN</td>\n    </tr>\n    <tr>\n      <th>...</th>\n      <td>...</td>\n      <td>...</td>\n      <td>...</td>\n      <td>...</td>\n      <td>...</td>\n      <td>...</td>\n      <td>...</td>\n      <td>...</td>\n      <td>...</td>\n      <td>...</td>\n      <td>...</td>\n      <td>...</td>\n      <td>...</td>\n    </tr>\n    <tr>\n      <th>15998947</th>\n      <td>fffeca6d22</td>\n      <td>a0bb11a968</td>\n      <td>2019-03-09 07:47:43</td>\n      <td>0.4</td>\n      <td>0.0</td>\n      <td>0.0</td>\n      <td>0.0</td>\n      <td>99.0</td>\n      <td>a0613e36b5</td>\n      <td>de437430e2</td>\n      <td>1.0</td>\n      <td>19.0</td>\n      <td>NaN</td>\n    </tr>\n    <tr>\n      <th>15998948</th>\n      <td>fffeca6d22</td>\n      <td>a0bb11a968</td>\n      <td>2019-03-09 07:47:43</td>\n      <td>0.4</td>\n      <td>0.0</td>\n      <td>0.0</td>\n      <td>0.0</td>\n      <td>99.0</td>\n      <td>a0613e36b5</td>\n      <td>ad8fee4200</td>\n      <td>1.0</td>\n      <td>45.0</td>\n      <td>NaN</td>\n    </tr>\n    <tr>\n      <th>15998949</th>\n      <td>fffeca6d22</td>\n      <td>3b876a5532</td>\n      <td>2019-03-15 14:46:39</td>\n      <td>0.8</td>\n      <td>0.0</td>\n      <td>0.0</td>\n      <td>0.0</td>\n      <td>165.0</td>\n      <td>a0613e36b5</td>\n      <td>ad8fee4200</td>\n      <td>2.0</td>\n      <td>94.0</td>\n      <td>NaN</td>\n    </tr>\n    <tr>\n      <th>15998950</th>\n      <td>fffeca6d22</td>\n      <td>3b876a5532</td>\n      <td>2019-03-15 14:46:39</td>\n      <td>0.8</td>\n      <td>0.0</td>\n      <td>0.0</td>\n      <td>0.0</td>\n      <td>165.0</td>\n      <td>a0613e36b5</td>\n      <td>230dbb0c16</td>\n      <td>1.0</td>\n      <td>50.0</td>\n      <td>NaN</td>\n    </tr>\n    <tr>\n      <th>15998951</th>\n      <td>fffeca6d22</td>\n      <td>3b876a5532</td>\n      <td>2019-03-15 14:46:39</td>\n      <td>0.8</td>\n      <td>0.0</td>\n      <td>0.0</td>\n      <td>0.0</td>\n      <td>165.0</td>\n      <td>a0613e36b5</td>\n      <td>8fbe7fde75</td>\n      <td>1.0</td>\n      <td>22.0</td>\n      <td>NaN</td>\n    </tr>\n  </tbody>\n</table>\n<p>15998952 rows × 13 columns</p>\n</div>"
          },
          "metadata": {}
        }
      ]
    },
    {
      "cell_type": "markdown",
      "source": [
        "**Генерация признаков**\n",
        "- Различные группы людей (возраст + пол) (+)\n",
        "- Количество дней владения картой клиента (+)\n",
        "- Клиент владеет картой больше 45 дней (+)\n",
        "- Интервал дней между first_issue_date first_redeem_date (+)\n",
        "- Все времена в unixtime (+)\n",
        "- Признак, который отмечает nan значениями (+)\n",
        "- Покупка популярного level2 ... level4 (+)\n",
        "- Покупка популярного товара (+)\n",
        "- Количество купленого алкоголя (+)\n",
        "- Брал алкоголь хотя бы раз (+)\n",
        "- Количество купленого товара собственного производства (+)\n",
        "- Брал товар собственного производства хотя бы раз (+)\n",
        "- Стоимость покупок выше среднего чека (+)\n",
        "- Доля покупок с обычными баллами (+)\n",
        "- Доля покупок с экстра баллами (+)\n",
        "- Доля покупок с полученными обычными баллами (+)\n",
        "- Доля покупок с полученными экстра баллами (+)\n",
        "- Количество уникальных магазинов клиента (+)\n",
        "- Количество потраченных/полученных баллов и потраченных денег за последний месяц (+)\n",
        "- Количество потраченных/полученных баллов и потраченных денег за последние два месяца (+)\n",
        "- Разница количество потраченных/полученных между интервалами выше (+)\n",
        "\n",
        "**Допполнительные признаки**\n",
        "- Сколько раз сумма покупок больше 500р, 1000р, 1500р (+)\n",
        "- Сколько различных товаров покупает клиент (+)\n",
        "- Доля алкоголя из купленных товаров (+)\n",
        "- Доля товаров собственного производства из купленных товаров (+)\n",
        "- Количество прошедшего времени с first_issue_date и first_redeem_date до последний даты в транзакциях (+)\n",
        "- Средний интервал между походами в магазин (+)\n",
        "- Количество товаров собственного производства до и после first_redeem_date (+)\n",
        "- Количество товаров алкоголя до и после first_redeem_date (+)\n",
        "- Количество товаров собственного производства до и после среднего времени всех транзакций клтента (+)\n",
        "- Количество товаров алкоголя до и после среднего времени всех транзакций клтента (+)\n",
        "\n",
        "-- Дополнительно попробовать убрать выбросы\n",
        "\n",
        "-- Попробовать PCA, T-SNE\n",
        "\n",
        "-- Попробовать нелинейный scale, log(1 + x)"
      ],
      "metadata": {
        "id": "IXZvAT9REoEz"
      }
    },
    {
      "cell_type": "code",
      "source": [
        "df_train.info()"
      ],
      "metadata": {
        "execution": {
          "iopub.status.busy": "2023-01-07T08:17:37.072806Z",
          "iopub.execute_input": "2023-01-07T08:17:37.073240Z",
          "iopub.status.idle": "2023-01-07T08:17:37.122636Z",
          "shell.execute_reply.started": "2023-01-07T08:17:37.073205Z",
          "shell.execute_reply": "2023-01-07T08:17:37.121070Z"
        },
        "trusted": true,
        "id": "hFdr0NuPEoEz",
        "outputId": "becfe200-e6d7-45a0-ed52-6555a3cbfe46"
      },
      "execution_count": null,
      "outputs": [
        {
          "name": "stdout",
          "text": "<class 'pandas.core.frame.DataFrame'>\nInt64Index: 140027 entries, 0 to 140026\nData columns (total 36 columns):\n #   Column                          Non-Null Count   Dtype         \n---  ------                          --------------   -----         \n 0   client_id                       140027 non-null  object        \n 1   afternoon                       140027 non-null  int64         \n 2   evening                         140027 non-null  int64         \n 3   morning                         140027 non-null  int64         \n 4   night                           140027 non-null  int64         \n 5   mean_netto                      140027 non-null  float64       \n 6   sum_netto                       140027 non-null  float64       \n 7   count_own_trademark             140027 non-null  int64         \n 8   count_alcohol                   140027 non-null  int64         \n 9   mean_regular_points_received    140027 non-null  float64       \n 10  std_regular_points_received     137324 non-null  float64       \n 11  median_regular_points_received  140027 non-null  float64       \n 12  sum_regular_points_received     140027 non-null  float64       \n 13  mean_express_points_received    140027 non-null  float64       \n 14  std_express_points_received     137324 non-null  float64       \n 15  median_express_points_received  140027 non-null  float64       \n 16  sum_express_points_received     140027 non-null  float64       \n 17  mean_regular_points_spent       140027 non-null  float64       \n 18  std_regular_points_spent        137324 non-null  float64       \n 19  median_regular_points_spent     140027 non-null  float64       \n 20  sum_regular_points_spent        140027 non-null  float64       \n 21  mean_express_points_spent       140027 non-null  float64       \n 22  std_express_points_spent        137324 non-null  float64       \n 23  median_express_points_spent     140027 non-null  float64       \n 24  sum_express_points_spent        140027 non-null  float64       \n 25  mean_purchase_sum               140027 non-null  float64       \n 26  std_purchase_sum                137324 non-null  float64       \n 27  median_purchase_sum             140027 non-null  float64       \n 28  sum_purchase_sum                140027 non-null  float64       \n 29  first_transaction               140027 non-null  datetime64[ns]\n 30  last_transaction                140027 non-null  datetime64[ns]\n 31  first_issue_date                140027 non-null  datetime64[ns]\n 32  first_redeem_date               140027 non-null  datetime64[ns]\n 33  age                             140027 non-null  int64         \n 34  gender                          140027 non-null  object        \n 35  target                          140027 non-null  int16         \ndtypes: datetime64[ns](4), float64(22), int16(1), int64(7), object(2)\nmemory usage: 38.7+ MB\n",
          "output_type": "stream"
        }
      ]
    },
    {
      "cell_type": "code",
      "source": [
        "def create_feats(date_proc, is_train=True, ad_random=False):\n",
        "    date_proc['old_age'] = np.int16(date_proc['age'] > 50)\n",
        "    date_proc['old_age_f'] = np.int16((date_proc['age'] > 50) & (date_proc['gender'] == 'F'))\n",
        "\n",
        "    # time normalize\n",
        "    date_proc['first_transaction_unix'] = date_proc['first_transaction'].view('int64') // (10 ** 9)\n",
        "    date_proc['last_transaction_unix'] = date_proc['last_transaction'].view('int64') // (10 ** 9)\n",
        "    date_proc['first_issue_date_unix'] = date_proc['first_issue_date'].view('int64') // (10 ** 9)\n",
        "    date_proc['first_redeem_date_unix'] = date_proc['first_redeem_date'].view('int64') // (10 ** 9)\n",
        "    \n",
        "    # pred last transaction (before max value time) \n",
        "    if is_train:\n",
        "        temp = df_train_purch[['client_id', 'transaction_datetime']].drop_duplicates()\n",
        "    else:\n",
        "        temp = df_test_purch[['client_id', 'transaction_datetime']].drop_duplicates()\n",
        "    temp.transaction_datetime = pd.to_datetime(temp.transaction_datetime, format='%Y-%m-%d %H:%M:%S', errors='coerce')\n",
        "    temp['max_transaction_datetime'] = temp.groupby('client_id')['transaction_datetime'].transform('max')\n",
        "    pred_last_trans = temp[temp.transaction_datetime < temp.max_transaction_datetime]\\\n",
        "        .groupby('client_id').agg(pred_last_transaction_datetime=('transaction_datetime', 'max')).reset_index()\n",
        "\n",
        "    date_proc = pred_last_trans.merge(date_proc, how='right')\n",
        "    date_proc.pred_last_transaction_datetime = date_proc.pred_last_transaction_datetime.view('int64') // (10 ** 9)\n",
        "    \n",
        "    date_proc['days_own'] = (date_proc.pred_last_transaction_datetime - date_proc.first_redeem_date_unix)\n",
        "    date_proc['days_from_last_trans'] = (date_proc.last_transaction_unix - date_proc.pred_last_transaction_datetime)\n",
        "    \n",
        "    # ordinal representation datetime\n",
        "    last_date = date.toordinal(date(2019, 3, 19))\n",
        "    date_proc['ordinal_first_issue_date'] = last_date - date_proc.first_issue_date.apply(lambda x: date.toordinal(x))\n",
        "    date_proc['ordinal_first_redeem_date'] = last_date - date_proc.first_redeem_date.apply(lambda x: date.toordinal(x))\n",
        "    \n",
        "    # count buy statistic after and before (first_redeem_date)\n",
        "    if is_train:\n",
        "        temp = df_train_purch[['client_id', 'transaction_id', 'transaction_datetime', 'product_id']]\\\n",
        "            .merge(df_products[['product_id', 'is_own_trademark', 'is_alcohol']])\n",
        "        temp = temp.merge(date_proc[['client_id', 'first_redeem_date']], how='left')\n",
        "    else:\n",
        "        temp = df_test_purch[['client_id', 'transaction_id', 'transaction_datetime', 'product_id']]\\\n",
        "            .merge(df_products[['product_id', 'is_own_trademark', 'is_alcohol']])\n",
        "        temp = temp.merge(date_proc[['client_id', 'first_redeem_date']], how='left')\n",
        "\n",
        "    date_proc = temp[temp.transaction_datetime < temp.first_redeem_date]\\\n",
        "        .groupby('client_id').agg(before_fr_count_own=('is_own_trademark', 'sum'),\n",
        "                                  before_fr_count_alcohol=('is_alcohol', 'sum'),\n",
        "                                  before_fr_count_product=('product_id', 'count'))\\\n",
        "                                    .reset_index().merge(date_proc, how='right')\n",
        "    date_proc = temp[temp.transaction_datetime >= temp.first_redeem_date]\\\n",
        "        .groupby('client_id').agg(after_fr_count_own=('is_own_trademark', 'sum'),\n",
        "                                  after_fr_count_alcohol=('is_alcohol', 'sum'),\n",
        "                                  after_fr_count_product=('product_id', 'count'))\\\n",
        "                                    .reset_index().merge(date_proc, how='right')\n",
        "    date_proc.fillna(0, inplace=True)\n",
        "    \n",
        "    # count buy statistic after and before (mean first_redeem_date)\n",
        "    if is_train:\n",
        "        temp = df_train_purch[['client_id', 'transaction_id', 'transaction_datetime', 'product_id']]\\\n",
        "                .merge(df_products[['product_id', 'is_own_trademark', 'is_alcohol']])\n",
        "    else:\n",
        "        temp = df_test_purch[['client_id', 'transaction_id', 'transaction_datetime', 'product_id']]\\\n",
        "                .merge(df_products[['product_id', 'is_own_trademark', 'is_alcohol']])\n",
        "    temp = temp.merge(temp[['client_id', 'transaction_datetime']].drop_duplicates()\\\n",
        "        .groupby('client_id').agg(mean_transaction_datetime=('transaction_datetime', 'mean')).reset_index(),\n",
        "                    how='left')\n",
        "    \n",
        "    date_proc = date_proc.merge(temp[temp.transaction_datetime < temp.mean_transaction_datetime].groupby('client_id')\\\n",
        "                    .agg(before_mean_own=('is_own_trademark', 'sum'),\n",
        "                         before_mean_alcohol=('is_alcohol', 'sum'),\n",
        "                         before_count_purches=('product_id', 'count')).reset_index(), how='left')\n",
        "    date_proc = date_proc.merge(temp[temp.transaction_datetime >= temp.mean_transaction_datetime].groupby('client_id')\\\n",
        "                    .agg(after_mean_own=('is_own_trademark', 'sum'),\n",
        "                         after_mean_alcohol=('is_alcohol', 'sum'),\n",
        "                         after_count_purches=('product_id', 'count')).reset_index(), how='left')\n",
        "    date_proc['diff_mean_own'] = date_proc['after_mean_own'] - date_proc['before_mean_own']\n",
        "    date_proc['diff_mean_alcohol'] = date_proc['after_mean_alcohol'] - date_proc['before_mean_alcohol']\n",
        "    date_proc['diff_count_purches'] = date_proc['after_count_purches'] - date_proc['before_count_purches']\n",
        "    \n",
        "    # card days and issue days\n",
        "    #date_proc['card_days'] = (date_proc.first_redeem_date - date_proc.first_transaction).dt.days\n",
        "    date_proc['card_days'] = (date_proc.last_transaction.max() - date_proc.first_redeem_date).dt.days\n",
        "    date_proc['has_card_more'] = np.int16(date_proc['card_days'] > 100)\n",
        "    \n",
        "    date_proc['issue_days'] = (date_proc.last_transaction.max() - date_proc.first_issue_date).dt.days\n",
        "    date_proc['issue_days_more'] = np.int16(date_proc['issue_days'] > 678)\n",
        "    \n",
        "    # buy popular product level \n",
        "    if is_train:\n",
        "        temp = df_train_purch[['client_id', 'transaction_id', 'transaction_datetime', 'product_id']].merge(df_products)\n",
        "    else:\n",
        "        temp = df_test_purch[['client_id', 'transaction_id', 'transaction_datetime', 'product_id']].merge(df_products)\n",
        "    \n",
        "    popular_level = ['e344ab2e71', 'ad2b2e17d2', 'ca69ed9de2', '146717c1b2']\n",
        "    for i in range(4, 3, -1):\n",
        "        temp[f'buy_popular_level_{i}'] = temp[f'level_{i}'] == popular_level[i-1]\n",
        "        date_proc = temp.groupby('client_id')[f'buy_popular_level_{i}'].any().reset_index().merge(date_proc)\n",
        "        date_proc[f'buy_popular_level_{i}'] = np.int16(date_proc[f'buy_popular_level_{i}'])\n",
        "    \n",
        "    # buy popular product_id\n",
        "    if is_train:\n",
        "        temp = df_train_purch[['client_id', 'product_id']].copy()\n",
        "    else:\n",
        "        temp = df_test_purch[['client_id', 'product_id']].copy()\n",
        "    temp['buy_popular'] = temp['product_id'] == '4009f09b04'\n",
        "    date_proc = temp.groupby('client_id').agg(buy_popular_product=('buy_popular', np.any)).reset_index().merge(date_proc)\n",
        "    date_proc['buy_popular_product'] = np.int16(date_proc['buy_popular_product'])\n",
        "    \n",
        "    date_proc['buy_alcohol'] = np.int16(date_proc['count_alcohol'] > 0)\n",
        "    date_proc['buy_own_trademark'] = np.int16(date_proc['count_own_trademark'] > 0)\n",
        "    date_proc['more_sum_purchase'] = np.int16(date_proc['mean_purchase_sum'] > 427)\n",
        "    \n",
        "    # procent use regular and express points\n",
        "    if is_train:\n",
        "        temp = df_train_purch[['client_id', 'transaction_id',\n",
        "                               'regular_points_received', 'express_points_received',\n",
        "                               'regular_points_spent', 'express_points_spent']].drop_duplicates()\n",
        "    else:\n",
        "        temp = df_test_purch[['client_id', 'transaction_id',\n",
        "                               'regular_points_received', 'express_points_received',\n",
        "                               'regular_points_spent', 'express_points_spent']].drop_duplicates()\n",
        "    temp['proc_regular_points_received'] = temp['regular_points_received'] > 0\n",
        "    temp['proc_express_points_received'] = temp['express_points_received'] > 0\n",
        "    temp['proc_regular_points_spent'] = temp['regular_points_spent'] < 0\n",
        "    temp['proc_express_points_spent'] = temp['express_points_spent'] < 0\n",
        "    \n",
        "    date_proc = temp.groupby('client_id')['proc_regular_points_received'].mean().reset_index().merge(date_proc)\n",
        "    date_proc = temp.groupby('client_id')['proc_express_points_received'].mean().reset_index().merge(date_proc)\n",
        "    date_proc = temp.groupby('client_id')['proc_regular_points_spent'].mean().reset_index().merge(date_proc)\n",
        "    date_proc = temp.groupby('client_id')['proc_express_points_spent'].mean().reset_index().merge(date_proc)\n",
        "    date_proc['proc_regular_points_received'] *= 100\n",
        "    date_proc['proc_express_points_received'] *= 100\n",
        "    date_proc['proc_regular_points_spent'] *= 100\n",
        "    date_proc['proc_express_points_spent'] *= 100\n",
        "    \n",
        "    # count unique store\n",
        "    if is_train:\n",
        "        temp = df_train_purch[['client_id', 'store_id']].drop_duplicates()\n",
        "    else:\n",
        "        temp = df_test_purch[['client_id', 'store_id']].drop_duplicates()\n",
        "    date_proc = temp.groupby('client_id').agg(count_store=('store_id', 'count')).reset_index().merge(date_proc)\n",
        "    \n",
        "    # trn_sum_from_iss and trn_sum_from_red\n",
        "    if is_train:\n",
        "        temp = df_train_purch[['client_id', 'trn_sum_from_iss', 'trn_sum_from_red']].copy()\n",
        "    else:\n",
        "        temp = df_test_purch[['client_id', 'trn_sum_from_iss', 'trn_sum_from_red']].copy()\n",
        "    temp.trn_sum_from_red.fillna(0, inplace=True)\n",
        "    date_proc = temp.groupby('client_id').agg(mean_trn_sum_from_iss=('trn_sum_from_iss', 'mean'),\n",
        "                                              std_trn_sum_from_iss=('trn_sum_from_iss', 'std'),\n",
        "                                              median_trn_sum_from_iss=('trn_sum_from_iss', 'median'),\n",
        "                                              sum_trn_sum_from_iss=('trn_sum_from_iss', 'sum'),\n",
        "                                              mean_trn_sum_from_red=('trn_sum_from_red', 'mean'),\n",
        "                                              std_trn_sum_from_red=('trn_sum_from_red', 'std'),\n",
        "                                              median_trn_sum_from_red=('trn_sum_from_red', 'median'),\n",
        "                                              sum_trn_sum_from_red=('trn_sum_from_red', 'sum'))\\\n",
        "                                                .reset_index().merge(date_proc)\n",
        "    \n",
        "    \n",
        "    \n",
        "    # static last month, last before month, diffs\n",
        "    if is_train:\n",
        "        temp = df_train_purch[['client_id', 'transaction_id', 'transaction_datetime',\n",
        "                               'regular_points_received', 'express_points_received',\n",
        "                               'regular_points_spent', 'express_points_spent', 'purchase_sum']].drop_duplicates()\n",
        "    else:\n",
        "        temp = df_test_purch[['client_id', 'transaction_id', 'transaction_datetime',\n",
        "                               'regular_points_received', 'express_points_received',\n",
        "                               'regular_points_spent', 'express_points_spent', 'purchase_sum']].drop_duplicates()\n",
        "    temp.transaction_datetime = pd.to_datetime(temp.transaction_datetime, format='%Y-%m-%d %H:%M:%S')\n",
        "    temp['transaction_time_ago'] = temp.transaction_datetime.max() - temp.transaction_datetime\n",
        "    temp['last_month'] = temp.transaction_time_ago < pd.Timedelta('31d')\n",
        "    temp['last_two_month'] = temp.transaction_time_ago < pd.Timedelta('61d')\n",
        "    client_last_month = temp[temp.last_month].groupby('client_id')\\\n",
        "            .agg(last_month_regular_points_received=('regular_points_received', 'sum'),\n",
        "                 last_month_express_points_received=('express_points_received', 'sum'),\n",
        "                 last_month_regular_points_spent=('regular_points_spent', 'sum'),\n",
        "                 last_month_express_points_spent=('express_points_spent', 'sum'),\n",
        "                 last_month_purchase_sum=('purchase_sum', 'sum')).reset_index()\n",
        "    date_proc = date_proc.merge(client_last_month, how='left').fillna(0)\n",
        "    client_last_two_month = temp[temp.last_two_month].groupby('client_id')\\\n",
        "            .agg(last_two_month_regular_points_received=('regular_points_received', 'sum'),\n",
        "                 last_two_month_express_points_received=('express_points_received', 'sum'),\n",
        "                 last_two_month_regular_points_spent=('regular_points_spent', 'sum'),\n",
        "                 last_two_month_express_points_spent=('express_points_spent', 'sum'),\n",
        "                 last_two_month_purchase_sum=('purchase_sum', 'sum')).reset_index()\n",
        "    date_proc = date_proc.merge(client_last_two_month, how='left').fillna(0)\n",
        "    \n",
        "    date_proc['before_month_regular_points_received'] = date_proc.last_two_month_regular_points_received \\\n",
        "        - date_proc.last_month_regular_points_received\n",
        "    date_proc['before_month_express_points_received'] = date_proc.last_two_month_express_points_received \\\n",
        "        - date_proc.last_month_express_points_received\n",
        "    date_proc['before_month_regular_points_spent'] = date_proc.last_two_month_regular_points_spent \\\n",
        "        - date_proc.last_month_regular_points_spent\n",
        "    date_proc['before_month_express_points_spent'] = date_proc.last_two_month_express_points_spent \\\n",
        "        - date_proc.last_month_express_points_spent\n",
        "    date_proc['before_month_purchase_sum'] = date_proc.last_two_month_purchase_sum \\\n",
        "        - date_proc.last_month_purchase_sum\n",
        "    \n",
        "    date_proc['diff_month_regular_points_received'] = date_proc.last_month_regular_points_received \\\n",
        "        - date_proc.before_month_regular_points_received\n",
        "    date_proc['diff_month_express_points_received'] = date_proc.last_month_express_points_received \\\n",
        "        - date_proc.before_month_express_points_received\n",
        "    date_proc['diff_month_regular_points_spent'] = date_proc.last_month_regular_points_spent \\\n",
        "        - date_proc.before_month_regular_points_spent\n",
        "    date_proc['diff_month_express_points_spent'] = date_proc.last_month_express_points_spent \\\n",
        "        - date_proc.before_month_express_points_spent\n",
        "    date_proc['diff_month_purchase_sum'] = date_proc.last_month_purchase_sum \\\n",
        "        - date_proc.before_month_purchase_sum\n",
        "    \n",
        "    # count purchase more 500, 1000, 1500\n",
        "    if is_train:\n",
        "        temp = df_train_purch[['client_id', 'transaction_id', 'purchase_sum']].drop_duplicates()\n",
        "    else:\n",
        "        temp = df_test_purch[['client_id', 'transaction_id', 'purchase_sum']].drop_duplicates()\n",
        "    temp['buy_more500_times'] = np.int16(temp.purchase_sum > 500)\n",
        "    temp['buy_more1000_times'] = np.int16(temp.purchase_sum > 1000)\n",
        "    temp['buy_more1500_times'] = np.int16(temp.purchase_sum > 1500)\n",
        "    date_proc = temp.groupby('client_id')[['buy_more500_times',\n",
        "                                      'buy_more1000_times',\n",
        "                                      'buy_more1500_times']].sum().reset_index().merge(date_proc)\n",
        "    \n",
        "    # more mean purchases\n",
        "    if is_train:\n",
        "        temp = df_train_purch[['client_id', 'transaction_id', 'purchase_sum']].drop_duplicates()\n",
        "    else:\n",
        "        temp = df_test_purch[['client_id', 'transaction_id', 'purchase_sum']].drop_duplicates()\n",
        "    temp['more_mean_purchase_sum_proc'] = temp.purchase_sum > 427\n",
        "    temp = temp.groupby('client_id')['more_mean_purchase_sum_proc'].mean().reset_index()\n",
        "    temp['more_mean_purchase_sum'] = np.int16(temp['more_mean_purchase_sum_proc'] > 0.5)\n",
        "    date_proc = temp.merge(date_proc)\n",
        "    \n",
        "    # count unique products\n",
        "    if is_train:\n",
        "        temp = df_train_purch[['client_id', 'product_id']].drop_duplicates()\n",
        "    else:\n",
        "        temp = df_test_purch[['client_id', 'product_id']].drop_duplicates()\n",
        "    date_proc = temp.groupby('client_id').agg(unique_products=('product_id', 'count')).reset_index().merge(date_proc)\n",
        "    \n",
        "    # procent of purchases with own and alcohol\n",
        "    if is_train:\n",
        "        temp = df_train_purch[['client_id', 'transaction_id', 'product_quantity', 'product_id']].drop_duplicates()\\\n",
        "            .merge(df_products[['product_id', 'is_own_trademark', 'is_alcohol']].copy())\n",
        "    else:\n",
        "        temp = df_test_purch[['client_id', 'transaction_id', 'product_quantity', 'product_id']].drop_duplicates()\\\n",
        "            .merge(df_products[['product_id', 'is_own_trademark', 'is_alcohol']].copy())\n",
        "\n",
        "    temp['buy_own_trademark_proc'] = temp['product_quantity'] * temp['is_own_trademark']\n",
        "    temp['buy_alcohol_proc'] = temp['product_quantity'] * temp['is_alcohol']\n",
        "    temp = temp.groupby('client_id')[['product_quantity',\n",
        "                                      'buy_own_trademark_proc',\n",
        "                                      'buy_alcohol_proc']].sum().reset_index()\n",
        "    temp.loc[temp.product_quantity == 0, 'product_quantity'] = 1\n",
        "    temp['buy_own_trademark_proc'] /= temp['product_quantity'] * 100\n",
        "    temp['buy_alcohol_proc'] /= temp['product_quantity'] * 100\n",
        "    date_proc = temp[['client_id', 'buy_own_trademark_proc', 'buy_alcohol_proc']].merge(date_proc)\n",
        "    \n",
        "    # mean interval between transactions\n",
        "    if is_train:\n",
        "        temp = df_train_purch[['client_id', 'transaction_datetime']].drop_duplicates()\n",
        "    else:\n",
        "        temp = df_test_purch[['client_id', 'transaction_datetime']].drop_duplicates()\n",
        "    temp['transaction_datetime'] = pd.to_datetime(temp.transaction_datetime, format='%Y-%m-%d %H:%M:%S')\n",
        "    temp['mean_interval_transaction'] = temp['transaction_datetime'].apply(lambda x: date.toordinal(x))\n",
        "    date_proc = temp.groupby('client_id')['mean_interval_transaction']\\\n",
        "        .apply(list).apply(np.diff).apply(lambda x: np.mean(x) if len(x) > 0 else 0)\\\n",
        "        .reset_index().merge(date_proc)\n",
        "    \n",
        "    # more mean value for point and sum\n",
        "    date_proc['more_regular_points_received'] = np.int16(date_proc['sum_regular_points_received'] > 77.8)\n",
        "    date_proc['more2_mean_purchase_sum'] = np.int16(date_proc['mean_purchase_sum'] > 393.5)\n",
        "    date_proc['more_express_points_spent'] = np.int16(date_proc['sum_express_points_spent'] > -6.45)\n",
        "    \n",
        "    # gender OHE\n",
        "    date_proc = pd.concat([date_proc, pd.get_dummies(date_proc.gender, prefix=\"gender\")], axis=1)\n",
        "    \n",
        "    # mean_netto > 10 # 16\n",
        "    date_proc['more_mean_netto'] = np.int16(date_proc['mean_netto'] > 10)\n",
        "    # buy_own_trademark_proc == 0\n",
        "    date_proc['zero_buy_own_trademark_proc'] = np.int16(date_proc['buy_own_trademark_proc'] == 0)\n",
        "    # unique_products == 1\n",
        "    date_proc['one_unique_products'] = np.int16(date_proc['unique_products'] == 1)\n",
        "    # proc_regular_points_received == 0\n",
        "    date_proc['one_proc_regular_points_received'] = np.int16(date_proc['proc_regular_points_received'] == 0)\n",
        "    # proc_express_points_received > 15\n",
        "    date_proc['more_proc_express_points_received'] = np.int16(date_proc['proc_express_points_received'] > 15)\n",
        "    # before_fr_count_alcohol > 60\n",
        "    date_proc['more_before_fr_count_alcohol'] = np.int16(date_proc['before_fr_count_alcohol'] > 60)\n",
        "    # after_fr_count_alcohol > 100\n",
        "    date_proc['more_after_fr_count_alcohol'] = np.int16(date_proc['after_fr_count_alcohol'] > 100)\n",
        "    # mean_regular_points_received == 0\n",
        "    date_proc['zero_mean_regular_points_received'] = np.int16(date_proc['mean_regular_points_received'] == 0)\n",
        "    # std_regular_points_received > 100\n",
        "    date_proc['more_std_regular_points_received'] = np.int16(date_proc['std_regular_points_received'] > 100)\n",
        "    # more median\n",
        "    date_proc['more_median_purchase_sum'] = np.int16(date_proc.mean_purchase_sum > date_proc.sum_purchase_sum)\n",
        "    \n",
        "    \n",
        "    # Выбранные полезные фичи\n",
        "    select_feat = ['ordinal_first_redeem_date',\n",
        "                   'first_redeem_date_unix',\n",
        "                   'card_days',\n",
        "                   'days_own',\n",
        "                   'after_fr_count_product',\n",
        "                   'after_fr_count_own',\n",
        "                   'old_age',\n",
        "                   'more_express_points_spent',\n",
        "                   'sum_express_points_spent',\n",
        "                   'mean_trn_sum_from_iss',\n",
        "                   'last_month_regular_points_received',\n",
        "                   'old_age_f',\n",
        "                   'last_transaction_unix',\n",
        "                   'last_two_month_express_points_spent',\n",
        "                   'diff_month_purchase_sum',\n",
        "                   'diff_mean_own',\n",
        "                   'sum_regular_points_spent',\n",
        "                   'sum_regular_points_received',\n",
        "                   'median_trn_sum_from_iss',\n",
        "                   'last_two_month_purchase_sum',\n",
        "                   'count_own_trademark',\n",
        "                   'diff_count_purches',\n",
        "                   'count_store',\n",
        "                   'before_month_express_points_spent',\n",
        "                   'last_month_express_points_spent',\n",
        "                   'last_two_month_regular_points_spent',\n",
        "                   'buy_alcohol',\n",
        "                   'before_month_regular_points_spent',\n",
        "                   'ordinal_first_issue_date',\n",
        "                   'unique_products',\n",
        "                   'median_express_points_spent',\n",
        "                   'after_mean_own',\n",
        "                   'issue_days',\n",
        "                   'evening',\n",
        "                   'gender_U',\n",
        "                   'has_card_more',\n",
        "                   'more_regular_points_received',\n",
        "                   'after_count_purches',\n",
        "                   'proc_regular_points_spent',\n",
        "                   'std_trn_sum_from_red',\n",
        "                   'std_express_points_spent',\n",
        "                   'sum_trn_sum_from_iss',\n",
        "                   'median_trn_sum_from_red',\n",
        "                   'mean_netto',\n",
        "                   'buy_own_trademark_proc',\n",
        "                   'more2_mean_purchase_sum',\n",
        "                   'diff_month_express_points_spent',\n",
        "                   'std_regular_points_received',\n",
        "                   'median_regular_points_received',\n",
        "                   'proc_express_points_spent',\n",
        "                   'pred_last_transaction_datetime',\n",
        "                   'std_trn_sum_from_iss',\n",
        "                   'median_purchase_sum',\n",
        "                   'before_fr_count_product',\n",
        "                   'zero_buy_own_trademark_proc',\n",
        "                   'sum_trn_sum_from_red',\n",
        "                   'last_month_regular_points_spent',\n",
        "                   'count_alcohol',\n",
        "                   'issue_days_more',\n",
        "                   'before_fr_count_own',\n",
        "                   'before_count_purches',\n",
        "                   'mean_regular_points_received',\n",
        "                   'age',\n",
        "                   'mean_interval_transaction',\n",
        "                   'diff_month_regular_points_spent',\n",
        "                   'buy_popular_product',\n",
        "                   'mean_express_points_received',\n",
        "                   'sum_purchase_sum',\n",
        "                   'mean_trn_sum_from_red',\n",
        "                   'mean_regular_points_spent',\n",
        "                   'last_two_month_express_points_received',\n",
        "                   'diff_month_regular_points_received',\n",
        "                   'one_unique_products',\n",
        "                   'before_month_regular_points_received',\n",
        "                   'more_std_regular_points_received',\n",
        "                   'after_fr_count_alcohol',\n",
        "                   'night',\n",
        "                   'afternoon',\n",
        "                   'mean_purchase_sum',\n",
        "                   'morning',\n",
        "                   'buy_more1000_times',\n",
        "                   'before_mean_own',\n",
        "                   'std_express_points_received',\n",
        "                   'last_month_express_points_received',\n",
        "                   'proc_express_points_received',\n",
        "                   'after_mean_alcohol',\n",
        "                   'more_before_fr_count_alcohol',\n",
        "                   'median_regular_points_spent',\n",
        "                   'buy_more1500_times',\n",
        "                   'sum_netto',\n",
        "                   'sum_express_points_received',\n",
        "                   'more_proc_express_points_received',\n",
        "                   'more_sum_purchase',\n",
        "                   'diff_mean_alcohol',\n",
        "                   'buy_own_trademark',\n",
        "                   'median_express_points_received',\n",
        "                   'more_mean_purchase_sum_proc',\n",
        "                   'more_mean_purchase_sum']\n",
        "    \n",
        "    date_proc.drop(['client_id', 'first_transaction', 'last_transaction', 'first_issue_date', 'first_redeem_date',\n",
        "                   'gender', 'buy_more500_times'], axis=1, inplace=True)\n",
        "    date_proc.fillna(0, inplace=True)\n",
        "    \n",
        "    if is_train:\n",
        "        select_feat += ['target']\n",
        "    \n",
        "    if is_train and ad_random:\n",
        "        date_proc['random_feat'] = np.random.randn(date_proc.shape[0]) * 5\n",
        "    return date_proc[select_feat]"
      ],
      "metadata": {
        "execution": {
          "iopub.status.busy": "2023-01-08T17:58:44.778851Z",
          "iopub.execute_input": "2023-01-08T17:58:44.779807Z",
          "iopub.status.idle": "2023-01-08T17:58:44.852049Z",
          "shell.execute_reply.started": "2023-01-08T17:58:44.779767Z",
          "shell.execute_reply": "2023-01-08T17:58:44.851041Z"
        },
        "trusted": true,
        "id": "Oco3OKE0EoEz"
      },
      "execution_count": null,
      "outputs": []
    },
    {
      "cell_type": "code",
      "source": [
        "x_date = create_feats(df_train.copy(), ad_random=False)\n",
        "y_date = x_date['target']\n",
        "x_date.drop(['target'], axis=1, inplace=True)\n",
        "feats = list(x_date)\n",
        "print(df_train.shape, x_date.shape)\n",
        "x_date.head()"
      ],
      "metadata": {
        "execution": {
          "iopub.status.busy": "2023-01-08T17:58:44.853365Z",
          "iopub.execute_input": "2023-01-08T17:58:44.853682Z",
          "iopub.status.idle": "2023-01-08T18:03:01.870352Z",
          "shell.execute_reply.started": "2023-01-08T17:58:44.853654Z",
          "shell.execute_reply": "2023-01-08T18:03:01.869048Z"
        },
        "trusted": true,
        "id": "A2XViDxGEoE0",
        "outputId": "8d831c1b-2129-4e38-9bc2-67d710de96b7"
      },
      "execution_count": null,
      "outputs": [
        {
          "name": "stdout",
          "text": "(140027, 36) (140027, 98)\n",
          "output_type": "stream"
        },
        {
          "execution_count": 40,
          "output_type": "execute_result",
          "data": {
            "text/plain": "   ordinal_first_redeem_date  first_redeem_date_unix  card_days  days_own  \\\n0                        439              1515094207        438  36945716   \n1                        695              1492951076        694  59176095   \n2                        203              1535461185        202  17098176   \n3                        433              1515606605        432  36943353   \n4                        166              1538665169        165  13657256   \n\n   after_fr_count_product  after_fr_count_own  old_age  \\\n0                    52.0                 4.0        0   \n1                   162.0                14.0        1   \n2                    86.0                10.0        0   \n3                   272.0                44.0        1   \n4                    85.0                16.0        0   \n\n   more_express_points_spent  sum_express_points_spent  mean_trn_sum_from_iss  \\\n0                          1                       0.0              53.942308   \n1                          1                       0.0              60.555556   \n2                          1                       0.0              71.569767   \n3                          0                     -30.0              92.669118   \n4                          1                       0.0             101.317647   \n\n   ...  buy_more1500_times  sum_netto  sum_express_points_received  \\\n0  ...                   0     28.092                          0.0   \n1  ...                   0     78.064                         60.0   \n2  ...                   0     41.611                          0.0   \n3  ...                   8    131.152                          0.0   \n4  ...                   0     30.423                          0.0   \n\n   more_proc_express_points_received  more_sum_purchase  diff_mean_alcohol  \\\n0                                  0                  1                0.0   \n1                                  0                  0                1.0   \n2                                  0                  0                0.0   \n3                                  0                  1                0.0   \n4                                  0                  1                1.0   \n\n   buy_own_trademark  median_express_points_received  \\\n0                  1                             0.0   \n1                  1                             0.0   \n2                  1                             0.0   \n3                  1                             0.0   \n4                  1                             0.0   \n\n   more_mean_purchase_sum_proc  more_mean_purchase_sum  \n0                     0.750000                       1  \n1                     0.281250                       0  \n2                     0.400000                       0  \n3                     0.833333                       1  \n4                     0.533333                       1  \n\n[5 rows x 98 columns]",
            "text/html": "<div>\n<style scoped>\n    .dataframe tbody tr th:only-of-type {\n        vertical-align: middle;\n    }\n\n    .dataframe tbody tr th {\n        vertical-align: top;\n    }\n\n    .dataframe thead th {\n        text-align: right;\n    }\n</style>\n<table border=\"1\" class=\"dataframe\">\n  <thead>\n    <tr style=\"text-align: right;\">\n      <th></th>\n      <th>ordinal_first_redeem_date</th>\n      <th>first_redeem_date_unix</th>\n      <th>card_days</th>\n      <th>days_own</th>\n      <th>after_fr_count_product</th>\n      <th>after_fr_count_own</th>\n      <th>old_age</th>\n      <th>more_express_points_spent</th>\n      <th>sum_express_points_spent</th>\n      <th>mean_trn_sum_from_iss</th>\n      <th>...</th>\n      <th>buy_more1500_times</th>\n      <th>sum_netto</th>\n      <th>sum_express_points_received</th>\n      <th>more_proc_express_points_received</th>\n      <th>more_sum_purchase</th>\n      <th>diff_mean_alcohol</th>\n      <th>buy_own_trademark</th>\n      <th>median_express_points_received</th>\n      <th>more_mean_purchase_sum_proc</th>\n      <th>more_mean_purchase_sum</th>\n    </tr>\n  </thead>\n  <tbody>\n    <tr>\n      <th>0</th>\n      <td>439</td>\n      <td>1515094207</td>\n      <td>438</td>\n      <td>36945716</td>\n      <td>52.0</td>\n      <td>4.0</td>\n      <td>0</td>\n      <td>1</td>\n      <td>0.0</td>\n      <td>53.942308</td>\n      <td>...</td>\n      <td>0</td>\n      <td>28.092</td>\n      <td>0.0</td>\n      <td>0</td>\n      <td>1</td>\n      <td>0.0</td>\n      <td>1</td>\n      <td>0.0</td>\n      <td>0.750000</td>\n      <td>1</td>\n    </tr>\n    <tr>\n      <th>1</th>\n      <td>695</td>\n      <td>1492951076</td>\n      <td>694</td>\n      <td>59176095</td>\n      <td>162.0</td>\n      <td>14.0</td>\n      <td>1</td>\n      <td>1</td>\n      <td>0.0</td>\n      <td>60.555556</td>\n      <td>...</td>\n      <td>0</td>\n      <td>78.064</td>\n      <td>60.0</td>\n      <td>0</td>\n      <td>0</td>\n      <td>1.0</td>\n      <td>1</td>\n      <td>0.0</td>\n      <td>0.281250</td>\n      <td>0</td>\n    </tr>\n    <tr>\n      <th>2</th>\n      <td>203</td>\n      <td>1535461185</td>\n      <td>202</td>\n      <td>17098176</td>\n      <td>86.0</td>\n      <td>10.0</td>\n      <td>0</td>\n      <td>1</td>\n      <td>0.0</td>\n      <td>71.569767</td>\n      <td>...</td>\n      <td>0</td>\n      <td>41.611</td>\n      <td>0.0</td>\n      <td>0</td>\n      <td>0</td>\n      <td>0.0</td>\n      <td>1</td>\n      <td>0.0</td>\n      <td>0.400000</td>\n      <td>0</td>\n    </tr>\n    <tr>\n      <th>3</th>\n      <td>433</td>\n      <td>1515606605</td>\n      <td>432</td>\n      <td>36943353</td>\n      <td>272.0</td>\n      <td>44.0</td>\n      <td>1</td>\n      <td>0</td>\n      <td>-30.0</td>\n      <td>92.669118</td>\n      <td>...</td>\n      <td>8</td>\n      <td>131.152</td>\n      <td>0.0</td>\n      <td>0</td>\n      <td>1</td>\n      <td>0.0</td>\n      <td>1</td>\n      <td>0.0</td>\n      <td>0.833333</td>\n      <td>1</td>\n    </tr>\n    <tr>\n      <th>4</th>\n      <td>166</td>\n      <td>1538665169</td>\n      <td>165</td>\n      <td>13657256</td>\n      <td>85.0</td>\n      <td>16.0</td>\n      <td>0</td>\n      <td>1</td>\n      <td>0.0</td>\n      <td>101.317647</td>\n      <td>...</td>\n      <td>0</td>\n      <td>30.423</td>\n      <td>0.0</td>\n      <td>0</td>\n      <td>1</td>\n      <td>1.0</td>\n      <td>1</td>\n      <td>0.0</td>\n      <td>0.533333</td>\n      <td>1</td>\n    </tr>\n  </tbody>\n</table>\n<p>5 rows × 98 columns</p>\n</div>"
          },
          "metadata": {}
        }
      ]
    },
    {
      "cell_type": "code",
      "source": [
        "# scaler = StandardScaler()\n",
        "# scaler = PowerTransformer()\n",
        "# scaler.fit(x_date)\n",
        "# x_date = scaler.transform(x_date)"
      ],
      "metadata": {
        "trusted": true,
        "id": "6HozK3YzEoE1"
      },
      "execution_count": null,
      "outputs": []
    },
    {
      "cell_type": "code",
      "source": [
        "print(df_test.shape)\n",
        "X_test = create_feats(df_test.copy(), False)\n",
        "X_test.shape"
      ],
      "metadata": {
        "execution": {
          "iopub.status.busy": "2023-01-08T18:03:01.871883Z",
          "iopub.execute_input": "2023-01-08T18:03:01.872233Z",
          "iopub.status.idle": "2023-01-08T18:04:43.930424Z",
          "shell.execute_reply.started": "2023-01-08T18:03:01.872202Z",
          "shell.execute_reply": "2023-01-08T18:04:43.929207Z"
        },
        "trusted": true,
        "id": "sCx39MrXEoE1",
        "outputId": "828da690-ccde-46b9-f030-5caf16dd192a"
      },
      "execution_count": null,
      "outputs": [
        {
          "name": "stdout",
          "text": "(60012, 35)\n",
          "output_type": "stream"
        },
        {
          "execution_count": 41,
          "output_type": "execute_result",
          "data": {
            "text/plain": "(60012, 98)"
          },
          "metadata": {}
        }
      ]
    },
    {
      "cell_type": "code",
      "source": [
        "# X_test = scaler.transform(X_test)"
      ],
      "metadata": {
        "trusted": true,
        "id": "iKJ1QXatEoE1"
      },
      "execution_count": null,
      "outputs": []
    },
    {
      "cell_type": "markdown",
      "source": [
        "## Modeling"
      ],
      "metadata": {
        "id": "RIH-2Yn3EoE1"
      }
    },
    {
      "cell_type": "code",
      "source": [
        "# catboost\n",
        "MODEL_CATBOOST_CONST_PARAM = dict({\n",
        "    'task_type': 'GPU' if get_gpu_device_count() else 'CPU',\n",
        "    #'thread_count': 2,\n",
        "    'eval_metric': 'Logloss', # AUC\n",
        "    'loss_function': 'Logloss',\n",
        "    'iterations': 700, # 2000\n",
        "    'early_stopping_rounds': 10, # 20\n",
        "    'random_seed': 2023})\n",
        "\n",
        "# xgboost\n",
        "MODEL_XGB_CONST_PARAM = dict({\n",
        "    'eval_metric': 'logloss',\n",
        "    'early_stopping_rounds': 10,\n",
        "    'seed': 2023})\n",
        "\n",
        "# lightgbm\n",
        "MODEL_LIGHT_CONST_PARAM = dict({\n",
        "#     'eval_metric': 'logloss',\n",
        "    'early_stopping_round': 10,\n",
        "    'seed': 2023})\n",
        "\n",
        "# rf\n",
        "MODEL_RF_CONST_PARAM = dict({\n",
        "#     'early_stopping_round': 15,\n",
        "    'random_state': 2023,\n",
        "    'n_jobs': 4})\n",
        "\n",
        "# GBM\n",
        "MODEL_GBM_CONST_PARAM = dict({\n",
        "#     'early_stopping_round': 15,\n",
        "    'random_state': 2023\n",
        "    })"
      ],
      "metadata": {
        "execution": {
          "iopub.status.busy": "2023-01-08T07:39:54.110751Z",
          "iopub.execute_input": "2023-01-08T07:39:54.111148Z",
          "iopub.status.idle": "2023-01-08T07:39:54.123921Z",
          "shell.execute_reply.started": "2023-01-08T07:39:54.111113Z",
          "shell.execute_reply": "2023-01-08T07:39:54.122535Z"
        },
        "trusted": true,
        "id": "p0B8yE9CEoE1",
        "outputId": "ffdac96f-4f8b-400a-8250-80076ad9e776"
      },
      "execution_count": null,
      "outputs": [
        {
          "name": "stderr",
          "text": "Error 35 (CUDA driver version is insufficient for CUDA runtime version) ignored while obtaining device count\n",
          "output_type": "stream"
        }
      ]
    },
    {
      "cell_type": "code",
      "source": [
        "# catboost\n",
        "HYPEROPT_CATBOOST_PARAMS_SPACE = {\n",
        "    'learning_rate': hyperopt.hp.uniform('learning_rate', 0.03, 0.3),\n",
        "    'depth': hyperopt.hp.randint('depth', 3, 9),\n",
        "    'l2_leaf_reg': hyperopt.hp.uniform('l2_leaf_reg', 1, 10),\n",
        "    'max_ctr_complexity': hyperopt.hp.randint('max_ctr_complexity', 1, 16),\n",
        "    'min_data_in_leaf': hyperopt.hp.randint('min_data_in_leaf', 10, 100),\n",
        "#     'max_leaves': hyperopt.hp.randint('max_leaves', 100, 1000),\n",
        "    #'grow_policy': hyperopt.hp.choice('grow_policy', ['SymmetricTree', 'Depthwise', 'Lossguide']),\n",
        "    'subsample': hyperopt.hp.uniform('subsample', 0.7, 1),\n",
        "#     'od_wait': hyperopt.hp.randint('od_wait', 20, 100)\n",
        "    \n",
        "}\n",
        "\n",
        "# xgboost\n",
        "HYPEROPT_XGB_PARAMS_SPACE = {\n",
        "    'eta': hyperopt.hp.uniform('eta', 0.01, 0.35),\n",
        "    'max_depth': hyperopt.hp.randint('max_depth', 3, 9),\n",
        "    'lambda': hyperopt.hp.uniform('lambda', 1, 10),\n",
        "    'min_child_weight': hyperopt.hp.choice('min_child_weight', [1, 3, 5, 7]),\n",
        "    \"gamma\": hyperopt.hp.choice('gamma', [0.0, 0.1, 0.2, 0.3, 0.4]),\n",
        "    #\"n_estimators\": hyperopt.hp.choice('n_estimators', [100, 200, 500, 1000])\n",
        "    #\"colsample_bytree\": hyperopt.hp.choice('colsample_bytree', [0.3, 0.4, 0.5, 0.7])\n",
        "    #'max_ctr_complexity': hyperopt.hp.randint('max_ctr_complexity', 0, 8)\n",
        "}\n",
        "\n",
        "# lightgbm\n",
        "HYPEROPT_LIGHT_PARAMS_SPACE = {\n",
        "    'num_leaves': hyperopt.hp.randint('num_leaves', 6, 50),\n",
        "    'learning_rate': hyperopt.hp.uniform('learning_rate', 0.05, 0.35),\n",
        "    'max_depth': hyperopt.hp.randint('max_depth', 3, 9),\n",
        "    'min_child_samples': hyperopt.hp.randint('min_child_samples', 20, 150),\n",
        "    'min_child_weight': hyperopt.hp.uniform('min_child_weight', 0.001, 0.1),#hyperopt.hp.choice('min_child_weight', [1, 3, 5, 7]),\n",
        "    'reg_alpha': hyperopt.hp.choice('reg_alpha', [0, 1e-1, 1, 2, 5, 7, 10, 50, 100]),\n",
        "    'reg_lambda': hyperopt.hp.choice('reg_lambda', [0, 1e-1, 1, 5, 10, 20, 50, 100]),\n",
        "#     'colsample_bytree': hyperopt.hp.choice('colsample_bytree', np.arange(0.3, 0.8, 0.1)),\n",
        "#     'boosting_type': hyperopt.hp.choice('boosting', ['gbdt', 'dart']),\n",
        "    'subsample': hyperopt.hp.uniform('subsample', 0.7, 1),\n",
        "    'n_estimators': hyperopt.hp.randint('n_estimators', 50, 500)\n",
        "}\n",
        "\n",
        "HYPEROPT_RF_PARAMS_SPACE = {\n",
        "    'criterion': hyperopt.hp.choice('criterion', ['gini', 'entropy']),\n",
        "    'max_depth': hyperopt.hp.randint('max_depth', 6, 15),\n",
        "    'min_samples_split': hyperopt.hp.choice('min_samples_split', [2, 3, 5, 7, 9, 11]),\n",
        "    'min_samples_leaf': hyperopt.hp.choice('min_samples_leaf', [2, 3, 5, 7, 9, 11]),\n",
        "    'max_features': hyperopt.hp.choice('max_features', ['sqrt', 'log2']),\n",
        "    'n_estimators': hyperopt.hp.randint('n_estimators', 50, 500)\n",
        "}\n",
        "\n",
        "HYPEROPT_GBM_PARAMS_SPACE = {\n",
        "    'loss': hyperopt.hp.choice('loss', ['deviance', 'exponential']),\n",
        "    'learning_rate': hyperopt.hp.uniform('learning_rate', 0.5, 3.0),\n",
        "    'n_estimators': hyperopt.hp.randint('n_estimators', 50, 200),\n",
        "    'subsample': hyperopt.hp.uniform('subsample', 0.7, 1),\n",
        "    'criterion': hyperopt.hp.choice('criterion', ['friedman_mse', 'squared_error']),\n",
        "    'min_samples_split': hyperopt.hp.randint('min_samples_split', 3, 80),\n",
        "    'min_samples_leaf': hyperopt.hp.randint('min_samples_leaf', 3, 80),\n",
        "    'max_depth': hyperopt.hp.randint('max_depth', 3, 10),\n",
        "    'ccp_alpha': hyperopt.hp.uniform('ccp_alpha', 0, 6)\n",
        "}"
      ],
      "metadata": {
        "execution": {
          "iopub.status.busy": "2023-01-08T07:39:54.125847Z",
          "iopub.execute_input": "2023-01-08T07:39:54.126160Z",
          "iopub.status.idle": "2023-01-08T07:39:54.146611Z",
          "shell.execute_reply.started": "2023-01-08T07:39:54.126134Z",
          "shell.execute_reply": "2023-01-08T07:39:54.145539Z"
        },
        "trusted": true,
        "id": "BbziE375EoE1"
      },
      "execution_count": null,
      "outputs": []
    },
    {
      "cell_type": "code",
      "source": [
        "def objective_catboost(params):\n",
        "    \"\"\"\n",
        "    Hyperopt objective\n",
        "    \"\"\"\n",
        "    model = cb.CatBoostClassifier(**params)\n",
        "    model.fit(train_pool, verbose=0, eval_set=val_pool)\n",
        "    y_pred = model.predict(val_pool)\n",
        "    y_prob = model.predict_proba(val_pool)\n",
        "    train_gini = roc_auc_score(y_train, model.predict_proba(train_pool)[:, -1]) * 2 - 1\n",
        "    val_gini = roc_auc_score(y_val, model.predict_proba(val_pool)[:, -1]) * 2 - 1\n",
        "    print(params)\n",
        "    print(f\"Gini: {train_gini} - {val_gini}\")\n",
        "#     return cbu.eval_metric(val_pool.get_label(), y_pred, 'Logloss')[0]\n",
        "#     return log_loss(y_val, y_prob)\n",
        "    return -val_gini\n",
        "\n",
        "def objective_xgboost(params):\n",
        "    \"\"\"\n",
        "    Hyperopt objective\n",
        "    \"\"\"\n",
        "    model = xgb.XGBClassifier(**params)\n",
        "    model.fit(X_train, y_train, verbose=0, eval_set=[(X_val, y_val)])\n",
        "    y_pred = model.predict(X_val)\n",
        "    y_prob = model.predict_proba(X_val)\n",
        "#     gini = roc_auc_score(y_val, y_prob[:, -1]) * 2 - 1\n",
        "    train_gini = roc_auc_score(y_train, model.predict_proba(X_train)[:, -1]) * 2 - 1\n",
        "    val_gini = roc_auc_score(y_val, model.predict_proba(X_val)[:, -1]) * 2 - 1\n",
        "    print(params)\n",
        "    print(f\"Gini: {train_gini} - {val_gini}\")\n",
        "#     print(f\"Gini: {gini}\")\n",
        "#     return log_loss(y_val, y_prob)\n",
        "    return -val_gini\n",
        "\n",
        "def objective_lightgbm(params):\n",
        "    \"\"\"\n",
        "    Hyperopt objective\n",
        "    \"\"\"\n",
        "    print(params)\n",
        "    mean_cv_score = []\n",
        "    kfold = KFold(7, shuffle=True, random_state=5)\n",
        "    for i, (train_index, test_index) in enumerate(kfold.split(x_date)):\n",
        "        train_y, valid_y = y_date.iloc[train_index], y_date.iloc[test_index]\n",
        "        train_x, valid_x = x_date.iloc[train_index,:], x_date.iloc[test_index,:]\n",
        "        model = lgb.LGBMClassifier(**params)\n",
        "        model.fit(train_x, train_y, verbose=0, eval_set=[(valid_x, valid_y)])\n",
        "\n",
        "        y_pred = model.predict(valid_x)\n",
        "        y_prob = model.predict_proba(valid_x)\n",
        "        gini = roc_auc_score(valid_y, y_prob[:, -1]) * 2 - 1\n",
        "        mean_cv_score.append(gini)\n",
        "        \n",
        "    print(np.round(mean_cv_score, 4), np.mean(mean_cv_score), np.std(mean_cv_score))\n",
        "    print('')\n",
        "    return np.std(mean_cv_score)\n",
        "\n",
        "def objective_rf(params):\n",
        "    \"\"\"\n",
        "    Hyperopt objective\n",
        "    \"\"\"\n",
        "    model = RandomForestClassifier(**params)\n",
        "    model.fit(X_train, y_train)\n",
        "    \n",
        "    \n",
        "    y_pred = model.predict(X_val)\n",
        "    y_prob = model.predict_proba(X_val)\n",
        "    gini = roc_auc_score(y_val, y_prob[:, -1]) * 2 - 1\n",
        "#     print(f\"Gini: {gini}\")\n",
        "#     return log_loss(y_val, y_prob)\n",
        "    return -gini\n",
        "\n",
        "def find_best_hyper_params(params={}, name_model='catboost', seed=13, evals=55):\n",
        "    \"\"\"\n",
        "    Find best model parameters by given space\n",
        "    return: (dict) dictionary with best fitted parameters\n",
        "    \"\"\"\n",
        "    if params:\n",
        "        parameter_space = params\n",
        "    else:\n",
        "        parameter_space = HYPEROPT_PARAMS_SPACE\n",
        "    \n",
        "    if name_model == 'catboost':\n",
        "        obj_fun = objective_catboost\n",
        "        parameter_space.update(MODEL_CATBOOST_CONST_PARAM)\n",
        "    elif name_model == 'xgboost':\n",
        "        obj_fun = objective_xgboost\n",
        "        parameter_space.update(MODEL_XGB_CONST_PARAM)\n",
        "    elif name_model == 'lightgbm':\n",
        "        obj_fun = objective_lightgbm\n",
        "        parameter_space.update(MODEL_LIGHT_CONST_PARAM)\n",
        "    elif name_model == 'rf':\n",
        "        obj_fun = objective_rf\n",
        "        parameter_space.update(MODEL_RF_CONST_PARAM)\n",
        "    elif name_model == 'gbm':\n",
        "        obj_fun = objective_gbm\n",
        "        parameter_space.update(MODEL_GBM_CONST_PARAM)\n",
        "    \n",
        "    best_model = hyperopt.fmin(\n",
        "        fn=obj_fun,\n",
        "        space=parameter_space,\n",
        "        algo=tpe.suggest,\n",
        "        max_evals=evals,\n",
        "        rstate=np.random.default_rng(seed=seed))\n",
        "    return best_model"
      ],
      "metadata": {
        "execution": {
          "iopub.status.busy": "2023-01-08T07:44:00.421749Z",
          "iopub.execute_input": "2023-01-08T07:44:00.422131Z",
          "iopub.status.idle": "2023-01-08T07:44:00.443756Z",
          "shell.execute_reply.started": "2023-01-08T07:44:00.422102Z",
          "shell.execute_reply": "2023-01-08T07:44:00.442428Z"
        },
        "trusted": true,
        "id": "oc9NGUsnEoE1"
      },
      "execution_count": null,
      "outputs": []
    },
    {
      "cell_type": "markdown",
      "source": [
        "## Adversarial validation"
      ],
      "metadata": {
        "id": "Kd5CEFedEoE1"
      }
    },
    {
      "cell_type": "markdown",
      "source": [
        "Проверка смешение распределения Train и Test выборки"
      ],
      "metadata": {
        "id": "giItJcZCEoE1"
      }
    },
    {
      "cell_type": "code",
      "source": [
        "X = x_date.append(X_test)\n",
        "y = np.array([0] * len(x_date) + [1] * len(X_test))"
      ],
      "metadata": {
        "execution": {
          "iopub.status.busy": "2023-01-02T08:33:06.885787Z",
          "iopub.execute_input": "2023-01-02T08:33:06.886153Z",
          "iopub.status.idle": "2023-01-02T08:33:06.970047Z",
          "shell.execute_reply.started": "2023-01-02T08:33:06.886119Z",
          "shell.execute_reply": "2023-01-02T08:33:06.969021Z"
        },
        "trusted": true,
        "id": "1AtRO4QyEoE2"
      },
      "execution_count": null,
      "outputs": []
    },
    {
      "cell_type": "code",
      "source": [
        "def objective_catboost_adv(trial):\n",
        "    train_x, valid_x, train_y, valid_y = train_test_split(X, y,\n",
        "                                                          test_size=0.15, random_state=5)\n",
        "    \n",
        "    param = {\n",
        "        'learning_rate': trial.suggest_float(\"learning_rate\", 0.03, 0.35),\n",
        "        'max_ctr_complexity': trial.suggest_int(\"max_ctr_complexity\", 1, 15),\n",
        "        'l2_leaf_reg': trial.suggest_float(\"l2_leaf_reg\", 1, 10),\n",
        "        'min_data_in_leaf': trial.suggest_int('min_data_in_leaf', 10, 100),\n",
        "        \"objective\": trial.suggest_categorical(\"objective\", [\"Logloss\"]),\n",
        "        \"colsample_bylevel\": trial.suggest_float(\"colsample_bylevel\", 0.01, 0.1),\n",
        "        \"depth\": trial.suggest_int(\"depth\", 1, 12),\n",
        "        \"boosting_type\": trial.suggest_categorical(\"boosting_type\", [\"Ordered\", \"Plain\"]),\n",
        "        \"bootstrap_type\": trial.suggest_categorical(\n",
        "            \"bootstrap_type\", [\"Bayesian\", \"Bernoulli\", \"MVS\"]\n",
        "        )\n",
        "    }\n",
        "\n",
        "    if param[\"bootstrap_type\"] == \"Bayesian\":\n",
        "        param[\"bagging_temperature\"] = trial.suggest_float(\"bagging_temperature\", 0, 10)\n",
        "    elif param[\"bootstrap_type\"] == \"Bernoulli\":\n",
        "        param[\"subsample\"] = trial.suggest_float(\"subsample\", 0.1, 1)\n",
        "\n",
        "    gbm = cb.CatBoostClassifier(**param)\n",
        "\n",
        "    gbm.fit(train_x, train_y, eval_set=[(valid_x, valid_y)], verbose=0, early_stopping_rounds=10)\n",
        "\n",
        "    y_prob = gbm.predict_proba(valid_x)\n",
        "    gini = roc_auc_score(valid_y, y_prob[:, -1]) * 2 - 1\n",
        "    return np.abs(gini)"
      ],
      "metadata": {
        "execution": {
          "iopub.status.busy": "2023-01-02T08:42:46.619067Z",
          "iopub.execute_input": "2023-01-02T08:42:46.619485Z",
          "iopub.status.idle": "2023-01-02T08:42:46.633710Z",
          "shell.execute_reply.started": "2023-01-02T08:42:46.619434Z",
          "shell.execute_reply": "2023-01-02T08:42:46.632264Z"
        },
        "trusted": true,
        "id": "RWQnuySrEoE2"
      },
      "execution_count": null,
      "outputs": []
    },
    {
      "cell_type": "code",
      "source": [
        "# study_adv = optuna.create_study(direction=\"maximize\")\n",
        "# study_adv.optimize(objective_catboost_adv, n_trials=100)"
      ],
      "metadata": {
        "execution": {
          "iopub.status.busy": "2023-01-02T08:42:46.901490Z",
          "iopub.execute_input": "2023-01-02T08:42:46.902223Z",
          "iopub.status.idle": "2023-01-02T08:50:44.537928Z",
          "shell.execute_reply.started": "2023-01-02T08:42:46.902185Z",
          "shell.execute_reply": "2023-01-02T08:50:44.536600Z"
        },
        "trusted": true,
        "id": "-fHT_1MiEoE2",
        "outputId": "88d353b4-a187-4440-e60a-d883af2c7ecb"
      },
      "execution_count": null,
      "outputs": [
        {
          "name": "stderr",
          "text": "\u001b[32m[I 2023-01-02 08:42:46,905]\u001b[0m A new study created in memory with name: no-name-62419e05-2fe4-4ca6-8b88-a6eac9fb3492\u001b[0m\n\u001b[32m[I 2023-01-02 08:42:54,324]\u001b[0m Trial 0 finished with value: 0.008020394114129581 and parameters: {'learning_rate': 0.07318520885240892, 'max_ctr_complexity': 14, 'l2_leaf_reg': 4.214143045216387, 'min_data_in_leaf': 63, 'objective': 'Logloss', 'colsample_bylevel': 0.021302969886163564, 'depth': 2, 'boosting_type': 'Ordered', 'bootstrap_type': 'MVS'}. Best is trial 0 with value: 0.008020394114129581.\u001b[0m\n\u001b[32m[I 2023-01-02 08:42:55,608]\u001b[0m Trial 1 finished with value: 0.0056015631373534935 and parameters: {'learning_rate': 0.29973565420623804, 'max_ctr_complexity': 7, 'l2_leaf_reg': 7.335958777393513, 'min_data_in_leaf': 71, 'objective': 'Logloss', 'colsample_bylevel': 0.049629390078021786, 'depth': 4, 'boosting_type': 'Plain', 'bootstrap_type': 'MVS'}. Best is trial 0 with value: 0.008020394114129581.\u001b[0m\n\u001b[32m[I 2023-01-02 08:42:56,991]\u001b[0m Trial 2 finished with value: 0.0003967749647240115 and parameters: {'learning_rate': 0.20146730463825752, 'max_ctr_complexity': 3, 'l2_leaf_reg': 8.79998183630077, 'min_data_in_leaf': 50, 'objective': 'Logloss', 'colsample_bylevel': 0.09195717372896654, 'depth': 1, 'boosting_type': 'Plain', 'bootstrap_type': 'Bernoulli', 'subsample': 0.762068714913225}. Best is trial 0 with value: 0.008020394114129581.\u001b[0m\n\u001b[32m[I 2023-01-02 08:43:02,156]\u001b[0m Trial 3 finished with value: 0.0072285626175025985 and parameters: {'learning_rate': 0.09533205866957231, 'max_ctr_complexity': 2, 'l2_leaf_reg': 8.84613674248033, 'min_data_in_leaf': 29, 'objective': 'Logloss', 'colsample_bylevel': 0.01575943490316693, 'depth': 3, 'boosting_type': 'Ordered', 'bootstrap_type': 'Bayesian', 'bagging_temperature': 2.623644708600885}. Best is trial 0 with value: 0.008020394114129581.\u001b[0m\n\u001b[32m[I 2023-01-02 08:43:06,029]\u001b[0m Trial 4 finished with value: 0.003758066166171359 and parameters: {'learning_rate': 0.19352778403146875, 'max_ctr_complexity': 12, 'l2_leaf_reg': 9.802136306297777, 'min_data_in_leaf': 67, 'objective': 'Logloss', 'colsample_bylevel': 0.04666596865339083, 'depth': 5, 'boosting_type': 'Ordered', 'bootstrap_type': 'MVS'}. Best is trial 0 with value: 0.008020394114129581.\u001b[0m\n\u001b[32m[I 2023-01-02 08:43:15,062]\u001b[0m Trial 5 finished with value: 0.00773558699196375 and parameters: {'learning_rate': 0.053541420221044224, 'max_ctr_complexity': 4, 'l2_leaf_reg': 1.212688598506797, 'min_data_in_leaf': 90, 'objective': 'Logloss', 'colsample_bylevel': 0.017967200460661147, 'depth': 4, 'boosting_type': 'Ordered', 'bootstrap_type': 'Bernoulli', 'subsample': 0.793178564222314}. Best is trial 0 with value: 0.008020394114129581.\u001b[0m\n\u001b[32m[I 2023-01-02 08:43:33,454]\u001b[0m Trial 6 finished with value: 0.008159417641148803 and parameters: {'learning_rate': 0.0801057148173561, 'max_ctr_complexity': 4, 'l2_leaf_reg': 3.6473710258634724, 'min_data_in_leaf': 10, 'objective': 'Logloss', 'colsample_bylevel': 0.0319684042832365, 'depth': 11, 'boosting_type': 'Ordered', 'bootstrap_type': 'Bernoulli', 'subsample': 0.3150233241158083}. Best is trial 6 with value: 0.008159417641148803.\u001b[0m\n\u001b[32m[I 2023-01-02 08:43:52,108]\u001b[0m Trial 7 finished with value: 0.006609356559627688 and parameters: {'learning_rate': 0.03493471181629296, 'max_ctr_complexity': 14, 'l2_leaf_reg': 7.355502413795195, 'min_data_in_leaf': 16, 'objective': 'Logloss', 'colsample_bylevel': 0.03553094170130077, 'depth': 9, 'boosting_type': 'Ordered', 'bootstrap_type': 'Bernoulli', 'subsample': 0.5546200991733986}. Best is trial 6 with value: 0.008159417641148803.\u001b[0m\n\u001b[32m[I 2023-01-02 08:43:53,600]\u001b[0m Trial 8 finished with value: 0.004683099324363282 and parameters: {'learning_rate': 0.33578045660249645, 'max_ctr_complexity': 8, 'l2_leaf_reg': 7.649310762336954, 'min_data_in_leaf': 11, 'objective': 'Logloss', 'colsample_bylevel': 0.09651177237152782, 'depth': 6, 'boosting_type': 'Plain', 'bootstrap_type': 'MVS'}. Best is trial 6 with value: 0.008159417641148803.\u001b[0m\n\u001b[32m[I 2023-01-02 08:43:58,525]\u001b[0m Trial 9 finished with value: 0.003109109258457643 and parameters: {'learning_rate': 0.16161743266170978, 'max_ctr_complexity': 9, 'l2_leaf_reg': 4.222164441170648, 'min_data_in_leaf': 44, 'objective': 'Logloss', 'colsample_bylevel': 0.03729130722913472, 'depth': 6, 'boosting_type': 'Ordered', 'bootstrap_type': 'Bayesian', 'bagging_temperature': 3.7351379753960035}. Best is trial 6 with value: 0.008159417641148803.\u001b[0m\n\u001b[32m[I 2023-01-02 08:44:02,541]\u001b[0m Trial 10 finished with value: 0.002748533119639851 and parameters: {'learning_rate': 0.13171125591808103, 'max_ctr_complexity': 5, 'l2_leaf_reg': 1.1776525806064244, 'min_data_in_leaf': 31, 'objective': 'Logloss', 'colsample_bylevel': 0.0721632060698656, 'depth': 12, 'boosting_type': 'Plain', 'bootstrap_type': 'Bernoulli', 'subsample': 0.11743701624681877}. Best is trial 6 with value: 0.008159417641148803.\u001b[0m\n\u001b[32m[I 2023-01-02 08:44:12,325]\u001b[0m Trial 11 finished with value: 0.0028598054977939658 and parameters: {'learning_rate': 0.09628213158278011, 'max_ctr_complexity': 15, 'l2_leaf_reg': 3.9751715219220927, 'min_data_in_leaf': 71, 'objective': 'Logloss', 'colsample_bylevel': 0.02768167385580191, 'depth': 10, 'boosting_type': 'Ordered', 'bootstrap_type': 'MVS'}. Best is trial 6 with value: 0.008159417641148803.\u001b[0m\n\u001b[32m[I 2023-01-02 08:44:17,735]\u001b[0m Trial 12 finished with value: 0.008027256286448736 and parameters: {'learning_rate': 0.09085687809780402, 'max_ctr_complexity': 11, 'l2_leaf_reg': 3.203165805063369, 'min_data_in_leaf': 84, 'objective': 'Logloss', 'colsample_bylevel': 0.010501634894421429, 'depth': 8, 'boosting_type': 'Ordered', 'bootstrap_type': 'MVS'}. Best is trial 6 with value: 0.008159417641148803.\u001b[0m\n\u001b[32m[I 2023-01-02 08:44:20,619]\u001b[0m Trial 13 finished with value: 0.007497349013950494 and parameters: {'learning_rate': 0.1361262976061695, 'max_ctr_complexity': 11, 'l2_leaf_reg': 2.7752754442134564, 'min_data_in_leaf': 97, 'objective': 'Logloss', 'colsample_bylevel': 0.010058213704353391, 'depth': 9, 'boosting_type': 'Ordered', 'bootstrap_type': 'Bernoulli', 'subsample': 0.16711560495220285}. Best is trial 6 with value: 0.008159417641148803.\u001b[0m\n\u001b[32m[I 2023-01-02 08:44:50,565]\u001b[0m Trial 14 finished with value: 0.001646096817094822 and parameters: {'learning_rate': 0.21741497581805316, 'max_ctr_complexity': 1, 'l2_leaf_reg': 5.870909914576102, 'min_data_in_leaf': 84, 'objective': 'Logloss', 'colsample_bylevel': 0.06381324905751304, 'depth': 12, 'boosting_type': 'Ordered', 'bootstrap_type': 'Bayesian', 'bagging_temperature': 9.294668887580773}. Best is trial 6 with value: 0.008159417641148803.\u001b[0m\n\u001b[32m[I 2023-01-02 08:44:53,342]\u001b[0m Trial 15 finished with value: 0.006861220631075082 and parameters: {'learning_rate': 0.2524245010416155, 'max_ctr_complexity': 6, 'l2_leaf_reg': 2.6426278263582623, 'min_data_in_leaf': 81, 'objective': 'Logloss', 'colsample_bylevel': 0.029737723210625407, 'depth': 8, 'boosting_type': 'Ordered', 'bootstrap_type': 'Bernoulli', 'subsample': 0.3886373527532536}. Best is trial 6 with value: 0.008159417641148803.\u001b[0m\n\u001b[32m[I 2023-01-02 08:45:10,223]\u001b[0m Trial 16 finished with value: 0.00435565503269475 and parameters: {'learning_rate': 0.1215474455498508, 'max_ctr_complexity': 10, 'l2_leaf_reg': 5.403923727758901, 'min_data_in_leaf': 39, 'objective': 'Logloss', 'colsample_bylevel': 0.04196362085506929, 'depth': 11, 'boosting_type': 'Ordered', 'bootstrap_type': 'MVS'}. Best is trial 6 with value: 0.008159417641148803.\u001b[0m\n\u001b[32m[I 2023-01-02 08:45:21,356]\u001b[0m Trial 17 finished with value: 0.007338469111273116 and parameters: {'learning_rate': 0.0787007955562141, 'max_ctr_complexity': 12, 'l2_leaf_reg': 2.8526531999873743, 'min_data_in_leaf': 55, 'objective': 'Logloss', 'colsample_bylevel': 0.0583359005213341, 'depth': 8, 'boosting_type': 'Ordered', 'bootstrap_type': 'MVS'}. Best is trial 6 with value: 0.008159417641148803.\u001b[0m\n\u001b[32m[I 2023-01-02 08:45:23,032]\u001b[0m Trial 18 finished with value: 0.0050516896790284704 and parameters: {'learning_rate': 0.16529346804553485, 'max_ctr_complexity': 7, 'l2_leaf_reg': 5.583874659690333, 'min_data_in_leaf': 21, 'objective': 'Logloss', 'colsample_bylevel': 0.02565196607971444, 'depth': 10, 'boosting_type': 'Plain', 'bootstrap_type': 'Bernoulli', 'subsample': 0.44191612118534873}. Best is trial 6 with value: 0.008159417641148803.\u001b[0m\n\u001b[32m[I 2023-01-02 08:45:34,334]\u001b[0m Trial 19 finished with value: 0.005701511582635099 and parameters: {'learning_rate': 0.03111347997736691, 'max_ctr_complexity': 5, 'l2_leaf_reg': 2.0774597679706437, 'min_data_in_leaf': 79, 'objective': 'Logloss', 'colsample_bylevel': 0.010491134447581603, 'depth': 7, 'boosting_type': 'Ordered', 'bootstrap_type': 'Bayesian', 'bagging_temperature': 9.419745140214351}. Best is trial 6 with value: 0.008159417641148803.\u001b[0m\n\u001b[32m[I 2023-01-02 08:45:49,067]\u001b[0m Trial 20 finished with value: 0.013552788403939808 and parameters: {'learning_rate': 0.2502028808061734, 'max_ctr_complexity': 9, 'l2_leaf_reg': 3.4604653215697962, 'min_data_in_leaf': 95, 'objective': 'Logloss', 'colsample_bylevel': 0.07509376813005567, 'depth': 11, 'boosting_type': 'Ordered', 'bootstrap_type': 'MVS'}. Best is trial 20 with value: 0.013552788403939808.\u001b[0m\n\u001b[32m[I 2023-01-02 08:46:02,547]\u001b[0m Trial 21 finished with value: 0.0017330972948979007 and parameters: {'learning_rate': 0.26507669261618183, 'max_ctr_complexity': 9, 'l2_leaf_reg': 3.7252793297220435, 'min_data_in_leaf': 98, 'objective': 'Logloss', 'colsample_bylevel': 0.08031185162226247, 'depth': 11, 'boosting_type': 'Ordered', 'bootstrap_type': 'MVS'}. Best is trial 20 with value: 0.013552788403939808.\u001b[0m\n\u001b[32m[I 2023-01-02 08:46:11,107]\u001b[0m Trial 22 finished with value: 0.004803206604891308 and parameters: {'learning_rate': 0.239271617227627, 'max_ctr_complexity': 11, 'l2_leaf_reg': 4.885194294070295, 'min_data_in_leaf': 89, 'objective': 'Logloss', 'colsample_bylevel': 0.07003548058265952, 'depth': 10, 'boosting_type': 'Ordered', 'bootstrap_type': 'MVS'}. Best is trial 20 with value: 0.013552788403939808.\u001b[0m\n\u001b[32m[I 2023-01-02 08:46:34,097]\u001b[0m Trial 23 finished with value: 0.003563081835803228 and parameters: {'learning_rate': 0.16532087910932072, 'max_ctr_complexity': 9, 'l2_leaf_reg': 3.4560536087617657, 'min_data_in_leaf': 60, 'objective': 'Logloss', 'colsample_bylevel': 0.0867085253344414, 'depth': 11, 'boosting_type': 'Ordered', 'bootstrap_type': 'MVS'}. Best is trial 20 with value: 0.013552788403939808.\u001b[0m\n\u001b[32m[I 2023-01-02 08:46:37,974]\u001b[0m Trial 24 finished with value: 0.0022069223949130468 and parameters: {'learning_rate': 0.3110248763248471, 'max_ctr_complexity': 7, 'l2_leaf_reg': 4.910198877673437, 'min_data_in_leaf': 100, 'objective': 'Logloss', 'colsample_bylevel': 0.054215553354013755, 'depth': 8, 'boosting_type': 'Ordered', 'bootstrap_type': 'MVS'}. Best is trial 20 with value: 0.013552788403939808.\u001b[0m\n\u001b[32m[I 2023-01-02 08:47:40,748]\u001b[0m Trial 25 finished with value: 0.004954844815893478 and parameters: {'learning_rate': 0.10685045713014835, 'max_ctr_complexity': 12, 'l2_leaf_reg': 2.0245159373133506, 'min_data_in_leaf': 77, 'objective': 'Logloss', 'colsample_bylevel': 0.08025531055824857, 'depth': 12, 'boosting_type': 'Ordered', 'bootstrap_type': 'Bernoulli', 'subsample': 0.9895045236121447}. Best is trial 20 with value: 0.013552788403939808.\u001b[0m\n\u001b[32m[I 2023-01-02 08:47:42,765]\u001b[0m Trial 26 finished with value: 0.006975739151946492 and parameters: {'learning_rate': 0.27423589415106864, 'max_ctr_complexity': 10, 'l2_leaf_reg': 6.532835757860619, 'min_data_in_leaf': 90, 'objective': 'Logloss', 'colsample_bylevel': 0.060543846582324645, 'depth': 9, 'boosting_type': 'Plain', 'bootstrap_type': 'MVS'}. Best is trial 20 with value: 0.013552788403939808.\u001b[0m\n\u001b[32m[I 2023-01-02 08:47:46,225]\u001b[0m Trial 27 finished with value: 0.006188444549146466 and parameters: {'learning_rate': 0.2267287579648742, 'max_ctr_complexity': 3, 'l2_leaf_reg': 3.345037573639539, 'min_data_in_leaf': 36, 'objective': 'Logloss', 'colsample_bylevel': 0.03298670017444692, 'depth': 7, 'boosting_type': 'Ordered', 'bootstrap_type': 'Bernoulli', 'subsample': 0.2775800988373526}. Best is trial 20 with value: 0.013552788403939808.\u001b[0m\n\u001b[32m[I 2023-01-02 08:48:14,242]\u001b[0m Trial 28 finished with value: 0.0063851723567602825 and parameters: {'learning_rate': 0.06105506854527053, 'max_ctr_complexity': 13, 'l2_leaf_reg': 2.218012263220916, 'min_data_in_leaf': 86, 'objective': 'Logloss', 'colsample_bylevel': 0.04140456096289326, 'depth': 11, 'boosting_type': 'Ordered', 'bootstrap_type': 'Bayesian', 'bagging_temperature': 0.0962350301985655}. Best is trial 20 with value: 0.013552788403939808.\u001b[0m\n\u001b[32m[I 2023-01-02 08:48:24,070]\u001b[0m Trial 29 finished with value: 0.00019841349003357767 and parameters: {'learning_rate': 0.07108334110931083, 'max_ctr_complexity': 8, 'l2_leaf_reg': 4.5316898554992555, 'min_data_in_leaf': 61, 'objective': 'Logloss', 'colsample_bylevel': 0.01797218889050315, 'depth': 10, 'boosting_type': 'Ordered', 'bootstrap_type': 'MVS'}. Best is trial 20 with value: 0.013552788403939808.\u001b[0m\n\u001b[32m[I 2023-01-02 08:48:29,422]\u001b[0m Trial 30 finished with value: 0.0016723029176162196 and parameters: {'learning_rate': 0.1476314632166809, 'max_ctr_complexity': 10, 'l2_leaf_reg': 3.2135285124021378, 'min_data_in_leaf': 74, 'objective': 'Logloss', 'colsample_bylevel': 0.023233581017089805, 'depth': 9, 'boosting_type': 'Ordered', 'bootstrap_type': 'MVS'}. Best is trial 20 with value: 0.013552788403939808.\u001b[0m\n\u001b[32m[I 2023-01-02 08:48:35,089]\u001b[0m Trial 31 finished with value: 0.005745874890935587 and parameters: {'learning_rate': 0.0808676253675981, 'max_ctr_complexity': 15, 'l2_leaf_reg': 4.262128394799228, 'min_data_in_leaf': 65, 'objective': 'Logloss', 'colsample_bylevel': 0.021645770032181284, 'depth': 1, 'boosting_type': 'Ordered', 'bootstrap_type': 'MVS'}. Best is trial 20 with value: 0.013552788403939808.\u001b[0m\n\u001b[32m[I 2023-01-02 08:48:36,918]\u001b[0m Trial 32 finished with value: 0.006250144378699196 and parameters: {'learning_rate': 0.11016061202185201, 'max_ctr_complexity': 14, 'l2_leaf_reg': 6.326704122055182, 'min_data_in_leaf': 50, 'objective': 'Logloss', 'colsample_bylevel': 0.01237937097483718, 'depth': 2, 'boosting_type': 'Plain', 'bootstrap_type': 'MVS'}. Best is trial 20 with value: 0.013552788403939808.\u001b[0m\n\u001b[32m[I 2023-01-02 08:48:46,418]\u001b[0m Trial 33 finished with value: 0.005726764068530565 and parameters: {'learning_rate': 0.05531780721055255, 'max_ctr_complexity': 13, 'l2_leaf_reg': 4.982005264160049, 'min_data_in_leaf': 24, 'objective': 'Logloss', 'colsample_bylevel': 0.04859751605554452, 'depth': 4, 'boosting_type': 'Ordered', 'bootstrap_type': 'MVS'}. Best is trial 20 with value: 0.013552788403939808.\u001b[0m\n\u001b[32m[I 2023-01-02 08:48:49,117]\u001b[0m Trial 34 finished with value: 0.008899139396320921 and parameters: {'learning_rate': 0.2825176847039259, 'max_ctr_complexity': 11, 'l2_leaf_reg': 3.5726259828257705, 'min_data_in_leaf': 95, 'objective': 'Logloss', 'colsample_bylevel': 0.02137040900669605, 'depth': 3, 'boosting_type': 'Ordered', 'bootstrap_type': 'MVS'}. Best is trial 20 with value: 0.013552788403939808.\u001b[0m\n\u001b[32m[I 2023-01-02 08:48:51,412]\u001b[0m Trial 35 finished with value: 0.006357005085149026 and parameters: {'learning_rate': 0.30303658418403323, 'max_ctr_complexity': 11, 'l2_leaf_reg': 3.7533938767403106, 'min_data_in_leaf': 94, 'objective': 'Logloss', 'colsample_bylevel': 0.016109108772322495, 'depth': 5, 'boosting_type': 'Ordered', 'bootstrap_type': 'MVS'}. Best is trial 20 with value: 0.013552788403939808.\u001b[0m\n\u001b[32m[I 2023-01-02 08:48:54,231]\u001b[0m Trial 36 finished with value: 0.003385197067901191 and parameters: {'learning_rate': 0.27599527600003876, 'max_ctr_complexity': 8, 'l2_leaf_reg': 1.636987559333702, 'min_data_in_leaf': 92, 'objective': 'Logloss', 'colsample_bylevel': 0.021684247913885433, 'depth': 3, 'boosting_type': 'Ordered', 'bootstrap_type': 'MVS'}. Best is trial 20 with value: 0.013552788403939808.\u001b[0m\n\u001b[32m[I 2023-01-02 08:48:56,876]\u001b[0m Trial 37 finished with value: 0.006144112064752849 and parameters: {'learning_rate': 0.3429847881174243, 'max_ctr_complexity': 1, 'l2_leaf_reg': 3.0419503995376265, 'min_data_in_leaf': 84, 'objective': 'Logloss', 'colsample_bylevel': 0.03284948013611734, 'depth': 5, 'boosting_type': 'Ordered', 'bootstrap_type': 'Bernoulli', 'subsample': 0.6203782026453275}. Best is trial 20 with value: 0.013552788403939808.\u001b[0m\n\u001b[32m[I 2023-01-02 08:48:58,312]\u001b[0m Trial 38 finished with value: 0.008512131757160812 and parameters: {'learning_rate': 0.18900004542879026, 'max_ctr_complexity': 13, 'l2_leaf_reg': 2.561093000151733, 'min_data_in_leaf': 95, 'objective': 'Logloss', 'colsample_bylevel': 0.01500418769337546, 'depth': 3, 'boosting_type': 'Plain', 'bootstrap_type': 'MVS'}. Best is trial 20 with value: 0.013552788403939808.\u001b[0m\n\u001b[32m[I 2023-01-02 08:48:59,799]\u001b[0m Trial 39 finished with value: 0.009878513176244552 and parameters: {'learning_rate': 0.18383443895815024, 'max_ctr_complexity': 13, 'l2_leaf_reg': 1.5363798671849067, 'min_data_in_leaf': 96, 'objective': 'Logloss', 'colsample_bylevel': 0.041255651917225765, 'depth': 3, 'boosting_type': 'Plain', 'bootstrap_type': 'Bayesian', 'bagging_temperature': 6.540483930279131}. Best is trial 20 with value: 0.013552788403939808.\u001b[0m\n\u001b[32m[I 2023-01-02 08:49:01,289]\u001b[0m Trial 40 finished with value: 0.0015170428975294081 and parameters: {'learning_rate': 0.1861145120261276, 'max_ctr_complexity': 13, 'l2_leaf_reg': 1.7347980848026627, 'min_data_in_leaf': 95, 'objective': 'Logloss', 'colsample_bylevel': 0.05329925641964502, 'depth': 3, 'boosting_type': 'Plain', 'bootstrap_type': 'Bayesian', 'bagging_temperature': 6.354810770506345}. Best is trial 20 with value: 0.013552788403939808.\u001b[0m\n\u001b[32m[I 2023-01-02 08:49:02,764]\u001b[0m Trial 41 finished with value: 0.002182540684393275 and parameters: {'learning_rate': 0.2024548418584098, 'max_ctr_complexity': 14, 'l2_leaf_reg': 2.3717566310622464, 'min_data_in_leaf': 93, 'objective': 'Logloss', 'colsample_bylevel': 0.04171702014372248, 'depth': 2, 'boosting_type': 'Plain', 'bootstrap_type': 'Bayesian', 'bagging_temperature': 6.433482640561013}. Best is trial 20 with value: 0.013552788403939808.\u001b[0m\n\u001b[32m[I 2023-01-02 08:49:03,902]\u001b[0m Trial 42 finished with value: 0.003954162083689594 and parameters: {'learning_rate': 0.3227952654561868, 'max_ctr_complexity': 12, 'l2_leaf_reg': 1.0167218853321187, 'min_data_in_leaf': 88, 'objective': 'Logloss', 'colsample_bylevel': 0.028479328818312787, 'depth': 1, 'boosting_type': 'Plain', 'bootstrap_type': 'Bayesian', 'bagging_temperature': 7.183086496861308}. Best is trial 20 with value: 0.013552788403939808.\u001b[0m\n\u001b[32m[I 2023-01-02 08:49:05,253]\u001b[0m Trial 43 finished with value: 0.00433496063206229 and parameters: {'learning_rate': 0.29249679973264375, 'max_ctr_complexity': 13, 'l2_leaf_reg': 1.611298042919024, 'min_data_in_leaf': 97, 'objective': 'Logloss', 'colsample_bylevel': 0.038518493724756034, 'depth': 4, 'boosting_type': 'Plain', 'bootstrap_type': 'Bayesian', 'bagging_temperature': 4.442907379271669}. Best is trial 20 with value: 0.013552788403939808.\u001b[0m\n\u001b[32m[I 2023-01-02 08:49:06,608]\u001b[0m Trial 44 finished with value: 0.01465094596288019 and parameters: {'learning_rate': 0.186041398798377, 'max_ctr_complexity': 10, 'l2_leaf_reg': 2.3593677671005486, 'min_data_in_leaf': 12, 'objective': 'Logloss', 'colsample_bylevel': 0.045431223688178826, 'depth': 3, 'boosting_type': 'Plain', 'bootstrap_type': 'Bernoulli', 'subsample': 0.33191015176954974}. Best is trial 44 with value: 0.01465094596288019.\u001b[0m\n\u001b[32m[I 2023-01-02 08:49:08,147]\u001b[0m Trial 45 finished with value: 0.0031671622345013084 and parameters: {'learning_rate': 0.1834330544499127, 'max_ctr_complexity': 10, 'l2_leaf_reg': 2.6515349205752967, 'min_data_in_leaf': 71, 'objective': 'Logloss', 'colsample_bylevel': 0.051106798623787045, 'depth': 3, 'boosting_type': 'Plain', 'bootstrap_type': 'Bayesian', 'bagging_temperature': 1.7038396413008345}. Best is trial 44 with value: 0.01465094596288019.\u001b[0m\n\u001b[32m[I 2023-01-02 08:49:09,365]\u001b[0m Trial 46 finished with value: 0.004928153238834887 and parameters: {'learning_rate': 0.21590209253489673, 'max_ctr_complexity': 12, 'l2_leaf_reg': 1.5767486373957444, 'min_data_in_leaf': 92, 'objective': 'Logloss', 'colsample_bylevel': 0.046046683270830106, 'depth': 2, 'boosting_type': 'Plain', 'bootstrap_type': 'Bernoulli', 'subsample': 0.4732994162601244}. Best is trial 44 with value: 0.01465094596288019.\u001b[0m\n\u001b[32m[I 2023-01-02 08:49:11,210]\u001b[0m Trial 47 finished with value: 0.0005665318536212105 and parameters: {'learning_rate': 0.201304816789185, 'max_ctr_complexity': 15, 'l2_leaf_reg': 2.269465826790948, 'min_data_in_leaf': 100, 'objective': 'Logloss', 'colsample_bylevel': 0.09471585085961987, 'depth': 4, 'boosting_type': 'Plain', 'bootstrap_type': 'MVS'}. Best is trial 44 with value: 0.01465094596288019.\u001b[0m\n\u001b[32m[I 2023-01-02 08:49:12,460]\u001b[0m Trial 48 finished with value: 0.008578256743877355 and parameters: {'learning_rate': 0.23869816370495162, 'max_ctr_complexity': 11, 'l2_leaf_reg': 9.431457770444474, 'min_data_in_leaf': 79, 'objective': 'Logloss', 'colsample_bylevel': 0.06816748880866161, 'depth': 4, 'boosting_type': 'Plain', 'bootstrap_type': 'Bernoulli', 'subsample': 0.23459628523928905}. Best is trial 44 with value: 0.01465094596288019.\u001b[0m\n\u001b[32m[I 2023-01-02 08:49:13,807]\u001b[0m Trial 49 finished with value: 0.0011834511628876498 and parameters: {'learning_rate': 0.2455029469730417, 'max_ctr_complexity': 9, 'l2_leaf_reg': 9.978898139767212, 'min_data_in_leaf': 74, 'objective': 'Logloss', 'colsample_bylevel': 0.06985150292960225, 'depth': 4, 'boosting_type': 'Plain', 'bootstrap_type': 'Bernoulli', 'subsample': 0.22111840471039626}. Best is trial 44 with value: 0.01465094596288019.\u001b[0m\n\u001b[32m[I 2023-01-02 08:49:15,260]\u001b[0m Trial 50 finished with value: 0.000456110985900704 and parameters: {'learning_rate': 0.2320681751884438, 'max_ctr_complexity': 11, 'l2_leaf_reg': 9.339574352375111, 'min_data_in_leaf': 15, 'objective': 'Logloss', 'colsample_bylevel': 0.06570949506952525, 'depth': 6, 'boosting_type': 'Plain', 'bootstrap_type': 'Bernoulli', 'subsample': 0.33195884648037766}. Best is trial 44 with value: 0.01465094596288019.\u001b[0m\n\u001b[32m[I 2023-01-02 08:49:16,672]\u001b[0m Trial 51 finished with value: 0.005851712628968331 and parameters: {'learning_rate': 0.17606988132453572, 'max_ctr_complexity': 10, 'l2_leaf_reg': 8.013023600531902, 'min_data_in_leaf': 83, 'objective': 'Logloss', 'colsample_bylevel': 0.0788281592467693, 'depth': 3, 'boosting_type': 'Plain', 'bootstrap_type': 'Bernoulli', 'subsample': 0.22753320429791443}. Best is trial 44 with value: 0.01465094596288019.\u001b[0m\n\u001b[32m[I 2023-01-02 08:49:17,852]\u001b[0m Trial 52 finished with value: 0.006279062983046146 and parameters: {'learning_rate': 0.2556719940115094, 'max_ctr_complexity': 11, 'l2_leaf_reg': 8.495137035797343, 'min_data_in_leaf': 96, 'objective': 'Logloss', 'colsample_bylevel': 0.08591413842856979, 'depth': 2, 'boosting_type': 'Plain', 'bootstrap_type': 'Bernoulli', 'subsample': 0.11464498865431788}. Best is trial 44 with value: 0.01465094596288019.\u001b[0m\n\u001b[32m[I 2023-01-02 08:49:19,270]\u001b[0m Trial 53 finished with value: 0.015083393820595314 and parameters: {'learning_rate': 0.21014297895807876, 'max_ctr_complexity': 12, 'l2_leaf_reg': 6.900479872639469, 'min_data_in_leaf': 88, 'objective': 'Logloss', 'colsample_bylevel': 0.07538346533660263, 'depth': 5, 'boosting_type': 'Plain', 'bootstrap_type': 'Bernoulli', 'subsample': 0.5093582765710735}. Best is trial 53 with value: 0.015083393820595314.\u001b[0m\n\u001b[32m[I 2023-01-02 08:49:20,869]\u001b[0m Trial 54 finished with value: 0.0003978480219901659 and parameters: {'learning_rate': 0.2147596298315622, 'max_ctr_complexity': 9, 'l2_leaf_reg': 7.343266749631988, 'min_data_in_leaf': 78, 'objective': 'Logloss', 'colsample_bylevel': 0.0750459084730773, 'depth': 5, 'boosting_type': 'Plain', 'bootstrap_type': 'Bernoulli', 'subsample': 0.5192200579056916}. Best is trial 53 with value: 0.015083393820595314.\u001b[0m\n\u001b[32m[I 2023-01-02 08:49:22,177]\u001b[0m Trial 55 finished with value: 0.007290742144109741 and parameters: {'learning_rate': 0.2909882061292349, 'max_ctr_complexity': 12, 'l2_leaf_reg': 6.712875514898803, 'min_data_in_leaf': 87, 'objective': 'Logloss', 'colsample_bylevel': 0.05925739487986653, 'depth': 4, 'boosting_type': 'Plain', 'bootstrap_type': 'Bernoulli', 'subsample': 0.6204808332636709}. Best is trial 53 with value: 0.015083393820595314.\u001b[0m\n\u001b[32m[I 2023-01-02 08:49:23,845]\u001b[0m Trial 56 finished with value: 0.00544205712406276 and parameters: {'learning_rate': 0.20902759549855662, 'max_ctr_complexity': 10, 'l2_leaf_reg': 9.449399735939002, 'min_data_in_leaf': 45, 'objective': 'Logloss', 'colsample_bylevel': 0.06548049780199669, 'depth': 6, 'boosting_type': 'Plain', 'bootstrap_type': 'Bernoulli', 'subsample': 0.382893943740627}. Best is trial 53 with value: 0.015083393820595314.\u001b[0m\n\u001b[32m[I 2023-01-02 08:49:25,574]\u001b[0m Trial 57 finished with value: 0.00595560460786515 and parameters: {'learning_rate': 0.22491270106088682, 'max_ctr_complexity': 11, 'l2_leaf_reg': 8.044771436831073, 'min_data_in_leaf': 82, 'objective': 'Logloss', 'colsample_bylevel': 0.07467626106404772, 'depth': 5, 'boosting_type': 'Plain', 'bootstrap_type': 'Bernoulli', 'subsample': 0.3900012284560941}. Best is trial 53 with value: 0.015083393820595314.\u001b[0m\n\u001b[32m[I 2023-01-02 08:49:26,863]\u001b[0m Trial 58 finished with value: 0.0013807145358873951 and parameters: {'learning_rate': 0.26257631787390834, 'max_ctr_complexity': 12, 'l2_leaf_reg': 6.794818253631851, 'min_data_in_leaf': 90, 'objective': 'Logloss', 'colsample_bylevel': 0.08716857464267001, 'depth': 3, 'boosting_type': 'Plain', 'bootstrap_type': 'Bernoulli', 'subsample': 0.2764799787191171}. Best is trial 53 with value: 0.015083393820595314.\u001b[0m\n\u001b[32m[I 2023-01-02 08:49:28,576]\u001b[0m Trial 59 finished with value: 0.0020958156952595175 and parameters: {'learning_rate': 0.15525290932855665, 'max_ctr_complexity': 8, 'l2_leaf_reg': 8.89563672899202, 'min_data_in_leaf': 98, 'objective': 'Logloss', 'colsample_bylevel': 0.057562008648188716, 'depth': 4, 'boosting_type': 'Plain', 'bootstrap_type': 'Bayesian', 'bagging_temperature': 7.397037164850934}. Best is trial 53 with value: 0.015083393820595314.\u001b[0m\n\u001b[32m[I 2023-01-02 08:49:30,145]\u001b[0m Trial 60 finished with value: 0.0020268452766183387 and parameters: {'learning_rate': 0.24340051293699486, 'max_ctr_complexity': 9, 'l2_leaf_reg': 4.101902016833907, 'min_data_in_leaf': 68, 'objective': 'Logloss', 'colsample_bylevel': 0.04517367615324032, 'depth': 5, 'boosting_type': 'Plain', 'bootstrap_type': 'Bernoulli', 'subsample': 0.6725788922270161}. Best is trial 53 with value: 0.015083393820595314.\u001b[0m\n\u001b[32m[I 2023-01-02 08:49:31,821]\u001b[0m Trial 61 finished with value: 0.009631245719944004 and parameters: {'learning_rate': 0.1884436640562006, 'max_ctr_complexity': 13, 'l2_leaf_reg': 2.8559278809510853, 'min_data_in_leaf': 86, 'objective': 'Logloss', 'colsample_bylevel': 0.07691997856252118, 'depth': 3, 'boosting_type': 'Plain', 'bootstrap_type': 'MVS'}. Best is trial 53 with value: 0.015083393820595314.\u001b[0m\n\u001b[32m[I 2023-01-02 08:49:33,550]\u001b[0m Trial 62 finished with value: 0.0007591658610726082 and parameters: {'learning_rate': 0.17665303556254836, 'max_ctr_complexity': 14, 'l2_leaf_reg': 2.8755989989826825, 'min_data_in_leaf': 87, 'objective': 'Logloss', 'colsample_bylevel': 0.07689750939745521, 'depth': 3, 'boosting_type': 'Plain', 'bootstrap_type': 'MVS'}. Best is trial 53 with value: 0.015083393820595314.\u001b[0m\n\u001b[32m[I 2023-01-02 08:49:35,116]\u001b[0m Trial 63 finished with value: 0.0063058431788376446 and parameters: {'learning_rate': 0.195239908040353, 'max_ctr_complexity': 13, 'l2_leaf_reg': 1.914624663947241, 'min_data_in_leaf': 81, 'objective': 'Logloss', 'colsample_bylevel': 0.08330261928609668, 'depth': 2, 'boosting_type': 'Plain', 'bootstrap_type': 'MVS'}. Best is trial 53 with value: 0.015083393820595314.\u001b[0m\n\u001b[32m[I 2023-01-02 08:49:36,478]\u001b[0m Trial 64 finished with value: 0.013147991517391766 and parameters: {'learning_rate': 0.14208354711318485, 'max_ctr_complexity': 12, 'l2_leaf_reg': 1.4135969854520027, 'min_data_in_leaf': 90, 'objective': 'Logloss', 'colsample_bylevel': 0.07074946953908508, 'depth': 1, 'boosting_type': 'Plain', 'bootstrap_type': 'Bernoulli', 'subsample': 0.200522470913022}. Best is trial 53 with value: 0.015083393820595314.\u001b[0m\n\u001b[32m[I 2023-01-02 08:49:37,859]\u001b[0m Trial 65 finished with value: 0.006481624215079473 and parameters: {'learning_rate': 0.16494639505152836, 'max_ctr_complexity': 14, 'l2_leaf_reg': 1.309697158763434, 'min_data_in_leaf': 91, 'objective': 'Logloss', 'colsample_bylevel': 0.07244886065723573, 'depth': 1, 'boosting_type': 'Plain', 'bootstrap_type': 'Bayesian', 'bagging_temperature': 5.322570277162425}. Best is trial 53 with value: 0.015083393820595314.\u001b[0m\n\u001b[32m[I 2023-01-02 08:49:39,384]\u001b[0m Trial 66 finished with value: 1.10908270751775e-05 and parameters: {'learning_rate': 0.13827568893809072, 'max_ctr_complexity': 12, 'l2_leaf_reg': 1.4358399975320175, 'min_data_in_leaf': 100, 'objective': 'Logloss', 'colsample_bylevel': 0.09229358466024463, 'depth': 1, 'boosting_type': 'Plain', 'bootstrap_type': 'MVS'}. Best is trial 53 with value: 0.015083393820595314.\u001b[0m\n\u001b[32m[I 2023-01-02 08:49:41,208]\u001b[0m Trial 67 finished with value: 0.006145558861892608 and parameters: {'learning_rate': 0.1499566548103031, 'max_ctr_complexity': 12, 'l2_leaf_reg': 2.5077364816901317, 'min_data_in_leaf': 57, 'objective': 'Logloss', 'colsample_bylevel': 0.06300314840422984, 'depth': 7, 'boosting_type': 'Plain', 'bootstrap_type': 'Bernoulli', 'subsample': 0.47172873757508843}. Best is trial 53 with value: 0.015083393820595314.\u001b[0m\n\u001b[32m[I 2023-01-02 08:49:42,627]\u001b[0m Trial 68 finished with value: 0.0011432047726798178 and parameters: {'learning_rate': 0.27516288075871653, 'max_ctr_complexity': 10, 'l2_leaf_reg': 1.8677849132092716, 'min_data_in_leaf': 30, 'objective': 'Logloss', 'colsample_bylevel': 0.0833579927572373, 'depth': 2, 'boosting_type': 'Plain', 'bootstrap_type': 'MVS'}. Best is trial 53 with value: 0.015083393820595314.\u001b[0m\n\u001b[32m[I 2023-01-02 08:49:44,044]\u001b[0m Trial 69 finished with value: 0.0006125191965273835 and parameters: {'learning_rate': 0.17248308621863023, 'max_ctr_complexity': 14, 'l2_leaf_reg': 3.445526706881234, 'min_data_in_leaf': 86, 'objective': 'Logloss', 'colsample_bylevel': 0.07424950553688867, 'depth': 1, 'boosting_type': 'Plain', 'bootstrap_type': 'MVS'}. Best is trial 53 with value: 0.015083393820595314.\u001b[0m\n\u001b[32m[I 2023-01-02 08:49:48,546]\u001b[0m Trial 70 finished with value: 0.004430069723928343 and parameters: {'learning_rate': 0.14384875491148247, 'max_ctr_complexity': 13, 'l2_leaf_reg': 2.96258828160984, 'min_data_in_leaf': 36, 'objective': 'Logloss', 'colsample_bylevel': 0.03851793199742564, 'depth': 3, 'boosting_type': 'Ordered', 'bootstrap_type': 'Bernoulli', 'subsample': 0.18356372113265557}. Best is trial 53 with value: 0.015083393820595314.\u001b[0m\n\u001b[32m[I 2023-01-02 08:49:49,812]\u001b[0m Trial 71 finished with value: 0.009589916639998974 and parameters: {'learning_rate': 0.23199720110582642, 'max_ctr_complexity': 11, 'l2_leaf_reg': 4.433338423154252, 'min_data_in_leaf': 93, 'objective': 'Logloss', 'colsample_bylevel': 0.06919517789918518, 'depth': 4, 'boosting_type': 'Plain', 'bootstrap_type': 'Bernoulli', 'subsample': 0.28580560223111645}. Best is trial 53 with value: 0.015083393820595314.\u001b[0m\n\u001b[32m[I 2023-01-02 08:49:51,640]\u001b[0m Trial 72 finished with value: 0.0006001973396622118 and parameters: {'learning_rate': 0.12391979888611473, 'max_ctr_complexity': 11, 'l2_leaf_reg': 4.629700589139455, 'min_data_in_leaf': 93, 'objective': 'Logloss', 'colsample_bylevel': 0.06819884001831017, 'depth': 6, 'boosting_type': 'Plain', 'bootstrap_type': 'Bernoulli', 'subsample': 0.3279877402968774}. Best is trial 53 with value: 0.015083393820595314.\u001b[0m\n\u001b[32m[I 2023-01-02 08:49:53,080]\u001b[0m Trial 73 finished with value: 0.004998291112957576 and parameters: {'learning_rate': 0.22933211257046437, 'max_ctr_complexity': 10, 'l2_leaf_reg': 3.848114072725484, 'min_data_in_leaf': 90, 'objective': 'Logloss', 'colsample_bylevel': 0.07792790724801034, 'depth': 2, 'boosting_type': 'Plain', 'bootstrap_type': 'Bernoulli', 'subsample': 0.7506666802248769}. Best is trial 53 with value: 0.015083393820595314.\u001b[0m\n\u001b[32m[I 2023-01-02 08:49:54,656]\u001b[0m Trial 74 finished with value: 0.001129297411092911 and parameters: {'learning_rate': 0.20169842649183561, 'max_ctr_complexity': 12, 'l2_leaf_reg': 3.525513871317857, 'min_data_in_leaf': 85, 'objective': 'Logloss', 'colsample_bylevel': 0.0825144140993613, 'depth': 4, 'boosting_type': 'Plain', 'bootstrap_type': 'Bernoulli', 'subsample': 0.4097914585793415}. Best is trial 53 with value: 0.015083393820595314.\u001b[0m\n\u001b[32m[I 2023-01-02 08:49:58,516]\u001b[0m Trial 75 finished with value: 0.009621106581000571 and parameters: {'learning_rate': 0.21900875090920582, 'max_ctr_complexity': 11, 'l2_leaf_reg': 3.156765398726784, 'min_data_in_leaf': 95, 'objective': 'Logloss', 'colsample_bylevel': 0.06177223730819119, 'depth': 3, 'boosting_type': 'Ordered', 'bootstrap_type': 'MVS'}. Best is trial 53 with value: 0.015083393820595314.\u001b[0m\n\u001b[32m[I 2023-01-02 08:50:00,147]\u001b[0m Trial 76 finished with value: 0.00770515608967437 and parameters: {'learning_rate': 0.22065853969700366, 'max_ctr_complexity': 13, 'l2_leaf_reg': 5.879847005618548, 'min_data_in_leaf': 75, 'objective': 'Logloss', 'colsample_bylevel': 0.06250939488779166, 'depth': 5, 'boosting_type': 'Plain', 'bootstrap_type': 'Bayesian', 'bagging_temperature': 8.307720247952918}. Best is trial 53 with value: 0.015083393820595314.\u001b[0m\n\u001b[32m[I 2023-01-02 08:50:03,091]\u001b[0m Trial 77 finished with value: 0.001048531068501446 and parameters: {'learning_rate': 0.2084087890777082, 'max_ctr_complexity': 9, 'l2_leaf_reg': 3.198394449665291, 'min_data_in_leaf': 99, 'objective': 'Logloss', 'colsample_bylevel': 0.07190766822763257, 'depth': 2, 'boosting_type': 'Ordered', 'bootstrap_type': 'Bernoulli', 'subsample': 0.17469390558447018}. Best is trial 53 with value: 0.015083393820595314.\u001b[0m\n\u001b[32m[I 2023-01-02 08:50:04,721]\u001b[0m Trial 78 finished with value: 0.0069231882433209435 and parameters: {'learning_rate': 0.19200738444358867, 'max_ctr_complexity': 10, 'l2_leaf_reg': 2.103348531442392, 'min_data_in_leaf': 23, 'objective': 'Logloss', 'colsample_bylevel': 0.06703770632742842, 'depth': 4, 'boosting_type': 'Plain', 'bootstrap_type': 'MVS'}. Best is trial 53 with value: 0.015083393820595314.\u001b[0m\n\u001b[32m[I 2023-01-02 08:50:07,371]\u001b[0m Trial 79 finished with value: 0.0028117568061002407 and parameters: {'learning_rate': 0.255505710144098, 'max_ctr_complexity': 6, 'l2_leaf_reg': 4.449859596185412, 'min_data_in_leaf': 97, 'objective': 'Logloss', 'colsample_bylevel': 0.055916866491563536, 'depth': 3, 'boosting_type': 'Ordered', 'bootstrap_type': 'Bernoulli', 'subsample': 0.28472873811762683}. Best is trial 53 with value: 0.015083393820595314.\u001b[0m\n\u001b[32m[I 2023-01-02 08:50:09,045]\u001b[0m Trial 80 finished with value: 0.01028324070900144 and parameters: {'learning_rate': 0.15875296007933037, 'max_ctr_complexity': 11, 'l2_leaf_reg': 5.276024922529322, 'min_data_in_leaf': 93, 'objective': 'Logloss', 'colsample_bylevel': 0.060942658108893245, 'depth': 3, 'boosting_type': 'Plain', 'bootstrap_type': 'MVS'}. Best is trial 53 with value: 0.015083393820595314.\u001b[0m\n\u001b[32m[I 2023-01-02 08:50:10,732]\u001b[0m Trial 81 finished with value: 0.002912260081709639 and parameters: {'learning_rate': 0.15645615869928156, 'max_ctr_complexity': 11, 'l2_leaf_reg': 5.3480996410017285, 'min_data_in_leaf': 89, 'objective': 'Logloss', 'colsample_bylevel': 0.06163331356268615, 'depth': 3, 'boosting_type': 'Plain', 'bootstrap_type': 'MVS'}. Best is trial 53 with value: 0.015083393820595314.\u001b[0m\n\u001b[32m[I 2023-01-02 08:50:12,288]\u001b[0m Trial 82 finished with value: 0.006332153310045774 and parameters: {'learning_rate': 0.17901620747478875, 'max_ctr_complexity': 12, 'l2_leaf_reg': 5.499921708149861, 'min_data_in_leaf': 94, 'objective': 'Logloss', 'colsample_bylevel': 0.07007021065141729, 'depth': 3, 'boosting_type': 'Plain', 'bootstrap_type': 'MVS'}. Best is trial 53 with value: 0.015083393820595314.\u001b[0m\n\u001b[32m[I 2023-01-02 08:50:13,786]\u001b[0m Trial 83 finished with value: 0.010120974029530827 and parameters: {'learning_rate': 0.19704138075655903, 'max_ctr_complexity': 11, 'l2_leaf_reg': 5.828775375444098, 'min_data_in_leaf': 92, 'objective': 'Logloss', 'colsample_bylevel': 0.051515012829487186, 'depth': 4, 'boosting_type': 'Plain', 'bootstrap_type': 'MVS'}. Best is trial 53 with value: 0.015083393820595314.\u001b[0m\n\u001b[32m[I 2023-01-02 08:50:15,426]\u001b[0m Trial 84 finished with value: 0.0011195223795523734 and parameters: {'learning_rate': 0.19527130150361857, 'max_ctr_complexity': 12, 'l2_leaf_reg': 6.222800723037984, 'min_data_in_leaf': 89, 'objective': 'Logloss', 'colsample_bylevel': 0.04848105682037628, 'depth': 2, 'boosting_type': 'Plain', 'bootstrap_type': 'MVS'}. Best is trial 53 with value: 0.015083393820595314.\u001b[0m\n\u001b[32m[I 2023-01-02 08:50:17,059]\u001b[0m Trial 85 finished with value: 0.009696748449035786 and parameters: {'learning_rate': 0.1698312403165628, 'max_ctr_complexity': 13, 'l2_leaf_reg': 5.910735390010728, 'min_data_in_leaf': 96, 'objective': 'Logloss', 'colsample_bylevel': 0.05211887376602888, 'depth': 4, 'boosting_type': 'Plain', 'bootstrap_type': 'MVS'}. Best is trial 53 with value: 0.015083393820595314.\u001b[0m\n\u001b[32m[I 2023-01-02 08:50:18,775]\u001b[0m Trial 86 finished with value: 0.005927102126264128 and parameters: {'learning_rate': 0.16960691712094006, 'max_ctr_complexity': 13, 'l2_leaf_reg': 5.950756523701716, 'min_data_in_leaf': 50, 'objective': 'Logloss', 'colsample_bylevel': 0.05080382356000132, 'depth': 5, 'boosting_type': 'Plain', 'bootstrap_type': 'MVS'}. Best is trial 53 with value: 0.015083393820595314.\u001b[0m\n\u001b[32m[I 2023-01-02 08:50:20,308]\u001b[0m Trial 87 finished with value: 0.010411726312779535 and parameters: {'learning_rate': 0.18535719740034265, 'max_ctr_complexity': 13, 'l2_leaf_reg': 7.079895996127859, 'min_data_in_leaf': 91, 'objective': 'Logloss', 'colsample_bylevel': 0.05265280822162454, 'depth': 4, 'boosting_type': 'Plain', 'bootstrap_type': 'MVS'}. Best is trial 53 with value: 0.015083393820595314.\u001b[0m\n\u001b[32m[I 2023-01-02 08:50:22,541]\u001b[0m Trial 88 finished with value: 0.0019098935935801808 and parameters: {'learning_rate': 0.12868877285623287, 'max_ctr_complexity': 15, 'l2_leaf_reg': 7.000136777651342, 'min_data_in_leaf': 97, 'objective': 'Logloss', 'colsample_bylevel': 0.05273735084475297, 'depth': 4, 'boosting_type': 'Plain', 'bootstrap_type': 'MVS'}. Best is trial 53 with value: 0.015083393820595314.\u001b[0m\n\u001b[32m[I 2023-01-02 08:50:24,213]\u001b[0m Trial 89 finished with value: 0.013480055542137714 and parameters: {'learning_rate': 0.15747570477020367, 'max_ctr_complexity': 14, 'l2_leaf_reg': 7.051295435406864, 'min_data_in_leaf': 93, 'objective': 'Logloss', 'colsample_bylevel': 0.04341192736693169, 'depth': 5, 'boosting_type': 'Plain', 'bootstrap_type': 'MVS'}. Best is trial 53 with value: 0.015083393820595314.\u001b[0m\n\u001b[32m[I 2023-01-02 08:50:26,107]\u001b[0m Trial 90 finished with value: 0.0008920496510955722 and parameters: {'learning_rate': 0.15960455871347476, 'max_ctr_complexity': 14, 'l2_leaf_reg': 7.135297607450344, 'min_data_in_leaf': 81, 'objective': 'Logloss', 'colsample_bylevel': 0.04516113383987293, 'depth': 6, 'boosting_type': 'Plain', 'bootstrap_type': 'Bayesian', 'bagging_temperature': 5.426447538091964}. Best is trial 53 with value: 0.015083393820595314.\u001b[0m\n\u001b[32m[I 2023-01-02 08:50:28,184]\u001b[0m Trial 91 finished with value: 0.00611505667931822 and parameters: {'learning_rate': 0.140749979074183, 'max_ctr_complexity': 14, 'l2_leaf_reg': 7.639609176797393, 'min_data_in_leaf': 92, 'objective': 'Logloss', 'colsample_bylevel': 0.043690382251629425, 'depth': 5, 'boosting_type': 'Plain', 'bootstrap_type': 'MVS'}. Best is trial 53 with value: 0.015083393820595314.\u001b[0m\n\u001b[32m[I 2023-01-02 08:50:30,058]\u001b[0m Trial 92 finished with value: 0.0008692226213902199 and parameters: {'learning_rate': 0.18069861758928019, 'max_ctr_complexity': 13, 'l2_leaf_reg': 6.393469902394138, 'min_data_in_leaf': 91, 'objective': 'Logloss', 'colsample_bylevel': 0.04744447341640296, 'depth': 5, 'boosting_type': 'Plain', 'bootstrap_type': 'MVS'}. Best is trial 53 with value: 0.015083393820595314.\u001b[0m\n\u001b[32m[I 2023-01-02 08:50:32,109]\u001b[0m Trial 93 finished with value: 0.0034470221195765927 and parameters: {'learning_rate': 0.1490782155983569, 'max_ctr_complexity': 12, 'l2_leaf_reg': 5.097743367024904, 'min_data_in_leaf': 96, 'objective': 'Logloss', 'colsample_bylevel': 0.056764887475539094, 'depth': 4, 'boosting_type': 'Plain', 'bootstrap_type': 'MVS'}. Best is trial 53 with value: 0.015083393820595314.\u001b[0m\n\u001b[32m[I 2023-01-02 08:50:33,876]\u001b[0m Trial 94 finished with value: 0.011050497845689122 and parameters: {'learning_rate': 0.16393478191662583, 'max_ctr_complexity': 13, 'l2_leaf_reg': 5.687181421430695, 'min_data_in_leaf': 100, 'objective': 'Logloss', 'colsample_bylevel': 0.04072317790483043, 'depth': 4, 'boosting_type': 'Plain', 'bootstrap_type': 'MVS'}. Best is trial 53 with value: 0.015083393820595314.\u001b[0m\n\u001b[32m[I 2023-01-02 08:50:35,769]\u001b[0m Trial 95 finished with value: 0.004072841832019725 and parameters: {'learning_rate': 0.1342488122386498, 'max_ctr_complexity': 15, 'l2_leaf_reg': 7.569724119921722, 'min_data_in_leaf': 99, 'objective': 'Logloss', 'colsample_bylevel': 0.03482225656600173, 'depth': 7, 'boosting_type': 'Plain', 'bootstrap_type': 'MVS'}. Best is trial 53 with value: 0.015083393820595314.\u001b[0m\n\u001b[32m[I 2023-01-02 08:50:38,018]\u001b[0m Trial 96 finished with value: 0.006648452832801688 and parameters: {'learning_rate': 0.113006261422263, 'max_ctr_complexity': 14, 'l2_leaf_reg': 6.206526479383064, 'min_data_in_leaf': 100, 'objective': 'Logloss', 'colsample_bylevel': 0.03983331894364769, 'depth': 5, 'boosting_type': 'Plain', 'bootstrap_type': 'MVS'}. Best is trial 53 with value: 0.015083393820595314.\u001b[0m\n\u001b[32m[I 2023-01-02 08:50:39,832]\u001b[0m Trial 97 finished with value: 0.006584379562401876 and parameters: {'learning_rate': 0.16042759889385697, 'max_ctr_complexity': 12, 'l2_leaf_reg': 7.108841131635571, 'min_data_in_leaf': 88, 'objective': 'Logloss', 'colsample_bylevel': 0.0422079884497064, 'depth': 4, 'boosting_type': 'Plain', 'bootstrap_type': 'MVS'}. Best is trial 53 with value: 0.015083393820595314.\u001b[0m\n\u001b[32m[I 2023-01-02 08:50:42,867]\u001b[0m Trial 98 finished with value: 0.0028159122540768466 and parameters: {'learning_rate': 0.1852342451769974, 'max_ctr_complexity': 8, 'l2_leaf_reg': 6.740447153638543, 'min_data_in_leaf': 84, 'objective': 'Logloss', 'colsample_bylevel': 0.03513977135237965, 'depth': 12, 'boosting_type': 'Plain', 'bootstrap_type': 'Bayesian', 'bagging_temperature': 3.231596462111344}. Best is trial 53 with value: 0.015083393820595314.\u001b[0m\n\u001b[32m[I 2023-01-02 08:50:44,532]\u001b[0m Trial 99 finished with value: 0.002434751524795553 and parameters: {'learning_rate': 0.20864581361700194, 'max_ctr_complexity': 9, 'l2_leaf_reg': 6.552149117322945, 'min_data_in_leaf': 12, 'objective': 'Logloss', 'colsample_bylevel': 0.048987752150361566, 'depth': 5, 'boosting_type': 'Plain', 'bootstrap_type': 'MVS'}. Best is trial 53 with value: 0.015083393820595314.\u001b[0m\n",
          "output_type": "stream"
        }
      ]
    },
    {
      "cell_type": "markdown",
      "source": [
        "ROC AUC близок 0.5, распределения train и test практический совпадают"
      ],
      "metadata": {
        "id": "HOSKzSdHEoE2"
      }
    },
    {
      "cell_type": "code",
      "source": [
        "# train_x, valid_x, train_y, valid_y = train_test_split(X, y,\n",
        "#                                                       test_size=0.15, random_state=5)\n",
        "\n",
        "# model_cat_adv = cb.CatBoostClassifier(**study_adv.best_params)\n",
        "# model_cat_adv.fit(train_x, train_y, eval_set=[(valid_x, valid_y)], verbose=0, early_stopping_rounds=10)"
      ],
      "metadata": {
        "execution": {
          "iopub.status.busy": "2023-01-02T08:53:03.773527Z",
          "iopub.execute_input": "2023-01-02T08:53:03.774558Z",
          "iopub.status.idle": "2023-01-02T08:53:05.603090Z",
          "shell.execute_reply.started": "2023-01-02T08:53:03.774511Z",
          "shell.execute_reply": "2023-01-02T08:53:05.601680Z"
        },
        "trusted": true,
        "id": "52DPCK25EoE2",
        "outputId": "b1755b6d-5cb5-4b4c-9f44-fdd84fda76cd"
      },
      "execution_count": null,
      "outputs": [
        {
          "execution_count": 47,
          "output_type": "execute_result",
          "data": {
            "text/plain": "<catboost.core.CatBoostClassifier at 0x7f9223934690>"
          },
          "metadata": {}
        }
      ]
    },
    {
      "cell_type": "code",
      "source": [
        "# df_cat_feats = pd.DataFrame({'feat_name': feats, 'feat_cat_importance': model_cat_adv.feature_importances_}).sort_values('feat_cat_importance', ascending=False)\n",
        "# df_cat_feats.iloc[:20] # Удалим первую фичу, которая лучше всего различает train / test"
      ],
      "metadata": {
        "execution": {
          "iopub.status.busy": "2023-01-02T08:53:56.955797Z",
          "iopub.execute_input": "2023-01-02T08:53:56.956279Z",
          "iopub.status.idle": "2023-01-02T08:53:56.972212Z",
          "shell.execute_reply.started": "2023-01-02T08:53:56.956243Z",
          "shell.execute_reply": "2023-01-02T08:53:56.970615Z"
        },
        "trusted": true,
        "id": "15d6hVNyEoE2",
        "outputId": "0f886c28-6809-4c79-f7a6-2d2e40bda97d"
      },
      "execution_count": null,
      "outputs": [
        {
          "execution_count": 49,
          "output_type": "execute_result",
          "data": {
            "text/plain": "                       feat_name  feat_cat_importance\n4              buy_more500_times             4.845073\n33                    mean_netto             3.746655\n21           buy_popular_level_4             3.628068\n24        after_fr_count_product             3.027968\n80               issue_days_more             3.003166\n50      std_express_points_spent             2.850797\n67     ordinal_first_redeem_date             2.849440\n79                    issue_days             2.715308\n53             mean_purchase_sum             2.680749\n34                     sum_netto             2.670979\n32                         night             2.588099\n63        first_redeem_date_unix             2.548102\n14          sum_trn_sum_from_red             2.518951\n16     proc_express_points_spent             2.436385\n48      sum_regular_points_spent             2.395572\n87                      gender_F             2.371418\n19  proc_regular_points_received             2.293882\n40   sum_regular_points_received             2.277242\n3                unique_products             2.140885\n46      std_regular_points_spent             2.134672",
            "text/html": "<div>\n<style scoped>\n    .dataframe tbody tr th:only-of-type {\n        vertical-align: middle;\n    }\n\n    .dataframe tbody tr th {\n        vertical-align: top;\n    }\n\n    .dataframe thead th {\n        text-align: right;\n    }\n</style>\n<table border=\"1\" class=\"dataframe\">\n  <thead>\n    <tr style=\"text-align: right;\">\n      <th></th>\n      <th>feat_name</th>\n      <th>feat_cat_importance</th>\n    </tr>\n  </thead>\n  <tbody>\n    <tr>\n      <th>4</th>\n      <td>buy_more500_times</td>\n      <td>4.845073</td>\n    </tr>\n    <tr>\n      <th>33</th>\n      <td>mean_netto</td>\n      <td>3.746655</td>\n    </tr>\n    <tr>\n      <th>21</th>\n      <td>buy_popular_level_4</td>\n      <td>3.628068</td>\n    </tr>\n    <tr>\n      <th>24</th>\n      <td>after_fr_count_product</td>\n      <td>3.027968</td>\n    </tr>\n    <tr>\n      <th>80</th>\n      <td>issue_days_more</td>\n      <td>3.003166</td>\n    </tr>\n    <tr>\n      <th>50</th>\n      <td>std_express_points_spent</td>\n      <td>2.850797</td>\n    </tr>\n    <tr>\n      <th>67</th>\n      <td>ordinal_first_redeem_date</td>\n      <td>2.849440</td>\n    </tr>\n    <tr>\n      <th>79</th>\n      <td>issue_days</td>\n      <td>2.715308</td>\n    </tr>\n    <tr>\n      <th>53</th>\n      <td>mean_purchase_sum</td>\n      <td>2.680749</td>\n    </tr>\n    <tr>\n      <th>34</th>\n      <td>sum_netto</td>\n      <td>2.670979</td>\n    </tr>\n    <tr>\n      <th>32</th>\n      <td>night</td>\n      <td>2.588099</td>\n    </tr>\n    <tr>\n      <th>63</th>\n      <td>first_redeem_date_unix</td>\n      <td>2.548102</td>\n    </tr>\n    <tr>\n      <th>14</th>\n      <td>sum_trn_sum_from_red</td>\n      <td>2.518951</td>\n    </tr>\n    <tr>\n      <th>16</th>\n      <td>proc_express_points_spent</td>\n      <td>2.436385</td>\n    </tr>\n    <tr>\n      <th>48</th>\n      <td>sum_regular_points_spent</td>\n      <td>2.395572</td>\n    </tr>\n    <tr>\n      <th>87</th>\n      <td>gender_F</td>\n      <td>2.371418</td>\n    </tr>\n    <tr>\n      <th>19</th>\n      <td>proc_regular_points_received</td>\n      <td>2.293882</td>\n    </tr>\n    <tr>\n      <th>40</th>\n      <td>sum_regular_points_received</td>\n      <td>2.277242</td>\n    </tr>\n    <tr>\n      <th>3</th>\n      <td>unique_products</td>\n      <td>2.140885</td>\n    </tr>\n    <tr>\n      <th>46</th>\n      <td>std_regular_points_spent</td>\n      <td>2.134672</td>\n    </tr>\n  </tbody>\n</table>\n</div>"
          },
          "metadata": {}
        }
      ]
    },
    {
      "cell_type": "markdown",
      "source": [
        "## CatBoost"
      ],
      "metadata": {
        "id": "jJDWcbtDEoE2"
      }
    },
    {
      "cell_type": "markdown",
      "source": [
        "CatBoost hyperopt"
      ],
      "metadata": {
        "id": "NDW0urxxEoE2"
      }
    },
    {
      "cell_type": "code",
      "source": [
        "# best = find_best_hyper_params(HYPEROPT_CATBOOST_PARAMS_SPACE, evals=100, seed=2023)\n",
        "# hyper_params = best.copy()\n",
        "# hyper_params.update(MODEL_CATBOOST_CONST_PARAM)\n",
        "\n",
        "# model_cat1 = cb.CatBoostClassifier(**hyper_params)\n",
        "# model_cat1.fit(train_pool, verbose=0, eval_set=val_pool, plot=False)\n",
        "# hyper_params['iterations'] = model_cat1.get_best_iteration()\n",
        "# hyper_params"
      ],
      "metadata": {
        "execution": {
          "iopub.status.busy": "2023-01-05T13:47:32.186680Z",
          "iopub.execute_input": "2023-01-05T13:47:32.187835Z",
          "iopub.status.idle": "2023-01-05T13:47:32.192886Z",
          "shell.execute_reply.started": "2023-01-05T13:47:32.187790Z",
          "shell.execute_reply": "2023-01-05T13:47:32.191596Z"
        },
        "trusted": true,
        "id": "e7yeCQM4EoE2"
      },
      "execution_count": null,
      "outputs": []
    },
    {
      "cell_type": "markdown",
      "source": [
        "## XGBoost"
      ],
      "metadata": {
        "id": "ULvuuz1uEoE3"
      }
    },
    {
      "cell_type": "markdown",
      "source": [
        "XGBoost hyperopt"
      ],
      "metadata": {
        "id": "oVrWWsYcEoE3"
      }
    },
    {
      "cell_type": "code",
      "source": [
        "# best = find_best_hyper_params(HYPEROPT_XGB_PARAMS_SPACE, 'xgboost', evals=100, seed=2023)\n",
        "# hyper_params = best.copy()\n",
        "# hyper_params.update(MODEL_XGB_CONST_PARAM)\n",
        "\n",
        "# model_xgb = xgb.XGBClassifier(**hyper_params)\n",
        "# model_xgb.fit(X_train, y_train, verbose=0, eval_set=[(X_val, y_val)])\n",
        "\n",
        "# hyper_params['iterations'] = model_xgb.get_booster().best_iteration\n",
        "# hyper_params"
      ],
      "metadata": {
        "execution": {
          "iopub.status.busy": "2023-01-03T21:40:44.153659Z",
          "iopub.execute_input": "2023-01-03T21:40:44.154077Z",
          "iopub.status.idle": "2023-01-03T21:40:44.159250Z",
          "shell.execute_reply.started": "2023-01-03T21:40:44.154045Z",
          "shell.execute_reply": "2023-01-03T21:40:44.158034Z"
        },
        "trusted": true,
        "id": "I8SH7LC-EoE3"
      },
      "execution_count": null,
      "outputs": []
    },
    {
      "cell_type": "code",
      "source": [
        "# study_xgb = optuna.create_study(direction=\"maximize\", sampler=optuna.samplers.TPESampler(seed=2023))\n",
        "# study_xgb.optimize(objective_xgboost, n_trials=50)"
      ],
      "metadata": {
        "execution": {
          "iopub.status.busy": "2023-01-08T07:39:54.188389Z",
          "iopub.execute_input": "2023-01-08T07:39:54.188713Z",
          "iopub.status.idle": "2023-01-08T07:39:54.210254Z",
          "shell.execute_reply.started": "2023-01-08T07:39:54.188680Z",
          "shell.execute_reply": "2023-01-08T07:39:54.209078Z"
        },
        "trusted": true,
        "id": "Uueh-JOkEoE3"
      },
      "execution_count": null,
      "outputs": []
    },
    {
      "cell_type": "markdown",
      "source": [
        "## LightGBM"
      ],
      "metadata": {
        "id": "gnqJclOcEoE3"
      }
    },
    {
      "cell_type": "markdown",
      "source": [
        "LightGBM hyperopt"
      ],
      "metadata": {
        "id": "8AzRgnaKEoE3"
      }
    },
    {
      "cell_type": "code",
      "source": [
        "# Эту часть можно самому раскомментировать и найти те же параметры что и ниже =)\n",
        "# with warnings.catch_warnings():\n",
        "#     warnings.simplefilter(\"ignore\")\n",
        "#     best = find_best_hyper_params(HYPEROPT_LIGHT_PARAMS_SPACE, 'lightgbm', evals=150, seed=2023)\n",
        "#     hyper_params = best.copy()\n",
        "#     hyper_params.update(MODEL_LIGHT_CONST_PARAM)"
      ],
      "metadata": {
        "execution": {
          "iopub.status.busy": "2023-01-08T18:06:36.505673Z",
          "iopub.execute_input": "2023-01-08T18:06:36.506063Z",
          "iopub.status.idle": "2023-01-08T18:06:36.510639Z",
          "shell.execute_reply.started": "2023-01-08T18:06:36.506031Z",
          "shell.execute_reply": "2023-01-08T18:06:36.509466Z"
        },
        "trusted": true,
        "id": "KLzho4FpEoE3"
      },
      "execution_count": null,
      "outputs": []
    },
    {
      "cell_type": "code",
      "source": [
        "# Выбранные параметры\n",
        "select_params = {'early_stopping_round': 10, 'learning_rate': 0.06105444003006186,\n",
        "               'max_depth': 8, 'min_child_samples': 133,\n",
        "               'min_child_weight': 0.018800946333963328, 'n_estimators': 467,\n",
        "               'num_leaves': 32, 'reg_alpha': 1, 'reg_lambda': 10,\n",
        "               'seed': 2023, 'subsample': 0.9729740659988495}"
      ],
      "metadata": {
        "execution": {
          "iopub.status.busy": "2023-01-08T18:04:43.931980Z",
          "iopub.execute_input": "2023-01-08T18:04:43.932993Z",
          "iopub.status.idle": "2023-01-08T18:04:43.940028Z",
          "shell.execute_reply.started": "2023-01-08T18:04:43.932949Z",
          "shell.execute_reply": "2023-01-08T18:04:43.939075Z"
        },
        "trusted": true,
        "id": "OwrSWtfxEoE3"
      },
      "execution_count": null,
      "outputs": []
    },
    {
      "cell_type": "code",
      "source": [
        "with warnings.catch_warnings():\n",
        "    warnings.simplefilter(\"ignore\")\n",
        "    mean_cv_score = []\n",
        "    lgb_models = []\n",
        "    kfold = KFold(7, shuffle=True, random_state=5)\n",
        "    for i, (train_index, test_index) in enumerate(kfold.split(x_date)):\n",
        "        train_y, valid_y = y_date.iloc[train_index], y_date.iloc[test_index]\n",
        "        train_x, valid_x = x_date.iloc[train_index,:], x_date.iloc[test_index,:]\n",
        "        model = lgb.LGBMClassifier(**select_params)\n",
        "        model.fit(train_x, train_y, verbose=0, eval_set=[(valid_x, valid_y)])\n",
        "\n",
        "        lgb_models.append(model)\n",
        "\n",
        "        y_pred = model.predict(valid_x)\n",
        "        y_prob = model.predict_proba(valid_x)\n",
        "        gini = roc_auc_score(valid_y, y_prob[:, -1]) * 2 - 1\n",
        "        mean_cv_score.append(gini)\n",
        "\n",
        "        print(f\"Fold {i} - {gini}\")\n",
        "    print(np.round(mean_cv_score, 4), np.mean(mean_cv_score), np.std(mean_cv_score))"
      ],
      "metadata": {
        "execution": {
          "iopub.status.busy": "2023-01-08T18:04:43.941405Z",
          "iopub.execute_input": "2023-01-08T18:04:43.941740Z",
          "iopub.status.idle": "2023-01-08T18:05:01.626186Z",
          "shell.execute_reply.started": "2023-01-08T18:04:43.941709Z",
          "shell.execute_reply": "2023-01-08T18:05:01.625245Z"
        },
        "trusted": true,
        "id": "tVC0J85VEoE3",
        "outputId": "d95729a1-9a4f-423b-c979-48e2a2abcee1"
      },
      "execution_count": null,
      "outputs": [
        {
          "name": "stdout",
          "text": "Fold 0 - 0.04498800339405418\nFold 1 - 0.05080575642467755\nFold 2 - 0.04677868108188776\nFold 3 - 0.045203483675471556\nFold 4 - 0.04856957536410489\nFold 5 - 0.045964918879435324\nFold 6 - 0.038298143172048604\n[0.045  0.0508 0.0468 0.0452 0.0486 0.046  0.0383] 0.045801223141668554 0.0036056736161924653\n",
          "output_type": "stream"
        }
      ]
    },
    {
      "cell_type": "markdown",
      "source": [
        "## Feats analysis"
      ],
      "metadata": {
        "id": "biNWcfYSEoE3"
      }
    },
    {
      "cell_type": "code",
      "source": [
        "df_lgb_feats = pd.DataFrame({'feat_name': feats, 'feat_lgb_importance': lgb_models[5].feature_importances_}).sort_values('feat_lgb_importance', ascending=False)\n",
        "df_lgb_feats"
      ],
      "metadata": {
        "execution": {
          "iopub.status.busy": "2023-01-08T08:19:50.504546Z",
          "iopub.execute_input": "2023-01-08T08:19:50.504946Z",
          "iopub.status.idle": "2023-01-08T08:19:50.526196Z",
          "shell.execute_reply.started": "2023-01-08T08:19:50.504912Z",
          "shell.execute_reply": "2023-01-08T08:19:50.524827Z"
        },
        "trusted": true,
        "id": "gs9s28jiEoE4",
        "outputId": "d03598d2-d84c-401f-90fc-dd226e7b8d56"
      },
      "execution_count": null,
      "outputs": [
        {
          "execution_count": 58,
          "output_type": "execute_result",
          "data": {
            "text/plain": "                           feat_name  feat_lgb_importance\n43                        mean_netto                   50\n62                               age                   46\n0          ordinal_first_redeem_date                   44\n2                          card_days                   38\n63         mean_interval_transaction                   33\n..                               ...                  ...\n58                   issue_days_more                    0\n74  more_std_regular_points_received                    0\n7          more_express_points_spent                    0\n72               one_unique_products                    0\n97            more_mean_purchase_sum                    0\n\n[98 rows x 2 columns]",
            "text/html": "<div>\n<style scoped>\n    .dataframe tbody tr th:only-of-type {\n        vertical-align: middle;\n    }\n\n    .dataframe tbody tr th {\n        vertical-align: top;\n    }\n\n    .dataframe thead th {\n        text-align: right;\n    }\n</style>\n<table border=\"1\" class=\"dataframe\">\n  <thead>\n    <tr style=\"text-align: right;\">\n      <th></th>\n      <th>feat_name</th>\n      <th>feat_lgb_importance</th>\n    </tr>\n  </thead>\n  <tbody>\n    <tr>\n      <th>43</th>\n      <td>mean_netto</td>\n      <td>50</td>\n    </tr>\n    <tr>\n      <th>62</th>\n      <td>age</td>\n      <td>46</td>\n    </tr>\n    <tr>\n      <th>0</th>\n      <td>ordinal_first_redeem_date</td>\n      <td>44</td>\n    </tr>\n    <tr>\n      <th>2</th>\n      <td>card_days</td>\n      <td>38</td>\n    </tr>\n    <tr>\n      <th>63</th>\n      <td>mean_interval_transaction</td>\n      <td>33</td>\n    </tr>\n    <tr>\n      <th>...</th>\n      <td>...</td>\n      <td>...</td>\n    </tr>\n    <tr>\n      <th>58</th>\n      <td>issue_days_more</td>\n      <td>0</td>\n    </tr>\n    <tr>\n      <th>74</th>\n      <td>more_std_regular_points_received</td>\n      <td>0</td>\n    </tr>\n    <tr>\n      <th>7</th>\n      <td>more_express_points_spent</td>\n      <td>0</td>\n    </tr>\n    <tr>\n      <th>72</th>\n      <td>one_unique_products</td>\n      <td>0</td>\n    </tr>\n    <tr>\n      <th>97</th>\n      <td>more_mean_purchase_sum</td>\n      <td>0</td>\n    </tr>\n  </tbody>\n</table>\n<p>98 rows × 2 columns</p>\n</div>"
          },
          "metadata": {}
        }
      ]
    },
    {
      "cell_type": "code",
      "source": [
        "df_lgb_feats = pd.DataFrame({'feat_name': feats, 'feat_lgb_importance': lgb_models[4].feature_importances_}).sort_values('feat_lgb_importance', ascending=False)\n",
        "df_lgb_feats"
      ],
      "metadata": {
        "execution": {
          "iopub.status.busy": "2023-01-08T08:19:51.650747Z",
          "iopub.execute_input": "2023-01-08T08:19:51.651242Z",
          "iopub.status.idle": "2023-01-08T08:19:51.668343Z",
          "shell.execute_reply.started": "2023-01-08T08:19:51.651199Z",
          "shell.execute_reply": "2023-01-08T08:19:51.666234Z"
        },
        "trusted": true,
        "id": "1pcCvah4EoE4",
        "outputId": "f0b08417-889a-41f8-d1c4-e6b1b1a39789"
      },
      "execution_count": null,
      "outputs": [
        {
          "execution_count": 59,
          "output_type": "execute_result",
          "data": {
            "text/plain": "                                 feat_name  feat_lgb_importance\n43                              mean_netto                   66\n28                ordinal_first_issue_date                   65\n0                ordinal_first_redeem_date                   64\n62                                     age                   57\n50          pred_last_transaction_datetime                   53\n..                                     ...                  ...\n7                more_express_points_spent                    0\n66            mean_express_points_received                    0\n70  last_two_month_express_points_received                    0\n45                 more2_mean_purchase_sum                    0\n97                  more_mean_purchase_sum                    0\n\n[98 rows x 2 columns]",
            "text/html": "<div>\n<style scoped>\n    .dataframe tbody tr th:only-of-type {\n        vertical-align: middle;\n    }\n\n    .dataframe tbody tr th {\n        vertical-align: top;\n    }\n\n    .dataframe thead th {\n        text-align: right;\n    }\n</style>\n<table border=\"1\" class=\"dataframe\">\n  <thead>\n    <tr style=\"text-align: right;\">\n      <th></th>\n      <th>feat_name</th>\n      <th>feat_lgb_importance</th>\n    </tr>\n  </thead>\n  <tbody>\n    <tr>\n      <th>43</th>\n      <td>mean_netto</td>\n      <td>66</td>\n    </tr>\n    <tr>\n      <th>28</th>\n      <td>ordinal_first_issue_date</td>\n      <td>65</td>\n    </tr>\n    <tr>\n      <th>0</th>\n      <td>ordinal_first_redeem_date</td>\n      <td>64</td>\n    </tr>\n    <tr>\n      <th>62</th>\n      <td>age</td>\n      <td>57</td>\n    </tr>\n    <tr>\n      <th>50</th>\n      <td>pred_last_transaction_datetime</td>\n      <td>53</td>\n    </tr>\n    <tr>\n      <th>...</th>\n      <td>...</td>\n      <td>...</td>\n    </tr>\n    <tr>\n      <th>7</th>\n      <td>more_express_points_spent</td>\n      <td>0</td>\n    </tr>\n    <tr>\n      <th>66</th>\n      <td>mean_express_points_received</td>\n      <td>0</td>\n    </tr>\n    <tr>\n      <th>70</th>\n      <td>last_two_month_express_points_received</td>\n      <td>0</td>\n    </tr>\n    <tr>\n      <th>45</th>\n      <td>more2_mean_purchase_sum</td>\n      <td>0</td>\n    </tr>\n    <tr>\n      <th>97</th>\n      <td>more_mean_purchase_sum</td>\n      <td>0</td>\n    </tr>\n  </tbody>\n</table>\n<p>98 rows × 2 columns</p>\n</div>"
          },
          "metadata": {}
        }
      ]
    },
    {
      "cell_type": "markdown",
      "source": [
        "## Submission file"
      ],
      "metadata": {
        "id": "0aZDEgRzEoE4"
      }
    },
    {
      "cell_type": "code",
      "source": [
        "final_pred = lgb_models[4].predict_proba(X_test)[:, -1]"
      ],
      "metadata": {
        "execution": {
          "iopub.status.busy": "2023-01-08T18:05:01.627532Z",
          "iopub.execute_input": "2023-01-08T18:05:01.628422Z",
          "iopub.status.idle": "2023-01-08T18:05:01.772942Z",
          "shell.execute_reply.started": "2023-01-08T18:05:01.628386Z",
          "shell.execute_reply": "2023-01-08T18:05:01.771960Z"
        },
        "trusted": true,
        "id": "gAHHx03dEoE4"
      },
      "execution_count": null,
      "outputs": []
    },
    {
      "cell_type": "code",
      "source": [
        "plt.hist(final_pred, bins=20);"
      ],
      "metadata": {
        "execution": {
          "iopub.status.busy": "2023-01-08T18:05:01.774577Z",
          "iopub.execute_input": "2023-01-08T18:05:01.775277Z",
          "iopub.status.idle": "2023-01-08T18:05:02.097977Z",
          "shell.execute_reply.started": "2023-01-08T18:05:01.775242Z",
          "shell.execute_reply": "2023-01-08T18:05:02.097215Z"
        },
        "trusted": true,
        "id": "MKim_2_PEoE4",
        "outputId": "aad7e8b9-df95-4673-ee4e-f395307f43b2"
      },
      "execution_count": null,
      "outputs": [
        {
          "output_type": "display_data",
          "data": {
            "text/plain": "<Figure size 612x432 with 1 Axes>",
            "image/png": "[encoded data removed]"
          },
          "metadata": {}
        }
      ]
    },
    {
      "cell_type": "code",
      "source": [
        "df_submission = pd.DataFrame({'client_id': df_test.client_id, 'pred': final_pred})\n",
        "df_submission"
      ],
      "metadata": {
        "execution": {
          "iopub.status.busy": "2023-01-08T18:05:02.099205Z",
          "iopub.execute_input": "2023-01-08T18:05:02.099772Z",
          "iopub.status.idle": "2023-01-08T18:05:02.116400Z",
          "shell.execute_reply.started": "2023-01-08T18:05:02.099739Z",
          "shell.execute_reply": "2023-01-08T18:05:02.115007Z"
        },
        "trusted": true,
        "id": "bhuITP-FEoE4",
        "outputId": "ce794a2b-37ac-4f24-b929-63931d0c3456"
      },
      "execution_count": null,
      "outputs": [
        {
          "execution_count": 46,
          "output_type": "execute_result",
          "data": {
            "text/plain": "        client_id      pred\n0      00010925a5  0.511012\n1      00035a21d9  0.534668\n2      00038f9200  0.534087\n3      0004315e57  0.497860\n4      0006fca4bf  0.520207\n...           ...       ...\n60007  fff9aa288c  0.535009\n60008  fff9f772f6  0.778102\n60009  fffe0ed719  0.518346\n60010  fffea1204c  0.521469\n60011  fffff6ce77  0.542264\n\n[60012 rows x 2 columns]",
            "text/html": "<div>\n<style scoped>\n    .dataframe tbody tr th:only-of-type {\n        vertical-align: middle;\n    }\n\n    .dataframe tbody tr th {\n        vertical-align: top;\n    }\n\n    .dataframe thead th {\n        text-align: right;\n    }\n</style>\n<table border=\"1\" class=\"dataframe\">\n  <thead>\n    <tr style=\"text-align: right;\">\n      <th></th>\n      <th>client_id</th>\n      <th>pred</th>\n    </tr>\n  </thead>\n  <tbody>\n    <tr>\n      <th>0</th>\n      <td>00010925a5</td>\n      <td>0.511012</td>\n    </tr>\n    <tr>\n      <th>1</th>\n      <td>00035a21d9</td>\n      <td>0.534668</td>\n    </tr>\n    <tr>\n      <th>2</th>\n      <td>00038f9200</td>\n      <td>0.534087</td>\n    </tr>\n    <tr>\n      <th>3</th>\n      <td>0004315e57</td>\n      <td>0.497860</td>\n    </tr>\n    <tr>\n      <th>4</th>\n      <td>0006fca4bf</td>\n      <td>0.520207</td>\n    </tr>\n    <tr>\n      <th>...</th>\n      <td>...</td>\n      <td>...</td>\n    </tr>\n    <tr>\n      <th>60007</th>\n      <td>fff9aa288c</td>\n      <td>0.535009</td>\n    </tr>\n    <tr>\n      <th>60008</th>\n      <td>fff9f772f6</td>\n      <td>0.778102</td>\n    </tr>\n    <tr>\n      <th>60009</th>\n      <td>fffe0ed719</td>\n      <td>0.518346</td>\n    </tr>\n    <tr>\n      <th>60010</th>\n      <td>fffea1204c</td>\n      <td>0.521469</td>\n    </tr>\n    <tr>\n      <th>60011</th>\n      <td>fffff6ce77</td>\n      <td>0.542264</td>\n    </tr>\n  </tbody>\n</table>\n<p>60012 rows × 2 columns</p>\n</div>"
          },
          "metadata": {}
        }
      ]
    },
    {
      "cell_type": "code",
      "source": [
        "df_submission.to_csv('submission.csv', index=False)"
      ],
      "metadata": {
        "execution": {
          "iopub.status.busy": "2023-01-08T18:05:38.229150Z",
          "iopub.execute_input": "2023-01-08T18:05:38.230550Z",
          "iopub.status.idle": "2023-01-08T18:05:38.374603Z",
          "shell.execute_reply.started": "2023-01-08T18:05:38.230499Z",
          "shell.execute_reply": "2023-01-08T18:05:38.373712Z"
        },
        "trusted": true,
        "id": "UcZ4H_ZbEoE4"
      },
      "execution_count": null,
      "outputs": []
    }
  ]
}